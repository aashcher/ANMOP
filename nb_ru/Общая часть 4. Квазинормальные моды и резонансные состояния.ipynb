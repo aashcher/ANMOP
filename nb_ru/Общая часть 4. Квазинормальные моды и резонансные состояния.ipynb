{
 "cells": [
  {
   "cell_type": "markdown",
   "id": "9a53e7f1",
   "metadata": {},
   "source": [
    "Лицензия ..."
   ]
  },
  {
   "cell_type": "markdown",
   "id": "d702e462",
   "metadata": {},
   "source": [
    "# Лекция 1.4. Квазинормальные моды и резонансные состояния."
   ]
  },
  {
   "cell_type": "markdown",
   "id": "9d122178",
   "metadata": {},
   "source": [
    "## Собственные состояния в открытых системах\n",
    "\n",
    "Если рассматривается какая-то область $\\Omega\\in\\mathbb{R}^3$, интегральные решения уравения Гельмгольца можно получить из теоремы Грина. Для некоторой векторной функции $\\boldsymbol{P}$ и тензорной функции $\\mathcal{Q}$, \n",
    "заданного объема $V$ и ограничивающей его поверхности $S$ эта теорема имеет вид\n",
    "\\begin{equation}\n",
    "    \\int_{V} \\left[ \\boldsymbol{P} \\cdot \\nabla\\times\\nabla\\times\\mathcal{Q} - \\left( \\nabla\\times\\nabla\\times\\boldsymbol{P}\\right) \\cdot \\mathcal{Q} \\right] dV = -\\oint_{S} \\left[ \\left(\\hat{\\boldsymbol{n}} \\times\\nabla\\times\\boldsymbol{P}\\right) \\cdot \\mathcal{Q} + \\left(\\hat{\\boldsymbol{n}}\\times\\boldsymbol{P}\\right) \\cdot \\nabla\\times\\mathcal{Q} \\right] dS\n",
    "\\end{equation}\n",
    "Если сделать подстановку\n",
    "\\begin{equation}\n",
    "    \\boldsymbol{P} = \\boldsymbol{E},\\thinspace \\mathcal{Q} = \\mathcal{G}_0(\\boldsymbol{r} - \\boldsymbol{r}')\n",
    "\\end{equation}\n",
    "воспользовать уравнением Гельмгольца для электрического поля, уравнением на функцию Грина, и законом Фарадея, получим\n",
    "\\begin{equation}\n",
    "    \\boldsymbol{E}(\\boldsymbol{r}') = ik_mZ \\int_{V} \\boldsymbol{J} \\cdot \\mathcal{G}_0 dV - \\oint_{S} \\left[ ik_mZ \\left(\\hat{\\boldsymbol{n}} \\times \\boldsymbol{H}\\right) \\cdot \\mathcal{G}_0 + \\left(\\hat{\\boldsymbol{n}}\\times\\boldsymbol{E}\\right) \\cdot \\nabla\\times\\mathcal{G}_0\\right] dS\n",
    "\\end{equation}\n",
    "Здесь введен импеданс $Z=\\sqrt{\\mu_m/\\varepsilon_m}$.\n",
    "\n",
    "Аналогично, для магнитного поля можно получить\n",
    "\\begin{equation}\n",
    "    \\boldsymbol{H}(\\boldsymbol{r}') = \\int_{V} \\boldsymbol{J} \\cdot \\nabla\\times\\mathcal{G}_0 dV + \\oint_{S} \\left[i\\dfrac{k_m}{Z}\\left(\\hat{\\boldsymbol{n}}\\times\\boldsymbol{E}\\right) \\cdot \\mathcal{G}_0 - \\left(\\hat{\\boldsymbol{n}} \\times \\boldsymbol{H}\\right)\\cdot\\nabla\\times\\mathcal{G}_0 \\right] dS\n",
    "\\end{equation}"
   ]
  },
  {
   "cell_type": "markdown",
   "id": "dcb72616",
   "metadata": {},
   "source": [
    "#### Литература\n",
    "\n",
    "1. E. A. Muljarov and T. Weiss, [Resonant-state expansion for open optical systems: generalization to magnetic, chiral, and bi-anisotropic materials](https://opg.optica.org/ol/fulltext.cfm?uri=ol-43-9-1978&id=385659), Opt. Lett. 43, 1978-1981 (2018)\n",
    "2. Philip Trøst Kristensen, Kathrin Herrmann, Francesco Intravaia, and Kurt Busch, [Modeling electromagnetic resonators using quasinormal modes](https://opg.optica.org/aop/fulltext.cfm?uri=aop-12-3-612&id=434464), Adv. Opt. Photon. 12, 612-708 (2020)\n",
    "3. E. A. Muljarov, W. Langbein, and R. Zimmermann, [Brillouin-Wigner Perturbation Theory in Open Electromagnetic Systems](https://iopscience.iop.org/article/10.1209/0295-5075/92/50010), EPL 92, 50010 (2010)."
   ]
  }
 ],
 "metadata": {
  "kernelspec": {
   "display_name": "Python 3",
   "language": "python",
   "name": "python3"
  },
  "language_info": {
   "codemirror_mode": {
    "name": "ipython",
    "version": 3
   },
   "file_extension": ".py",
   "mimetype": "text/x-python",
   "name": "python",
   "nbconvert_exporter": "python",
   "pygments_lexer": "ipython3",
   "version": "3.8.8"
  }
 },
 "nbformat": 4,
 "nbformat_minor": 5
}
