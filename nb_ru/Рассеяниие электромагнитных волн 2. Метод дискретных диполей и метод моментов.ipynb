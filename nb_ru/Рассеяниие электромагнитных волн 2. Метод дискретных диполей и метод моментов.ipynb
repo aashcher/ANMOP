{
 "cells": [
  {
   "cell_type": "markdown",
   "id": "5a3ba2b9",
   "metadata": {},
   "source": [
    "Лицензия MIT\n",
    "\n",
    "© Алексей Александрович Щербаков, 2024"
   ]
  },
  {
   "cell_type": "markdown",
   "id": "00ffec2d",
   "metadata": {},
   "source": [
    "# Лекция 4.2. Рассеяние электромагнитных волн. Приближение дискретных диполей и метод моментов"
   ]
  },
  {
   "cell_type": "markdown",
   "id": "ab869914",
   "metadata": {},
   "source": [
    "Теория Ми позволяет эффективно рассчитывать параметры рассеяния на сферических частицах, а её обобщения - на многослойных сферических частицах. Если форма рассеивателя отличается от сферической, расчет существенно усложняется. Для несферических рассеивателей был предложен ряд специальных методов, включающих приближение дискретных диполей, метод продолженных граничных условий, метод дискретных источников, метод инвариатного вложения, а также их различные модификации.\n",
    "\n",
    "В данной лекции мы рассмотрим метод дискретных диполей (Discrete Dipole Approximation), часто применяющийся при решении научных и прикладных задач и имеющий ряд эффективных реализаций в форме открытого кода. Метод основан на дискретизации объема и в разных источниках можно встретить его упоминания как метода моментов (для разбиения объема) (Method of Moments), метода тензорных функций Грина (Green's dyadic formalism), или просто метода объемного интегрального уравнения (Volume Integral Equation).\n",
    "\n",
    "Мы будем рассматривать рассеивающие частицы, занимающие пространственную область $V_s$ и расположенные в однородной изотропной среде, так что диэлектрическая проницаемость во всем пространстве задана функцией\n",
    "$$ \\varepsilon(\\boldsymbol{r}) = \\begin{cases} \\varepsilon_m, & \\boldsymbol{r}\\notin V_s \\\\ \\varepsilon(\\boldsymbol{r}), & \\boldsymbol{r}\\in V_s \\end{cases} $$\n",
    "Для простоты будем считать магнитную проницаемость равной проницаемости вакуума $\\mu_0$ всюду. Обобщение метода на случай анизотропных, магнитных и бианизотропных сред не представляет принципиальных сложностей."
   ]
  },
  {
   "cell_type": "markdown",
   "id": "c6d62281",
   "metadata": {},
   "source": [
    "## Расчет поля\n",
    "\n",
    "Приближение дискретных диполей основано на объемном интегральном уравнении с тензорной функцией Грина свободного пространства, являющегося решением векторного уравнения Гельмгольца с волновым числом в свободном пространстве, окружающем частицу, $k_m = \\omega\\sqrt{\\varepsilon_m\\mu_0}$. Рассмотрим частицу как изменение диэлектрической проницаемости однородного пространства $\\Delta\\varepsilon=\\varepsilon(\\boldsymbol{r})-\\varepsilon_m$. Тогда наличие частицы можно трактовать как эффективный ток поляризации\n",
    "\\begin{equation}\n",
    "    \\boldsymbol{J}=-i\\omega\\Delta\\varepsilon\\boldsymbol{E}.\n",
    "\\end{equation}\n",
    "и пользоваться тензорной функцией Грина свободного пространства. Запишем уравнение для интеграла с вмысле главного значения, как было продемонстрировано во вводной [лекции по функциям Грина]()\n",
    "\\begin{equation}\\tag{1}\n",
    "    \\boldsymbol{E}\\left(\\boldsymbol{r}\\right) = \\boldsymbol{E}^{inc}\\left(\\boldsymbol{r}\\right) + k_{m}^{2}\\lim_{V_0\\rightarrow 0} \\intop_{V_s\\setminus V_0} \\mathcal{G}_{0} \\left(\\boldsymbol{r}-\\boldsymbol{r}'\\right) \\dfrac{\\Delta\\varepsilon\\left(\\boldsymbol{r}'\\right)}{\\varepsilon_{m}}\\boldsymbol{E}\\left(\\boldsymbol{r}'\\right)d^{3}\\boldsymbol{r}' - \\mathcal{L}(\\boldsymbol{r}, \\partial V_0) \\dfrac{\\Delta\\varepsilon\\left(\\boldsymbol{r}\\right)}{\\varepsilon_{m}}\\boldsymbol{E}\\left(\\boldsymbol{r}\\right)\n",
    "\\end{equation}\n",
    "Здесь $\\boldsymbol{E}^{inc}$ - известное падающее поле, а тензорная функция Грина в явном виде\n",
    "\\begin{equation}\\tag{2}\n",
    "    \\mathcal{G}_0(\\boldsymbol{R}) = \\dfrac{e^{ikR}}{4\\pi R} \\left[ \\mathbb{I}\\left(1+\\dfrac{i}{kR}-\\dfrac{1}{k^{2}R^{2}}\\right)+\\hat{\\boldsymbol{e}}_r \\hat{\\boldsymbol{e}}_r^T \\left(\\dfrac{3}{k^{2}R^{2}} - \\dfrac{3i}{kR} - 1\\right)\\right]\n",
    "\\end{equation}\n",
    "где $\\boldsymbol{R} = \\boldsymbol{r}-\\boldsymbol{r}'$, $R = |\\boldsymbol{R}|$, $\\hat{\\boldsymbol{e}}_r = \\boldsymbol{R}/R$. Объем $V_0$ окружает точку $\\boldsymbol{r}$. Тензор $\\mathcal{L}$ иногда называется тензором деполяризации и имеет следующий явный вид, зависяций о формы поверхности исключаемого объема $V_0$:\n",
    "\\begin{equation}\\tag{2}\n",
    "    \\mathcal{L}\\left(\\boldsymbol{r},\\partial V_0\\right) = \\oint_{\\partial V_0}d^{2} \\boldsymbol{r}' \\hat{\\boldsymbol{n}}' \\dfrac{\\left(\\boldsymbol{r}'-\\boldsymbol{r}\\right)^{T}}{4\\pi\\left|\\boldsymbol{r}'-\\boldsymbol{r}\\right|^{3}}\n",
    "\\end{equation}\n",
    "\n",
    "Для численного решения уравнения Липпмана-Швингера разобъем объем частицы на электрически малые непересекающиеся объемные ячейки $V_m$, как правило, кубической формы, с одинаковым объёмом $\\Delta V = a^3$, так что $V_s=\\bigcup_{k=1}^{N}V_{k}$, и центры ячеек оказываются расположены на регулярной сетке $\\boldsymbol{r}_k = ak_x\\hat{\\boldsymbol{e}}_x + ak_y\\hat{\\boldsymbol{e}}_y + ak_z\\hat{\\boldsymbol{e}}_z$, $k_{x,y,z}\\in\\mathbb{Z}$, то есть под $k$ подразумевается трехмерный индекс для нумерации вдоль трёх пространственных направлений. Тогда, считая поле постоянным в объёме каждой ячейки, (что соответствует методу Галеркина с дельта-функциями $\\delta(\\boldsymbol{r}-\\boldsymbol{r}_k)$, взятых в качестве базовых и тестовых), получаем следующее уравнение на поля в ячейках:\n",
    "\\begin{equation}\\tag{3}\n",
    "    \\boldsymbol{E}\\left(\\boldsymbol{r}_k\\right) = \\boldsymbol{E}^{inc}\\left(\\boldsymbol{r}_k\\right) + k_{m}^{2} \\Delta V \\sum_{l=1,l\\neq k}^{N} \\mathcal{G}_{kl} \\dfrac{\\Delta\\varepsilon_l}{\\varepsilon_{m}} \\boldsymbol{E}_l + (\\mathcal{M}_k-\\mathcal{L}_k)  \\dfrac{\\Delta\\varepsilon_k}{\\varepsilon_{m}} \\boldsymbol{E}_k\n",
    "\\end{equation}\n",
    "Здесь введены обозначения $\\boldsymbol{E}_k = \\boldsymbol{E}\\left(\\boldsymbol{r}_k\\right)$, $\\Delta\\varepsilon_k = \\Delta\\varepsilon(\\boldsymbol{r}_k)$, и $\\mathcal{G}_{kl} = \\mathcal{G}_{0} \\left(\\boldsymbol{r}_k-\\boldsymbol{r}_l\\right)$. Тензор\n",
    "\\begin{equation}\\tag{4}\n",
    "    \\mathcal{M}_k\\left(\\boldsymbol{r},\\Delta V\\right) = k_m^2 \\int_{\\Delta V}\\left[\\mathcal{G}_{0}\\left(\\boldsymbol{r}_k-\\boldsymbol{r}'\\right)-\\mathcal{G}_{s}\\left(\\boldsymbol{r}_{k}-\\boldsymbol{r}'\\right)\\right] d^{3}\\boldsymbol{r}'\n",
    "\\end{equation}\n",
    "можно найти численно, но в расчетах, когда размер $a\\ll\\lambda$, им зачастую вообще пренебрегают. Вычитание статической части тензора Грина $\\mathcal{G}_{s} = \\lim_{kR\\rightarrow 0} \\mathcal{G}_{0}$, которая в явном виде записывается как $\\mathcal{G}_{s} = -(4\\pi k^2R^3)^{-1}(\\mathbb{I}-3\\hat{\\boldsymbol{e}}_R\\hat{\\boldsymbol{e}}_R^T)$, делает подынтегральное выражение слабо сингулярным.\n",
    "\n",
    "Уравнения (3) задают систему $3N$ самосогласованных линейных уравнений на неизвестные поля в каждой ячейке. Систему можно записать в матрично-векторном виде как\n",
    "\\begin{equation}\\tag{5}\n",
    "    \\left(\\mathbb{I} - \\mathrm{A}\\right) \\boldsymbol{u} = \\boldsymbol{u}^{inc}\n",
    "\\end{equation}\n",
    "где правая часть $\\boldsymbol{u}^{inc} = \\{ E^{inc}_{\\alpha,k} \\}_{k=1}^N$, $\\alpha=x,y,z$, неизвестный вектор $\\boldsymbol{u} = \\{ E_{\\alpha,k} \\}_{k=1}^N$, а элементы матрицы $A$ задаются уравнением (3):\n",
    "\\begin{equation}\\tag{6}\n",
    "    \\mathrm{A}_{kl} = k_m^2 \\Delta V \\dfrac{\\Delta\\varepsilon_{l}}{\\varepsilon_m}\\mathcal{G}_{kl} + \\delta_{kl}\\dfrac{\\Delta\\varepsilon_k}{\\varepsilon_m} \\left(\\mathcal{M}_k - \\mathcal{L}_k\\right)\n",
    "\\end{equation}\n",
    "\n",
    "В представленной формулировке метод представляет собой метод моментов. После решения системы (5) поле в произвольной точке в ближней зоне рассеянного поля можно найти с помощью прямого суммирования:\n",
    "\\begin{equation}\\tag{7}\n",
    "    \\boldsymbol{E}\\left(\\boldsymbol{r}\\right) = \\boldsymbol{E}^{inc}\\left(\\boldsymbol{r}\\right) + \\Delta V k_{m}^{2} \\sum_{k=1}^{N} \\mathcal{G}_{0}\\left(\\boldsymbol{r},\\boldsymbol{r}_{k}\\right) \\dfrac{\\Delta\\varepsilon_k}{\\varepsilon_m} \\boldsymbol{E}_k,\\thinspace\\boldsymbol{r}\\notin V_s\n",
    "\\end{equation}\n",
    "Для нахождения амплитуды поля в дальней зоне в направлении, заданном вектором $ \\hat{\\boldsymbol{e}}_r$, следует воспользоваться асимптотикой функции Грина\n",
    "\\begin{equation*}\n",
    "    \\mathcal{G}_{0}(\\boldsymbol{r}, \\boldsymbol{r}') \\sim \\left(\\mathbb{I} - \\hat{\\boldsymbol{e}}_r \\hat{\\boldsymbol{e}}_r^T\\right)\\dfrac{e^{ikr}}{4\\pi r}e^{-ik\\hat{\\boldsymbol{e}}_r\\cdot\\boldsymbol{r}'},\\;r\\gg r'\n",
    "\\end{equation*}\n",
    "что даёт представление рассеянного поля\n",
    "\\begin{equation}\\tag{8}\n",
    "    \\boldsymbol{E}^{sca}\\left(\\hat{\\boldsymbol{e}}_r\\right) \\sim \\dfrac{\\exp\\left(ik_{b}r\\right)}{r}\\boldsymbol{F}^{sca}\\left(\\hat{\\boldsymbol{e}}_r\\right)\n",
    "\\end{equation}\n",
    "с амплитудой рассеяния\n",
    "\\begin{equation}\\tag{9}\n",
    "    \\boldsymbol{F}^{sca}\\left(\\hat{\\boldsymbol{e}}_r\\right) = -k_m^{2} \\dfrac{\\Delta V}{4\\pi} \\sum_{k} \\dfrac{\\Delta\\varepsilon_k}{\\varepsilon_m}\\exp\\left(-ik_m\\hat{\\boldsymbol{e}}_r\\cdot\\boldsymbol{r}_k\\right) \\hat{\\boldsymbol{e}}_r\\times\\hat{\\boldsymbol{e}}_r\\times\\boldsymbol{E}_k\n",
    "\\end{equation}\n",
    "\n",
    "В рамках формулировки метода дискретных диполей вместо того, чтобы решать уравнение на неизвестные поля, можно выделить, так называемое, возбуждающее поле в каждой ячейке, вычитая диагональный член, соответствующий самодействию в формуле (3):\n",
    "\\begin{equation}\\tag{10}\n",
    "    \\boldsymbol{E}_k^{exc} = \\boldsymbol{E}_k - \\boldsymbol{E}_k^{self} = \\boldsymbol{E}_k-\\dfrac{\\Delta\\varepsilon_k}{\\varepsilon_m}\\left(k_m^{2}\\mathcal{M}_k-\\mathcal{L}_k\\right)\\boldsymbol{E}_k\n",
    "\\end{equation}\n",
    "Тогда самосогласованная система на это поле запишется как\n",
    "\\begin{equation}\\tag{11}\n",
    "    \\boldsymbol{E}_k^{inc} = \\sum_l \\left(\\delta_{kl}+\\mathcal{G}_{kl} \\boldsymbol{\\alpha}_l\\right) \\boldsymbol{E}_l^{exc}\n",
    "\\end{equation}\n",
    "где введен тензор поляризуемости\n",
    "\\begin{equation}\\tag{12}\n",
    "    \\boldsymbol{\\alpha}_k = \\dfrac{\\Delta\\varepsilon_k}{\\varepsilon_m}\\Delta V\\left[\\mathbb{I}-\\dfrac{\\Delta\\varepsilon_k}{\\varepsilon_m}\\left(k_m^2\\mathcal{M}_k-\\mathcal{L}_k\\right)\\right]^{-1}\n",
    "\\end{equation}\n",
    "связывающий вектор поляризации и возбуждающее поле в каждой ячейке:\n",
    "\\begin{equation}\\tag{13}\n",
    "    \\boldsymbol{P}_{k} = \\boldsymbol{\\alpha}_{k} \\boldsymbol{E}_{k}^{exc}\n",
    "\\end{equation}\n",
    "Заметим, что обращение в (13) относится к диагональной матрице, и, поэтому, не представляет вычислительной сложности.\n",
    "Итоговое уравнение можно сформулировать как уравнение на неизвестные поляризации:\n",
    "\\begin{equation}\\tag{14}\n",
    "    \\sum_{l}\\left( \\delta_{kl}\\boldsymbol{\\alpha}_{k}^{-1}+\\mathcal{G}_{kl} \\right)\\boldsymbol{P}_{l} = \\boldsymbol{E}_{k}^{inc}\n",
    "\\end{equation}\n",
    "В такой формулировке подход к расчету полей назвается приближением дискретных диполей. Название связано с тем, что простейшая формулировка метода может быть получена исходя из предположения, что отклик каждой малой объемной ячейки является дипольным, и требуется рассчитать взаимодействие всех заданных диполей друг с другом и с внешним полем."
   ]
  },
  {
   "cell_type": "markdown",
   "id": "7dd1df6d",
   "metadata": {},
   "source": [
    "## Сечения\n",
    "\n",
    "Сечения можно найти с помощью аплитуды рассеяния (9). Дифференциальная мощность рассеяния\n",
    "\\begin{equation}\\tag{15}\n",
    "    \\frac{dP^{sca}}{d\\Omega} = \\frac{1}{2Z_m} |\\boldsymbol{F}^{sca}(\\hat{\\boldsymbol{e}}_r)|^2\n",
    "\\end{equation}\n",
    "Полное сечение рассеяния\n",
    "\\begin{equation}\\tag{16}\n",
    "    C_{sca} = \\frac{1}{k_m^2} \\oint_{4\\pi} |\\boldsymbol{F}^{sca}(\\hat{\\boldsymbol{e}}_r)|^2 d\\Omega = \\frac{k_m^3}{E_{inc}^2} \\sum_{k,l} \\boldsymbol{P}_k^* \\cdot \\Im m \\{ \\mathcal{G}_{kl} \\} \\cdot \\boldsymbol{P}_l\n",
    "\\end{equation}\n",
    "где $E_{inc}$ - амплитуда поля падающей плоской волны. Сечение поглощения\n",
    "\\begin{equation}\\tag{17}\n",
    "    C_{abs} = -\\frac{k_m}{E_{inc}^2} \\sum_{k} \\Im m \\{ \\boldsymbol{E}_k^* \\cdot \\boldsymbol{P}_k^* \\}\n",
    "\\end{equation}\n",
    "и сечение экстинкции\n",
    "\\begin{equation}\\tag{18}\n",
    "    C_{ext} = -\\frac{k_m}{E_{inc}^2} \\sum_{k} \\Im m \\{ \\boldsymbol{E}_{inc,k}^* \\cdot \\boldsymbol{P}_k^* \\}\n",
    "\\end{equation}\n",
    "где $ \\boldsymbol{E}_{inc,k}$ - векторная комплексная амплитуда поля падающей плоской волны в $k$-й ячейке."
   ]
  },
  {
   "cell_type": "markdown",
   "id": "05d2ae2e",
   "metadata": {},
   "source": [
    "### Литература\n",
    "\n",
    "1. A Lakhtakia, [Strong and weak forms of the method of moments and the coupled dipole method for scattering of time-harmonic electromagnetic fields](https://sites.esm.psu.edu/~axl4/lakhtakia/Documents/No168(IJMPC).pdf), International Journal of Modern Physics C 3 , 583-603 (1992)\n",
    "2. M. A. Yurkin. Chapter 9: [Discrete dipole approximation](https://scattering.ru/books/Yurkin%20-%202023%20-%20Discrete%20dipole%20approximation.pdf). Light, Plasmonics and Particles. Elsevier Science Publishing Company, Inc., 2023. стр. 167-198 (Light, Plasmonics and Particles).\n",
    "3. [ADDA Software](https://github.com/adda-team/adda)"
   ]
  }
 ],
 "metadata": {
  "kernelspec": {
   "display_name": "Python 3",
   "language": "python",
   "name": "python3"
  },
  "language_info": {
   "codemirror_mode": {
    "name": "ipython",
    "version": 3
   },
   "file_extension": ".py",
   "mimetype": "text/x-python",
   "name": "python",
   "nbconvert_exporter": "python",
   "pygments_lexer": "ipython3",
   "version": "3.8.8"
  }
 },
 "nbformat": 4,
 "nbformat_minor": 5
}
