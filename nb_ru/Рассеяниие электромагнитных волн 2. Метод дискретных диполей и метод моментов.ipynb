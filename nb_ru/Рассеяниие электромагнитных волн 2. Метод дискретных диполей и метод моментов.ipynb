{
 "cells": [
  {
   "cell_type": "markdown",
   "id": "5a3ba2b9",
   "metadata": {},
   "source": [
    "Лицензия MIT\n",
    "\n",
    "© Алексей Александрович Щербаков, 2024"
   ]
  },
  {
   "cell_type": "markdown",
   "id": "00ffec2d",
   "metadata": {},
   "source": [
    "# Лекция 4.2. Рассеяние электромагнитных волн. Приближение дискретных диполей и метод моментов"
   ]
  },
  {
   "cell_type": "markdown",
   "id": "ab869914",
   "metadata": {},
   "source": [
    "Теория Ми позволяет эффективно рассчитывать параметры рассеяния на сферических частицах, а её обобщения - на многослойных сферических частицах. Если форма рассеивателя отличается от сферической, расчет существенно усложняется. Для несферических рассеивателей был предложен ряд специальных методов, включающих приближение дискретных диполей, метод продолженных граничных условий, метод дискретных источников, метод инвариатного вложения, а также их различные модификации. Здесь рассмотрим два подхода, которые являются одними из наиболее распространенных."
   ]
  },
  {
   "cell_type": "markdown",
   "id": "c6d62281",
   "metadata": {},
   "source": [
    "Приближение дискретных диполей основано на объемном интегральном уравнении с тензорной функцией Грина свободного пространства\n",
    "\\begin{equation}\n",
    "    \\boldsymbol{E}\\left(\\boldsymbol{r}\\right) = \\boldsymbol{E}^{inc}\\left(\\boldsymbol{r}\\right) + i\\omega\\mu_{0}\\int \\mathcal{G}_{0}\\left(\\boldsymbol{r}-\\boldsymbol{r}'\\right) \\boldsymbol{J}\\left(\\boldsymbol{r}'\\right)d^{3}\\boldsymbol{r}'\n",
    "\\end{equation}\n",
    "где $\\boldsymbol{E}^{inc}$ - известное падающее поле. Пусть рассеивающая частица занимает конечный объем $\\Omega\\in\\mathbb{R}^3$ и окружена бесконечной однородной изотропной немагнитной средой с диэлектрической проницаемостью $\\varepsilon_m$. Диэлектрическая проницаемость в области частицы задается некоторой кусочно-гладкой функцией координат $\\varepsilon(\\boldsymbol{r})$. Неоднородность вносимую частицей в окружающее однородное пространство с точки зрения уравнений электродинамики можно интерпретировать как эффективный ток\n",
    "\\begin{equation}\n",
    "    \\boldsymbol{J}=-i\\omega\\Delta\\varepsilon\\boldsymbol{E},\\;\\Delta\\varepsilon = \\varepsilon(\\boldsymbol{r}) - \\varepsilon_m\n",
    "\\end{equation}\n",
    "Подставляя этот ток в интегральное уравнение, получаем уравнение Липпмана-Швингера на неизвестное электрическое поле\n",
    "\\begin{equation}\n",
    "    \\boldsymbol{E}\\left(\\boldsymbol{r}\\right) = \\boldsymbol{E}^{inc}\\left(\\boldsymbol{r}\\right) + k_{m}^{2}\\int_{\\Omega} \\mathcal{G}_{0} \\left(\\boldsymbol{r}-\\boldsymbol{r}'\\right) \\dfrac{\\Delta\\varepsilon\\left(\\boldsymbol{r}'\\right)}{\\varepsilon_{m}}\\boldsymbol{E}\\left(\\boldsymbol{r}'\\right)d^{3}\\boldsymbol{r}'\n",
    "\\end{equation}\n",
    "где $k_m = \\omega\\sqrt{\\varepsilon_m\\mu_m}$.\n",
    "\n",
    "Ранее была рассмотрен подход к выделению сингулярности тензорной функции функции Грина. Здесь мы воспользуемся его результатами, но в немного измененном виде, имея ввиду, что при численном решении объемного интегрального уравнения, будет введена дискретизация объема рассеивающей частицы. Выделим сингулярную часть функции Грина\n",
    "\\begin{equation}\n",
    "    \\mathcal{G}_{s}\\left(\\boldsymbol{r}-\\boldsymbol{r}'\\right)=\\dfrac{1}{k_{b}^{2}}\\nabla\\nabla\\left(\\dfrac{1}{4\\pi\\left|\\boldsymbol{r}-\\boldsymbol{r}'\\right|}\\right)\n",
    "\\end{equation}\n",
    "и выделим малый объем $\\Delta V$ около точки $\\boldsymbol{r}=\\boldsymbol{r}'$:\n",
    "\\begin{align}\n",
    "    \\boldsymbol{I}\\left(\\boldsymbol{r}\\right) = \\int_{V} \\mathcal{G}_{0}\\left(\\boldsymbol{r}-\\boldsymbol{r}'\\right) \\boldsymbol{J}\\left(\\boldsymbol{r}'\\right) d^{3}\\boldsymbol{r}' &= \\int_{V\\backslash \\Delta V} \\mathcal{G}_{0}\\left(\\boldsymbol{r}-\\boldsymbol{r}'\\right) \\boldsymbol{J}\\left(\\boldsymbol{r}'\\right)d^{3}\\boldsymbol{r}' + \\\\\n",
    "    &+ \\int_{\\Delta V} \\left[\\mathcal{G}_{0}\\left(\\boldsymbol{r}-\\boldsymbol{r}'\\right) \\boldsymbol{J}\\left(\\boldsymbol{r}'\\right) - \\mathcal{G}_{s}\\left(\\boldsymbol{r}-\\boldsymbol{r}'\\right) \\boldsymbol{J} \\left(\\boldsymbol{r}\\right)\\right]d^{3} \\boldsymbol{r}' - \\frac{1}{k_{m}^{2}}\\oint_{\\Delta S} d^{2}\\boldsymbol{r}'\\hat{\\boldsymbol{n}}' \\dfrac{\\left(\\boldsymbol{r}'-\\boldsymbol{r}\\right) \\cdot \\boldsymbol{J} \\left(\\boldsymbol{r}\\right)} {\\left|\\boldsymbol{r}'-\\boldsymbol{r}\\right|^{3}}\n",
    "\\end{align}\n",
    "и в длинноволновом приближении для малого объема $\\Delta V$ получаем\n",
    "\\begin{align}\n",
    "    \\boldsymbol{I}\\left(\\boldsymbol{r}\\right) \\approx & \\int_{V\\backslash \\Delta V}\\mathcal{G}_{0}\\left(\\boldsymbol{r}-\\boldsymbol{r}'\\right) \\boldsymbol{J}\\left(\\boldsymbol{r}\\right)d^{3}\\boldsymbol{r}' + \\\\\n",
    "    &+ \\int_{\\Delta V}\\left[\\mathcal{G}_{0}\\left(\\boldsymbol{r}-\\boldsymbol{r}'\\right) - \\mathcal{G}_{s}\\left(\\boldsymbol{r}-\\boldsymbol{r}'\\right) \\right] \\boldsymbol{J}\\left(\\boldsymbol{r}\\right)d^{3}\\boldsymbol{r}' - \\\\\n",
    "    &- \\dfrac{1}{k_{m}^{2}} \\oint_{\\Delta S}d^{2}\\boldsymbol{r}' \\hat{\\boldsymbol{n}}' \\dfrac{\\left(\\boldsymbol{r}'-\\boldsymbol{r}\\right) \\cdot \\boldsymbol{J}\\left(\\boldsymbol{r}\\right)}{\\left|\\boldsymbol{r}'-\\boldsymbol{r}\\right|^{3}}\n",
    "\\end{align}\n",
    "Если взять $V = \\Delta V$, получим\n",
    "\\begin{equation}\n",
    "    \\boldsymbol{I}\\left(\\boldsymbol{r}\\right) \\approx \\left[\\mathcal{M}\\left(\\boldsymbol{r},\\Delta V\\right) - \\dfrac{1}{k_{m}^{2}} \\mathcal{L}\\left(\\boldsymbol{r},\\Delta S\\right)\\right] \\boldsymbol{J}\\left(\\boldsymbol{r}\\right)\n",
    "\\end{equation}\n",
    "где\n",
    "\\begin{equation}\n",
    "    \\mathcal{M}\\left(\\boldsymbol{r},\\Delta V\\right) = \\int_{\\Delta V}\\left[\\mathcal{G}_{0}\\left(\\boldsymbol{r}-\\boldsymbol{r}'\\right)-\\mathcal{G}_{s}\\left(\\boldsymbol{r}_{0}-\\boldsymbol{r}'\\right)\\right] d^{3}\\boldsymbol{r}'\n",
    "\\end{equation}\n",
    "\n",
    "\\begin{equation}\n",
    "    \\mathcal{L}\\left(\\boldsymbol{r},\\Delta S\\right) = \\oint_{\\Delta S}d^{2} \\boldsymbol{r}' \\hat{\\boldsymbol{n}}' \\dfrac{\\left(\\boldsymbol{r}'-\\boldsymbol{r}\\right)^{T}}{\\left|\\boldsymbol{r}'-\\boldsymbol{r}\\right|^{3}}\n",
    "\\end{equation}\n",
    "Тензор $\\mathcal{L}$ называется тензором деполяризации. Тензор $\\mathcal{M}$ можно найти численно для заданного малого объема. Если считать, что $\\Delta V\\rightarrow 0$, то $\\boldsymbol{I}\\approx -(1/k_m^2) \\mathcal{L} \\boldsymbol{J}$.\n",
    "\n",
    "Для численного решения уравнения Липпмана-Швингера разобъем объем частицы на электрически малые непересекающиеся кубические объемы $V_m$, так что $V=\\bigcup_{m=1}^{N}V_{m}$:\n",
    "\\begin{equation}\n",
    "    \\boldsymbol{E}\\left(\\boldsymbol{r}\\right) = \\boldsymbol{E}^{inc}\\left(\\boldsymbol{r}\\right) + k_{m}^{2}\\sum_{m=1}^{N} \\int_{V_{m}} \\mathcal{G}_{0}\\left(\\boldsymbol{r}-\\boldsymbol{r}'\\right) \\dfrac{\\Delta\\varepsilon\\left(\\boldsymbol{r}'\\right)}{\\varepsilon_{m}}\\boldsymbol{E} \\left(\\boldsymbol{r}'\\right)d^{3}\\boldsymbol{r}'\n",
    "\\end{equation}\n",
    "Квазистатическое приближение для каждого малого объема приводит алгебраической системе уравнений на неизвестное электрическое поле в каждой малой кубической ячейке $\\boldsymbol{E}_{m}=\\boldsymbol{E}\\left(\\boldsymbol{r}_{m}\\right)$, $\\boldsymbol{r}_{m}\\in V_{m}$:\n",
    "\\begin{equation}\n",
    "    \\boldsymbol{E}_{m}^{inc} = \\sum_{n}\\left(\\delta_{mn} - \\mathrm{A}_{mn}\\right) \\boldsymbol{E}_{n}\n",
    "\\end{equation}\n",
    "с матрицей\n",
    "\\begin{equation}\n",
    "    \\mathrm{A}_{mn} = \\delta_{mn}\\dfrac{\\Delta\\varepsilon_{m}}{\\varepsilon_{m}} \\left(k_{m}^{2} \\mathcal{M}_{m} - \\mathcal{L}_{m}\\right) + \\dfrac{\\Delta\\varepsilon_{n}}{\\varepsilon_{m}}\\mathcal{G}_{0}\\left(\\boldsymbol{r}_{m}-\\boldsymbol{r}_{n}\\right)\\Delta V_{n}\n",
    "\\end{equation}\n",
    "Данный подход представляет собой метод моментов. После решения системы поле в ближней зоне находится с помощью матрично-векторного умножения:\n",
    "\\begin{equation}\n",
    "    \\boldsymbol{E}\\left(\\boldsymbol{r}\\right) = \\boldsymbol{E}^{inc}\\left(\\boldsymbol{r}\\right) + k_{b}^{2} \\sum_{m=1}^{N} \\Delta V_{m} \\mathcal{G}_{0}\\left(\\boldsymbol{r},\\boldsymbol{r}_{m}\\right) \\dfrac{\\Delta\\varepsilon_{m}}{\\varepsilon_{b}} \\boldsymbol{E}_{m},\\thinspace\\boldsymbol{r}\\notin V\n",
    "\\end{equation}\n",
    "Для нахождения амплитуды поля в дальней зоне в направлении, заданном вектором $\\hat{\\boldsymbol{n}}_{sca}$, следует воспользоваться асимптотикой функции Грина, что даёт\n",
    "\\begin{equation}\n",
    "    \\boldsymbol{E}^{sca}\\left(\\hat{\\boldsymbol{n}}_{sca}\\right) \\sim \\dfrac{\\exp\\left(ik_{b}r\\right)}{r}\\boldsymbol{F}^{sca}\\left(\\hat{\\boldsymbol{n}}_{sca}\\right)\n",
    "\\end{equation}\n",
    "с амплитудой рассеяния\n",
    "\\begin{equation}\n",
    "    \\boldsymbol{F}^{sca}\\left(\\hat{\\boldsymbol{n}}_{sca}\\right) = -k_{b}^{2}\\sum_{m}\\dfrac{\\Delta V_{m}}{4\\pi}\\dfrac{\\Delta\\varepsilon_{m}}{\\varepsilon_{b}}\\exp\\left(-ik_{b}\\hat{\\boldsymbol{n}}_{sca}\\cdot\\boldsymbol{r}_{m}\\right)\\hat{\\boldsymbol{n}}_{sca}\\times\\hat{\\boldsymbol{n}}_{sca}\\times\\boldsymbol{E}_{m}\n",
    "\\end{equation}\n",
    "\n",
    "Вместо того, чтобы решать уравнение на неизвестные поля, можно выделить так называемое возбуждающее поле в каждой малой кубической ячейке:\n",
    "\\begin{equation}\n",
    "    \\boldsymbol{E}_{m}^{exc} = \\boldsymbol{E}_{m} - \\boldsymbol{E}_{m}^{self} = \\boldsymbol{E}_{m}-\\dfrac{\\Delta\\varepsilon_{m}}{\\varepsilon_{b}}\\left(k_{b}^{2}\\boldsymbol{M}_{m}-\\boldsymbol{L}_{m}\\right)\\boldsymbol{E}_{m}\n",
    "\\end{equation}\n",
    "и записать самосогласованную систему на это поле:\n",
    "\\begin{equation}\n",
    "    \\boldsymbol{E}_{m}^{inc}=\\sum_{n}\\left[\\delta_{mn}+\\mathcal{G}_{0}\\left(\\boldsymbol{r}_{m}-\\boldsymbol{r}_{n}\\right)\\boldsymbol{\\alpha}_{n}\\right]\\boldsymbol{E}_{n}^{exc}\n",
    "\\end{equation}\n",
    "где\n",
    "\\begin{equation}\n",
    "    \\boldsymbol{\\alpha}_{m} = \\dfrac{\\Delta\\varepsilon_{m}}{\\varepsilon_{b}}\\Delta V_{m}\\left[\\mathbb{I}-\\dfrac{\\Delta\\varepsilon_{m}}{\\varepsilon_{b}}\\left(k_{b}^{2}\\mathcal{M}_{m}-\\mathcal{L}_{m}\\right)\\right]^{-1}\n",
    "\\end{equation}\n",
    "является тензором поляризуемости. При этом вектор поляризации в каждой ячейке\n",
    "\\begin{equation}\n",
    "    \\boldsymbol{P}_{m} = \\boldsymbol{\\alpha}_{m}\\boldsymbol{E}_{m}^{exc}\n",
    "\\end{equation}\n",
    "так что итоговое уравнение можно сформулировать как уравнение на неизвестные поляризации:\n",
    "\\begin{equation}\n",
    "    \\boldsymbol{E}_{m}^{inc} = \\sum_{n}\\left[\\delta_{mn}\\boldsymbol{\\alpha}_{m}^{-1}+\\mathcal{G}_{0}\\left(\\boldsymbol{r}_{m}-\\boldsymbol{r}_{n}\\right)\\boldsymbol{\\alpha}_{n}\\right]\\boldsymbol{P}_{n}\n",
    "\\end{equation}\n",
    "В такой формулировке подход к расчету полей назвается приближением дискретных диполей (DDA). Простейшая версия DDA может быть получена исходя из предположения того, что отклик каждой малой объемной ячейки является дипольным, и требуется рассчитать взаимодействие всех заданных диполей друг с другом и с внешним полем."
   ]
  }
 ],
 "metadata": {
  "kernelspec": {
   "display_name": "Python 3",
   "language": "python",
   "name": "python3"
  },
  "language_info": {
   "codemirror_mode": {
    "name": "ipython",
    "version": 3
   },
   "file_extension": ".py",
   "mimetype": "text/x-python",
   "name": "python",
   "nbconvert_exporter": "python",
   "pygments_lexer": "ipython3",
   "version": "3.8.8"
  }
 },
 "nbformat": 4,
 "nbformat_minor": 5
}
