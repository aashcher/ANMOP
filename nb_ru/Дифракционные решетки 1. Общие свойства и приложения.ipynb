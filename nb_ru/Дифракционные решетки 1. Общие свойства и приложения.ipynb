{
 "cells": [
  {
   "cell_type": "markdown",
   "id": "5a3ba2b9",
   "metadata": {},
   "source": [
    "Лицензия ..."
   ]
  },
  {
   "cell_type": "markdown",
   "id": "00ffec2d",
   "metadata": {},
   "source": [
    "# Дифракционные решетки. Общие свойства и приложения"
   ]
  },
  {
   "cell_type": "markdown",
   "id": "ab869914",
   "metadata": {},
   "source": [
    "Дифракционные решеткие - оптические компоненты, материальные и/или геометрические параметры которых периодически изменяются в одном или двух измерениях, при этом, масштаб периода может варьироваться от величин, меньших длин волн излучения, взимодействующего с решеткой, до десятков длин волн. Периодичность дифракционных решеток приводит возникновению так называемых дифракционных порядков - световых лучей в дальней зоне излучения, распространяющихся в определенных дискретных направлениях относительно падающего на решетку луча/светового пучка.\n",
    "\n",
    "Если на дифракционную решетку падает плоская монохроматическая электромагнтитная волна под некоторым углом $\\theta_{inc}$, то период решетки $\\Lambda$, длина волны излучения $\\lambda$, угол падения, и углы дифракции дифракционных порядков $\\theta_m$ - набора плоских волн, распространяющихся от решетки, связаны уравнением решетки:\n",
    "\\begin{equation}\n",
    "    m\\lambda = \\Lambda(\\sin\\theta_{inc} + \\sin\\theta_{m}),\\;m\\in\\mathbb{Z}\n",
    "\\end{equation}\n",
    "Значения $m=1,2,\\dots$ соответствуют первому, второму и так далее порядкам дифракции.\n",
    "\n",
    "<figure>\n",
    "    <center>\n",
    "    <img src=\"https://www.edmundoptics.com/media/ifvcysvn/all-about-diffraction-gratings-fig2.jpg?rmode=max\" width=400 align=\\\"center\\\"/>\n",
    "        <figcaption>Дифракция плоской волны на решетке (изображение с сайта https://www.edmundoptics.com)</figcaption>\n",
    "    </center>\n",
    "</figure>\n",
    "\n"
   ]
  }
 ],
 "metadata": {
  "kernelspec": {
   "display_name": "Python 3",
   "language": "python",
   "name": "python3"
  },
  "language_info": {
   "codemirror_mode": {
    "name": "ipython",
    "version": 3
   },
   "file_extension": ".py",
   "mimetype": "text/x-python",
   "name": "python",
   "nbconvert_exporter": "python",
   "pygments_lexer": "ipython3",
   "version": "3.8.8"
  }
 },
 "nbformat": 4,
 "nbformat_minor": 5
}
