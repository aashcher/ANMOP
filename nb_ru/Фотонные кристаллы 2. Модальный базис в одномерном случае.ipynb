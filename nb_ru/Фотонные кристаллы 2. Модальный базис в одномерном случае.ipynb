{
 "cells": [
  {
   "cell_type": "markdown",
   "id": "2badadd6",
   "metadata": {},
   "source": [
    "Лицензия MIT\n",
    "\n",
    "© Алексей Александрович Щербаков, 2024"
   ]
  },
  {
   "cell_type": "markdown",
   "id": "a7bef001",
   "metadata": {},
   "source": [
    "# Лекция 2.2. Фотонные кристаллы. Полный модальный базис в одномерном случае"
   ]
  },
  {
   "cell_type": "markdown",
   "id": "746a64ed",
   "metadata": {},
   "source": [
    "В данной лекции рассмотрим аналитическое решение для одномерного фотонного кристалла, ячейка которого состоит из двух слоёв различных материалов с параметрами $\\varepsilon_{1,2}$ и $\\mu_{1,2}$. Данная модель является прямым аналогом модели Кронига-Пенни в электронной теории твердых тел, но в отличие от квантовомеханического случая, где периодическая система прямоугольных ям является лишь приближением потенциала, позволяющим получить аналитическое решение, в оптике кусочно-постоянное изменение материальных параметров среды описывает реально существующие структуры (если пренебрегать их внешними границами) - брэгговские зеркала."
   ]
  },
  {
   "cell_type": "markdown",
   "id": "55fbf405",
   "metadata": {},
   "source": [
    "## Уравнение Гельмгольца\n",
    "\n",
    "Пусть границы разделов материалов в одномерном фотонном кристалле с периодом $\\Lambda$ параллельны плоскостям $XY$ декартовой системы координат, так что периодичность задается направлением оси $Z$. Без ограничения общности можно считать поля не зависящими от координаты $y$, и уравнения Максвелла разделятся для ТЕ и ТМ поляризации соответственно:\n",
    "\\begin{equation}\\tag{1}\n",
    "    \\begin{array}{c}\n",
    "    -\\dfrac{\\partial E_{y}}{\\partial z} = i\\omega\\mu H_{x} \\\\\n",
    "    \\dfrac{\\partial E_{y}}{\\partial x} = i\\omega\\mu H_{z} \\\\\n",
    "    \\dfrac{\\partial H_{x}}{\\partial z}-\\dfrac{\\partial H_{z}}{\\partial x} = -i\\omega\\varepsilon E_{y}\n",
    "    \\end{array}\n",
    "\\end{equation}\n",
    "и\n",
    "\\begin{equation}\\tag{2}\n",
    "    \\begin{array}{c}\n",
    "    \\dfrac{\\partial H_{y}}{\\partial z} = i\\omega\\varepsilon E_{x} \\\\\n",
    "    \\dfrac{\\partial H_{y}}{\\partial x} = -i\\omega\\varepsilon E_{z} \\\\\n",
    "    \\dfrac{\\partial E_{x}}{\\partial z}-\\dfrac{\\partial E_{z}}{\\partial x} = i\\omega\\mu H_{y}\n",
    "    \\end{array}\n",
    "\\end{equation}\n",
    "Уравнения Гельмгольца, следующие из этих двух, систем можно записать в едином не зависящем от поляризации виде\n",
    "\\begin{equation}\\tag{3}\n",
    "    \\dfrac{\\partial}{\\partial z}\\left(\\dfrac{1}{\\eta\\left(z\\right)}\\dfrac{\\partial F}{\\partial z}\\right)+\\dfrac{1}{\\eta\\left(z\\right)}\\dfrac{\\partial^{2}F}{\\partial x^{2}}+\\omega^{2}\\zeta\\left(z\\right)F=0\n",
    "\\end{equation}\n",
    "где $F^{s}\\left(x,z\\right) = E_{y}\\left(x,z\\right)$, $\\eta^s=\\mu$ для ТЕ поляризации и $F^p\\left(x,y\\right) = H_{y}\\left(x,y\\right)$, $\\eta^p=\\varepsilon$ для ТМ поляризации. Также обозначим вторую ненулевую компоненту поля в плоскости слоёв символом $G$, так что $G^s = H_x$ и $G^p = E_x$. Эту компоненту можно найти из уравнений (1),(2): $G^{x,p} = (\\pm)_{s,p}(i/\\omega\\eta^{s,p}) dF^{s,p}/dz$. Уравнение Гельмгольца дополняется условиями непрерывности полей $F$ и $G$ на границах разделов сред между слоями кристалла и условием квазипериодичности."
   ]
  },
  {
   "cell_type": "markdown",
   "id": "4bbb27af",
   "metadata": {},
   "source": [
    "## Дисперсионное уравнение\n",
    "\n",
    "Для решения уравнения воспользуемся методом разделения переменных. Записывая $F=u\\left(x\\right)v\\left(z\\right)$, мы приходим к двум уравнениям на новые функции:\n",
    "\\begin{split}\\tag{4}\n",
    "    \\dfrac{1}{u\\left(x\\right)}\\dfrac{d^{2}u\\left(x\\right)}{dx^{2}} &= -\\beta^{2} \\\\\n",
    "    \\dfrac{\\eta\\left(z\\right)}{v\\left(z\\right)}\\dfrac{d}{dz}\\left(\\dfrac{1}{\\eta\\left(z\\right)}\\dfrac{\\partial v\\left(z\\right)}{\\partial z}\\right) & + \\left[ \\omega^{2}\\varepsilon\\left(z\\right)\\mu\\left(z\\right)-\\beta^{2} \\right] = 0\n",
    "\\end{split}\n",
    "Решение первого соответствует трансляционной инвариантности полей вдоль оси $X$ (направления вдоль плоскостей кристалла) и задается экспонентой\n",
    "\\begin{equation}\\tag{5}\n",
    "    u\\left(x\\right)\\sim\\exp\\left(i\\beta x\\right)\n",
    "\\end{equation}\n",
    "с константой распространения $\\beta$. Второй оператор в случае, когда материальные параметры являются действительными функциями координат, является самосопряженным. Следовательно, его собственные значения $\\beta^2$ вещественны, а собственные векторы, соответствующие этим значениям, ортогональны. Соотношение ортогональности записывается как\n",
    "\\begin{equation}\\tag{6}\n",
    "    \\dfrac{1}{\\Lambda}\\intop_{0}^{\\Lambda}\\dfrac{v_{m}\\left(z\\right) v^*_{n}\\left(z\\right)}{\\omega\\eta\\left(z\\right)}dz=\\delta_{mn}\n",
    "\\end{equation}\n",
    "\n",
    "В рассматриваемом нами случае двух однородных слоев с толщинами $d_{1,2}$ на периоде ($d_1+d_2=\\Lambda$) уравнение на функцию $v(z)$ в каждом слое сводится к уравнению второго порядка с постоянными коэффициентами\n",
    "\\begin{equation}\\tag{7}\n",
    "    \\dfrac{d^{2}v\\left(z\\right)}{dz^{2}}+\\kappa_{1,2}^{2}v\\left(z\\right)=0\n",
    "\\end{equation}\n",
    "где $\\kappa_{1,2}=\\sqrt{\\omega^{2}\\varepsilon_{1,2}\\mu_{1,2}-\\beta^{2}}$. Решения этого уравнения выразим в форме\n",
    "\\begin{equation}\\tag{8}\n",
    "    v\\left(z\\right)=\\begin{cases}\n",
    "\\mathcal{A}_{1}^{+}e^{i\\kappa_{1}z}+\\mathcal{A}_{1}^{-}e^{-i\\kappa_{1}z} & 0\\leq z\\leq d_{1}\\\\\n",
    "\\mathcal{A}_{2}^{+}e^{i\\kappa_{2}\\left(z-d_{1}\\right)}+\\mathcal{A}_{2}^{-}e^{-i\\kappa_{2}\\left(z-d_{1}\\right)} & d_{1}\\leq z\\leq\\Lambda\n",
    "\\end{cases}\n",
    "\\end{equation}\n",
    "Постоянные коэффициенты $\\mathcal{A}_{1,2}^{\\pm}$ связаны друг с другом условиями сопряжения и квазипериодичности:\n",
    "\\begin{split}\\tag{9}\n",
    "    v\\left(d_{1}-0\\right) = v\\left(d_{1}+0\\right) \\\\\n",
    "    e^{ik_{B}\\Lambda}v\\left(0\\right) = v\\left(\\Lambda\\right)\n",
    "\\end{split}\n",
    "Те же условия, записанные для второй компоненты поля $G$, дают аналогичные условия для функции $\\left(1/\\eta\\right)dv/dz$. В итоге получается система из четырёх уравнений\n",
    "\\begin{split}\\tag{10}\n",
    "    \\mathcal{A}_{1}^{+}e^{i\\kappa_{1}d_{1}}+\\mathcal{A}_{1}^{-}e^{-i\\kappa_{1}d_{1}} = \\mathcal{A}_{2}^{+}+\\mathcal{A}_{2}^{-} \\\\\n",
    "    e^{ik_{B}\\Lambda}\\left(\\mathcal{A}_{1}^{+} + \\mathcal{A}_{1}^{-}\\right) = \\mathcal{A}_{2}^{+}e^{i\\kappa_{2}d_{2}}+\\mathcal{A}_{2}^{-}e^{-i\\kappa_{2}d_{2}} \\\\\n",
    "    \\dfrac{\\kappa_{1}}{\\omega\\eta_{1}}\\left(\\mathcal{A}_{1}^{+}e^{i\\kappa_{1}d_{1}}-\\mathcal{A}_{1}^{-}e^{-i\\kappa_{1}d_{1}}\\right) = \\dfrac{\\kappa_{2}}{\\omega\\eta_{2}}\\left(\\mathcal{A}_{2}^{+}- \\mathcal{A}_{2}^{-}\\right) \\\\\n",
    "    e^{ik_{B}\\Lambda}\\dfrac{\\kappa_{1}}{\\omega\\eta_{1}}\\left(\\mathcal{A}_{1}^{+}-\\mathcal{A}_{1}^{-}\\right) = \\dfrac{\\kappa_{2}}{\\omega\\eta_{2}}\\left(\\mathcal{A}_{2}^{+}e^{i\\kappa_{2}d_{2}}-\\mathcal{A}_{2}^{-}e^{-i\\kappa_{2}d_{2}}\\right)\n",
    "\\end{split}\n",
    "Приравнивая детерминант к нулю, после несложных алгебраических преобразований получаем дисперсионное уравнение:\n",
    "\\begin{equation}\\tag{11}\n",
    "    \\cos\\left(\\kappa_{1}d_{1}\\right)\\cos\\left(\\kappa_{2}d_{2}\\right)-\\dfrac{1}{2}\\left(\\dfrac{\\kappa_{1}}{\\eta_{1}}\\dfrac{\\eta_{2}}{\\kappa_{2}}+\\dfrac{\\eta_{1}}{\\kappa_{1}}\\dfrac{\\kappa_{2}}{\\eta_{2}}\\right)\\sin\\left(\\kappa_{1}d_{1}\\right)\\sin\\left(\\kappa_{2}d_{2}\\right) = \\cos\\left(k_{B}\\Lambda\\right)\n",
    "\\end{equation}\n",
    "которое для действительных $\\varepsilon_{1,2}$, $\\mu_{1,2}$ имеет бесконечный дискретный набор решений $\\beta_m^2$. Для заданных параметров кристалла имеется конечное число $\\beta_m^2 > 0$, соответствующих распространяющимся вдоль оси $x$ модам и бесконечно число $\\beta_m^2 < 0$, соответствующих затухающим решениям. Это можно проиллюстрировать, если построить график зависимости левой и правой частей уравнения от $\\beta^2$:"
   ]
  },
  {
   "cell_type": "code",
   "execution_count": null,
   "id": "36d4023d",
   "metadata": {},
   "outputs": [
    {
     "data": {
      "image/png": "[encoded data removed]",
      "text/plain": [
       "<Figure size 432x288 with 1 Axes>"
      ]
     },
     "metadata": {
      "needs_background": "light"
     },
     "output_type": "display_data"
    }
   ],
   "source": [
    "import numpy as np\n",
    "import matplotlib.pyplot as plt\n",
    "\n",
    "def get_kappa(eps : float, beta2 : np.ndarray) -> np.ndarray :\n",
    "    return np.sqrt(eps - beta2)\n",
    "\n",
    "def dispersion_fun(d1 : float, d2 : float, eps1 : float, eps2 : float, beta2 : np.ndarray, polarization : str) -> None :\n",
    "    kappa_d_1 = (2 * np.pi) * d1 * get_kappa(eps1, beta2)\n",
    "    kappa_d_2 = (2 * np.pi) * d2 * get_kappa(eps2, beta2)\n",
    "    if polarization == 's' or polarization == 'TE':\n",
    "        C = 0.5 * (kappa_d_1 / kappa_d_2 + kappa_d_2 / kappa_d_1)\n",
    "    elif polarization == 'p' or polarization == 'TM':\n",
    "        C = 0.5 * ((eps2/eps1) * kappa_d_1 / kappa_d_2 + (eps1/eps2) * kappa_d_2 / kappa_d_1)\n",
    "    return np.cos(kappa_d_1) * np.cos(kappa_d_2) - C * np.sin(kappa_d_1) * np.sin(kappa_d_2)\n",
    "\n",
    "k_B = 0.1 # Bloch wavevector modulo in the units of 2*pi/\\Lambda\n",
    "d1, d2 = 0.3, 0.4 # layer thicknesses in the units of wavelength\n",
    "eps1, eps2 = 1, 4\n",
    "beta2 = np.linspace(-30, 1.5*max(eps1,eps2), 500, dtype=complex)\n",
    "lh_part = np.real(dispersion_fun(d1, d2, eps1, eps2, beta2, 's'))\n",
    "rh_part = np.full(beta2.shape, np.cos(2*np.pi*k_B))\n",
    "\n",
    "plt.plot(beta2, lh_part, label='left-hand part')\n",
    "plt.plot(beta2, rh_part, label='right-hand part')\n",
    "plt.ylim([-2, 2])\n",
    "plt.axvline(x=0, color='k')\n",
    "plt.axhline(y=0, color='k')\n",
    "plt.show()"
   ]
  },
  {
   "cell_type": "markdown",
   "id": "5566ad38",
   "metadata": {},
   "source": [
    "## Поля мод\n",
    "\n",
    "Уравнения на постоянные коэффициенты $\\mathcal{A}_{1,2m}^{\\pm}$ можно переписать, введя новую константу:\n",
    "\\begin{equation}\\tag{12}\n",
    "    \\begin{array}{c}\n",
    "\\mathcal{A}_{1m}^{+}=\\sqrt{\\mathcal{C}_{m}}\\left(1-e^{ik_{B}\\Lambda}e^{-i\\kappa_{1m}d_{1}}e^{i\\kappa_{2m}d_{2}}\\right)\\left(\\dfrac{\\eta_{2}}{\\eta_{1}}\\dfrac{\\kappa_{1m}}{\\kappa_{2m}}-1\\right)\\\\\n",
    "\\mathcal{A}_{1m}^{-}=\\sqrt{\\mathcal{C}_{m}}\\left(1-e^{ik_{B}\\Lambda}e^{i\\kappa_{1m}d_{1}}e^{i\\kappa_{2m}d_{2}}\\right)\\left(\\dfrac{\\eta_{2}}{\\eta_{1}}\\dfrac{\\kappa_{1m}}{\\kappa_{2m}}+1\\right)\\\\\n",
    "\\mathcal{A}_{2m}^{+}=\\dfrac{1}{2}\\sqrt{\\mathcal{C}_{m}}\\left[\\mathcal{A}_{1m}^{+}e^{i\\kappa_{1m}d_{1}}\\left(1+\\dfrac{\\eta_{2}}{\\eta_{1}}\\dfrac{\\kappa_{1m}}{\\kappa_{2m}}\\right)+\\mathcal{A}_{1m}^{-}e^{-i\\kappa_{1m}d_{1}}\\left(1-\\dfrac{\\eta_{2}}{\\eta_{1}}\\dfrac{\\kappa_{1m}}{\\kappa_{2m}}\\right)\\right]\\\\\n",
    "\\mathcal{A}_{2m}^{-}=\\dfrac{1}{2}\\sqrt{\\mathcal{C}_{m}}\\left[\\mathcal{A}_{1m}^{+}e^{i\\kappa_{1m}d_{1}}\\left(1-\\dfrac{\\eta_{2}}{\\eta_{1}}\\dfrac{\\kappa_{1m}}{\\kappa_{2m}}\\right)+\\mathcal{A}_{1m}^{-}e^{-i\\kappa_{1m}d_{1}}\\left(1+\\dfrac{\\eta_{2}}{\\eta_{1}}\\dfrac{\\kappa_{1m}}{\\kappa_{2m}}\\right)\\right]\n",
    "\\end{array}\n",
    "\\end{equation}\n",
    "Эту константу можно найти из условия ортогональности:\n",
    "\\begin{split}\n",
    "    1 &= \\dfrac{1}{\\Lambda}\\int_{0}^{\\Lambda} \\dfrac{v_{m}\\left(z\\right)v_{m}^{*}\\left(z\\right)}{\\omega\\eta\\left(z\\right)}dz= \\\\\n",
    "    &=\\left\\{ \\dfrac{1}{\\omega\\eta_{1}}\\dfrac{d_{1}}{\\Lambda}\\left[\\left(\\left|\\mathcal{A}_{1m}^{+}\\right|^{2}e^{-\\Im\\kappa_{1m}d_{1}}+\\left|\\mathcal{A}_{1m}^{-}\\right|^{2}e^{\\Im\\kappa_{1m}d_{1}}\\right) \\dfrac{\\sinh\\left(\\Im\\kappa_{1m}d_{1}\\right)}{\\Im\\kappa_{1m}d_{1}} + 2\\Re\\left(\\mathcal{A}_{1m}^{+}\\mathcal{A}_{1m}^{-*}e^{i\\Re\\kappa_{1m}d_{1}}\\right)\\dfrac{\\sin\\left(\\Re\\kappa_{1m}d_{1}\\right)}{\\Re\\kappa_{1m}d_{1}}\\right]+\\right. \\\\\n",
    "    &\\left. + \\dfrac{1}{\\omega\\eta_{2}}\\dfrac{d_{2}}{\\Lambda}\\left[\\left(\\left|\\mathcal{A}_{2m}^{+}\\right|^{2}e^{-\\Im\\kappa_{2m}d_{2}}+\\left|\\mathcal{A}_{2m}^{-}\\right|^{2}e^{\\Im\\kappa_{2m}d_{2}}\\right) \\dfrac{\\sinh\\left(\\Im\\kappa_{2m}d_{2}\\right)}{\\Im\\kappa_{2m}d_{2}}+2\\Re\\left(\\mathcal{A}_{2m}^{+}\\mathcal{A}_{2m}^{-*}e^{i\\Re\\kappa_{2m}d_{2}}\\right)\\dfrac{\\sin\\left(\\Re\\kappa_{2m}d_{2}\\right)}{\\Re\\kappa_{2m}d_{2}}\\right] \\right\\} ^{-1}\n",
    "\\end{split}\n",
    "\n",
    "Разложение произвольного поля по найденным собственным решениям будет иметь вид:\n",
    "\\begin{split}\\tag{13}\n",
    "    F &= \\sum_{m=1}^{\\infty}v_{m}\\left(z\\right)\\left(a_{m}^{+}e^{i\\beta_{m}x}+a_{m}^{-}e^{-i\\beta_{m}x}\\right) \\\\\n",
    "    G=\\left(\\mp_{s,p}\\right)\\dfrac{1}{i\\omega\\eta}\\dfrac{\\partial F}{\\partial x} &= \\left(\\mp_{s,p}\\right) \\sum_{m=1}^{\\infty} v_{m}\\left(z\\right) \\dfrac{\\beta_{m}}{\\omega\\eta} \\left(a_{m}^{+}e^{i\\beta_{m}x}-a_{m}^{-}e^{-i\\beta_{m}x}\\right)\n",
    "\\end{split}\n",
    "где $a_m^{\\pm}$ - постоянные коэффициенты разложения."
   ]
  },
  {
   "cell_type": "markdown",
   "id": "74fe4a47",
   "metadata": {},
   "source": [
    "## Предел эффективной среды\n",
    "\n",
    "Вернёмся к полученному дисперсионному уравнению и рассмотрим распространение волн в $\\Gamma$-точке. Применяя формулы для тригонометрических функций двойного угла уравнение можно факторизовать следующим образом:\n",
    "\\begin{split}\n",
    "    \\dfrac{\\eta_{1}}{\\kappa_{1}}\\dfrac{\\kappa_{2}}{\\eta_{2}}\\left[\\sin\\left(\\dfrac{\\kappa_{1}d_{1}}{2}\\right)\\cos\\left(\\dfrac{\\kappa_{2}d_{2}}{2}\\right)+\\dfrac{\\kappa_{1}}{\\eta_{1}}\\dfrac{\\eta_{2}}{\\kappa_{2}}\\sin\\left(\\dfrac{\\kappa_{2}d_{2}}{2}\\right)\\cos\\left(\\dfrac{\\kappa_{1}d_{1}}{2}\\right)\\right]\\times \\\\\n",
    "    \\times\\left[\\cos\\left(\\dfrac{\\kappa_{1}d_{1}}{2}\\right)\\sin\\left(\\dfrac{\\kappa_{2}d_{2}}{2}\\right)+\\dfrac{\\kappa_{1}}{\\eta_{1}}\\dfrac{\\eta_{2}}{\\kappa_{2}}\\sin\\left(\\dfrac{\\kappa_{1}d_{1}}{2}\\right)\\cos\\left(\\dfrac{\\kappa_{2}d_{2}}{2}\\right)\\right]=0\n",
    "\\end{split}\n",
    "Отсюда\n",
    "\\begin{equation*}\n",
    "    \\left[\\begin{array}{c}\n",
    "\\tan\\left(\\dfrac{\\kappa_{1}d_{1}}{2}\\right)=-\\dfrac{\\kappa_{1}}{\\eta_{1}}\\dfrac{\\eta_{2}}{\\kappa_{2}}\\tan\\left(\\dfrac{\\kappa_{2}d_{2}}{2}\\right)\\\\\n",
    "\\tan\\left(\\dfrac{\\kappa_{2}d_{2}}{2}\\right)=-\\dfrac{\\kappa_{1}}{\\eta_{1}}\\dfrac{\\eta_{2}}{\\kappa_{2}}\\tan\\left(\\dfrac{\\kappa_{1}d_{1}}{2}\\right)\n",
    "\\end{array}\\right.\n",
    "\\end{equation*}\n",
    "Можно показать, что эти два типа решений соответствуют симметричным и антисимметричным модам. Переходя к пределу $k\\Lambda\\rightarrow 0$ подставим $\\tan\\alpha\\approx\\alpha$, что даёт:\n",
    "\\begin{equation*}\n",
    "    \\left[\\begin{array}{c}\n",
    "\\kappa_{1}d_{1}=-\\dfrac{\\kappa_{1}}{\\eta_{1}}\\dfrac{\\eta_{2}}{\\kappa_{2}}\\kappa_{2}d_{2}\\\\\n",
    "\\kappa_{2}d_{2}=-\\dfrac{\\kappa_{1}}{\\eta_{1}}\\dfrac{\\eta_{2}}{\\kappa_{2}}\\tan\\kappa_{1}d_{1}\n",
    "\\end{array}\\right.\\Rightarrow\\left[\\begin{array}{c}\n",
    "\\dfrac{d_{1}}{d_{2}}=-\\dfrac{\\eta_{2}}{\\eta_{1}}\\\\\n",
    "\\kappa_{2}^{2}d_{2}\\eta_{1}=-\\kappa_{1}^{2}d_{1}\\eta_{2}\n",
    "\\end{array}\\right.\n",
    "\\end{equation*}\n",
    "Первое уравнение решений не имеет. Подставляя во второе уравнение явный вид $\\kappa_{1,2}$, приходим к соотношению\n",
    "\\begin{equation}\\tag{14}\n",
    "    \\left(\\omega^{2}\\varepsilon_{2}\\mu_{2}-\\beta^{2}\\right)\\eta_{1}d_{2}=-\\left(\\omega^{2}\\varepsilon_{1}\\mu_{1}-\\beta^{2}\\right)\\eta_{2}d_{1}\n",
    "\\end{equation}\n",
    "В случае ТЕ поляризации для немагнитной среды получаем\n",
    "\\begin{equation}\\tag{15}\n",
    "    \\beta^{2}=\\omega^{2}\\mu_{0}\\dfrac{\\varepsilon_{1}d_{1}+\\varepsilon_{2}d_{2}}{d_{1}+d_{2}}\n",
    "\\end{equation}\n",
    "то есть, эффективная диэлектрическая проницаемость вычисляется как средняя проницаемость на периоде. Для ТМ поляризации\n",
    "\\begin{equation}\\tag{16}\n",
    "    \\beta^{2}  = \\omega^{2}\\mu_{0} \\left( \\dfrac{\\left(1/\\varepsilon_{1}\\right)d_{1} + \\left(1/\\varepsilon_{2}\\right) d_{2}}{d_{2}+d_{1}} \\right)^{-1}\n",
    "\\end{equation}\n",
    "и вычислять нужно обратную среднюю проницаемость.\n",
    "\n",
    "В случае $\\beta=0$, когда мы хотим рассмотреть распространение волн перпендикулярно слоям кристалла, раскладываем дисперсионное уравнение по малому параметру $k_B\\Lambda$, что дает не зависящее от поляризации решение\n",
    "\\begin{equation}\\tag{17}\n",
    "    k_{B}^{2}=\\omega^{2}\\mu_{0}\\dfrac{\\varepsilon_{1}d_{1}+\\varepsilon_{2}d_{2}}{d_{1}+d_{2}}\n",
    "\\end{equation}\n",
    "Таким образом, фотонный кристалл в приближении эффективной среды будет вести себя как одноосный однородный анизотропный кристалл, который в главных осях описывается тензором диэлектрической проницаемости\n",
    "\\begin{equation}\\tag{18}\n",
    "    \\hat{\\varepsilon}=\\mathrm{diag}\\left\\{ \\dfrac{\\varepsilon_{1}d_{1}+\\varepsilon_{2}d_{2}}{d_{1}+d_{2}};\\thinspace\\dfrac{\\varepsilon_{1}d_{1}+\\varepsilon_{2}d_{2}}{d_{1}+d_{2}};\\thinspace\\left(\\dfrac{\\left(1/\\varepsilon_{1}\\right)d_{1}+\\left(1/\\varepsilon_{2}\\right)d_{2}}{d_{2}+d_{1}}\\right)^{-1}\\right\\} \n",
    "\\end{equation}"
   ]
  },
  {
   "cell_type": "markdown",
   "id": "f72765d2",
   "metadata": {},
   "source": [
    "### Литература\n",
    "\n",
    "1. Botten, I. C., Craig, M. S., McPhedran, R. C., Adams, J. L., & Andrewartha, J. R. [The Dielectric Lamellar Diffraction Grating](https://www.tandfonline.com/doi/abs/10.1080/713820571). Optica Acta: International Journal of Optics, 28(3), 413–428 (1981)\n",
    "2. Tishchenko, A.V. [Phenomenological representation of deep and high contrast lamellar gratings by means of the modal method](https://link.springer.com/article/10.1007/s11082-005-1188-2#citeas). Opt Quant Electron 37, 309–330 (2005)."
   ]
  }
 ],
 "metadata": {
  "kernelspec": {
   "display_name": "base",
   "language": "python",
   "name": "python3"
  },
  "language_info": {
   "codemirror_mode": {
    "name": "ipython",
    "version": 3
   },
   "file_extension": ".py",
   "mimetype": "text/x-python",
   "name": "python",
   "nbconvert_exporter": "python",
   "pygments_lexer": "ipython3",
   "version": "3.8.8"
  }
 },
 "nbformat": 4,
 "nbformat_minor": 5
}
