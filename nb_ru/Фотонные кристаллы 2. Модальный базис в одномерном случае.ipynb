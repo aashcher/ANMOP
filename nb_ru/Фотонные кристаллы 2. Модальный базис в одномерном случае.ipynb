{
 "cells": [
  {
   "cell_type": "markdown",
   "id": "2badadd6",
   "metadata": {},
   "source": [
    "Лицензия ..."
   ]
  },
  {
   "cell_type": "markdown",
   "id": "a7bef001",
   "metadata": {},
   "source": [
    "# Фотонные кристаллы. Модальный базис в одномерном случае"
   ]
  },
  {
   "cell_type": "markdown",
   "id": "746a64ed",
   "metadata": {},
   "source": [
    "В данной лекции рассмотрим аналитическое решение для одномерного фотонного кристалла, ячейка которого состоит из двух слоёв различных материалов с параметрами $\\varepsilon_{1,2}$ и $\\mu_{1,2}$. Данная модель является прямым аналогом модели Кронига-Пенни в электронной теории твердых тел."
   ]
  },
  {
   "cell_type": "markdown",
   "id": "55fbf405",
   "metadata": {},
   "source": [
    "## Волновое уравнение\n",
    "\n",
    "Пусть границы разделов материалов в одномерном фотонном кристалле с периодом $\\Lambda$ параллельны плоскостям $XY$ декартовой системы координат, так что периодичность задается направлением оси $Z$. Без ограничения общности можно считать поля не зависящими от координаты $y$, и уравнения Максвелла разделятся для ТЕ и ТМ поляризации соответственно:\n",
    "\\begin{align}\n",
    "    -\\dfrac{\\partial E_{y}}{\\partial z} &= i\\omega\\mu H_{x} \\\\\n",
    "    \\dfrac{\\partial E_{y}}{\\partial x} &= i\\omega\\mu H_{z} \\\\\n",
    "    \\dfrac{\\partial H_{x}}{\\partial z}-\\dfrac{\\partial H_{z}}{\\partial x} &= -i\\omega\\varepsilon E_{y}\n",
    "\\end{align}\n",
    "и\n",
    "\\begin{align}\n",
    "    \\dfrac{\\partial H_{y}}{\\partial z} &= i\\omega\\varepsilon E_{x} \\\\\n",
    "    \\dfrac{\\partial H_{y}}{\\partial x} &= -i\\omega\\varepsilon E_{z} \\\\\n",
    "    \\dfrac{\\partial E_{x}}{\\partial z}-\\dfrac{\\partial E_{z}}{\\partial x} &= i\\omega\\mu H_{y}\n",
    "\\end{align}\n",
    "Уравнения Гельмгольца, следующие из этих двух систем можно записать в едином не зависящем от поляризации виде\n",
    "\\begin{equation}\n",
    "    \\dfrac{\\partial}{\\partial z}\\left(\\dfrac{1}{\\eta\\left(z\\right)}\\dfrac{\\partial F}{\\partial z}\\right)+\\dfrac{1}{\\eta\\left(z\\right)}\\dfrac{\\partial^{2}F}{\\partial x^{2}}+\\omega^{2}\\zeta\\left(z\\right)F=0\n",
    "\\end{equation}\n",
    "где $F_{s}\\left(x,z\\right) = E_{y}\\left(x,z\\right)$, $\\eta_s=\\mu$ для ТЕ поляризации и $F_{h}\\left(x,y\\right) = H_{y}\\left(x,y\\right)$, $\\eta_p=\\varepsilon$ для ТМ поляризации. Также обозначим вторую ненулевую компоненту поля в плоскости слоёв символом $G$, так что $G_s = H_x$ и $G_p = E_x$."
   ]
  },
  {
   "cell_type": "markdown",
   "id": "4bbb27af",
   "metadata": {},
   "source": [
    "## Дисперсионное уравнение\n",
    "\n",
    "Для решения уравнения воспользуемся методом разделения переменных, записав $F=u\\left(x\\right)v\\left(z\\right)$, что приводит к двум уравениям на новые функции:\n",
    "\\begin{split}\n",
    "    \\dfrac{1}{u\\left(x\\right)}\\dfrac{d^{2}u\\left(x\\right)}{dx^{2}} &= -\\beta^{2} \\\\\n",
    "    \\dfrac{\\eta\\left(z\\right)}{v\\left(z\\right)}\\dfrac{d}{dz}\\left(\\dfrac{1}{\\eta\\left(z\\right)}\\dfrac{\\partial v\\left(z\\right)}{\\partial z}\\right) & + \\left(\\omega^{2}\\varepsilon\\left(z\\right)\\mu\\left(z\\right)-\\beta^{2}\\right)v(z) = 0\n",
    "\\end{split}\n",
    "Решение первого соответствует трансляционной инвариантности полей вдоль оси $X$ и задается экспоненциальной функцией\n",
    "\\begin{equation}\n",
    "    u\\left(x\\right)\\sim\\exp\\left(i\\beta x\\right)\n",
    "\\end{equation}\n",
    "с константой распространения $\\beta$. Второй оператор для действительных функций координат материальных параметров является самосопряженным. Следовательно, его собственные значения $\\beta^2$ вещественны, а собственные вектора, соответствующие этим значениям, ортогональны. Соотношение ортогональности имеет вид\n",
    "\\begin{equation}\n",
    "    \\dfrac{1}{\\Lambda}\\intop_{0}^{\\Lambda}\\dfrac{v_{m}\\left(z\\right) v^*_{n}\\left(z\\right)}{\\omega\\eta\\left(z\\right)}dz=\\delta_{mn}\n",
    "\\end{equation}\n",
    "\n",
    "В рассматриваемом нами случае двух однородных слоев с толщинами $d_{1,2}$ на периоде ($d_1+d_2=\\Lambda$) уравнение на функцию $v(z)$ в каждом слое сводится к уравнению гармонических колебаний\n",
    "\\begin{equation}\n",
    "    \\dfrac{d^{2}v\\left(z\\right)}{dz^{2}}+\\kappa_{1,2}^{2}v\\left(z\\right)=0\n",
    "\\end{equation}\n",
    "где $\\kappa_{1,2}=\\sqrt{\\omega^{2}\\varepsilon_{1,2}\\mu_{1,2}-\\beta^{2}}$, и решения этого уравнения выразим в форме\n",
    "\\begin{equation}\n",
    "    v\\left(z\\right)=\\begin{cases}\n",
    "\\mathcal{A}_{1}^{+}e^{i\\kappa_{1}z}+\\mathcal{A}_{1}^{-}e^{-i\\kappa_{1}z} & 0\\leq z\\leq d_{1}\\\\\n",
    "\\mathcal{A}_{2}^{+}e^{i\\kappa_{2}\\left(z-d_{1}\\right)}+\\mathcal{A}_{2}^{-}e^{-i\\kappa_{2}\\left(z-d_{1}\\right)} & d_{1}\\leq z\\leq\\Lambda\n",
    "\\end{cases}\n",
    "\\end{equation}\n",
    "Неизвестные постоянные $\\mathcal{A}_{1,2}^{\\pm}$ определяются из условия сопряжения и квазипериодичности:\n",
    "\\begin{align}\n",
    "    v\\left(d_{1}-0\\right) &= v\\left(d_{1}+0\\right) \\\\\n",
    "    e^{ik_{B}\\Lambda}v\\left(0\\right) &= v\\left(\\Lambda\\right)\n",
    "\\end{align}\n",
    "Те же условия, записанные для второй компоненты поля $G$, дают аналогичные уравнения для функции $\\left(1/\\eta\\right)dv/dz$. В итоге получается система из четырёх уравнений\n",
    "\\begin{align}\n",
    "    \\mathcal{A}_{1}^{+}e^{i\\kappa_{1}d_{1}}+\\mathcal{A}_{1}^{-}e^{-i\\kappa_{1}d_{1}} &= \\mathcal{A}_{2}^{+}+\\mathcal{A}_{2}^{-} \\\\\n",
    "    e^{ik_{B}\\Lambda}\\left(\\mathcal{A}_{1}^{+} + \\mathcal{A}_{1}^{-}\\right) &= \\mathcal{A}_{2}^{+}e^{i\\kappa_{2}d_{2}}+\\mathcal{A}_{2}^{-}e^{-i\\kappa_{2}d_{2}} \\\\\n",
    "    \\dfrac{\\kappa_{1}}{\\omega\\eta_{1}}\\left(\\mathcal{A}_{1}^{+}e^{i\\kappa_{1}d_{1}}-\\mathcal{A}_{1}^{-}e^{-i\\kappa_{1}d_{1}}\\right) &= \\dfrac{\\kappa_{2}}{\\omega\\eta_{2}}\\left(\\mathcal{A}_{2}^{+}- \\mathcal{A}_{2}^{-}\\right) \\\\\n",
    "    e^{ik_{B}\\Lambda}\\dfrac{\\kappa_{1}}{\\omega\\eta_{1}}\\left(\\mathcal{A}_{1}^{+}-\\mathcal{A}_{1}^{-}\\right) &= \\dfrac{\\kappa_{2}}{\\omega\\eta_{2}}\\left(\\mathcal{A}_{2}^{+}e^{i\\kappa_{2}d_{2}}-\\mathcal{A}_{2}^{-}e^{-i\\kappa_{2}d_{2}}\\right)\n",
    "\\end{align}\n",
    "Приравнивая детерминант к нулю, получаем дисперсионное уравнение:\n",
    "\\begin{equation}\n",
    "    \\cos\\left(\\kappa_{1}d_{1}\\right)\\cos\\left(\\kappa_{2}d_{2}\\right)-\\dfrac{1}{2}\\left(\\dfrac{\\kappa_{1}}{\\eta_{1}}\\dfrac{\\eta_{2}}{\\kappa_{2}}+\\dfrac{\\eta_{1}}{\\kappa_{1}}\\dfrac{\\kappa_{2}}{\\eta_{2}}\\right)\\sin\\left(\\kappa_{1}d_{1}\\right)\\sin\\left(\\kappa_{2}d_{2}\\right) = \\cos\\left(k_{B}\\Lambda\\right)\n",
    "\\end{equation}\n",
    "которое для действительных $\\varepsilon_{1,2}$, $\\mu_{1,2}$ имеет бесконечный дискретный набор решений $\\beta_m^2$. Для заданных параметров кристалла имеется конечное число $\\beta_m^2 > 0$, соответствующих распространяющимся вдоль $x$ модам и бесконечно число $\\beta_m^2 < 0$, соответствующих затухающим решениям."
   ]
  },
  {
   "cell_type": "markdown",
   "id": "5566ad38",
   "metadata": {},
   "source": [
    "## Поля мод\n",
    "\n",
    "Уравнения на постоянные коэффициенты $\\mathcal{A}_{1,2m}^{\\pm}$ можно переписать, введя новую константу:\n",
    "\\begin{equation}\n",
    "    \\begin{array}{c}\n",
    "\\mathcal{A}_{1m}^{+}=\\sqrt{\\mathcal{C}_{m}}\\left(1-e^{ik_{B}\\Lambda}e^{-i\\kappa_{1m}d_{1}}e^{i\\kappa_{2m}d_{2}}\\right)\\left(\\dfrac{\\eta_{2}}{\\eta_{1}}\\dfrac{\\kappa_{1m}}{\\kappa_{2m}}-1\\right)\\\\\n",
    "\\mathcal{A}_{1m}^{-}=\\sqrt{\\mathcal{C}_{m}}\\left(1-e^{ik_{B}\\Lambda}e^{i\\kappa_{1m}d_{1}}e^{i\\kappa_{2m}d_{2}}\\right)\\left(\\dfrac{\\eta_{2}}{\\eta_{1}}\\dfrac{\\kappa_{1m}}{\\kappa_{2m}}+1\\right)\\\\\n",
    "\\mathcal{A}_{2m}^{+}=\\dfrac{1}{2}\\sqrt{\\mathcal{C}_{m}}\\left[\\mathcal{A}_{1m}^{+}e^{i\\kappa_{1m}d_{1}}\\left(1+\\dfrac{\\eta_{2}}{\\eta_{1}}\\dfrac{\\kappa_{1m}}{\\kappa_{2m}}\\right)+\\mathcal{A}_{1m}^{-}e^{-i\\kappa_{1m}d_{1}}\\left(1-\\dfrac{\\eta_{2}}{\\eta_{1}}\\dfrac{\\kappa_{1m}}{\\kappa_{2m}}\\right)\\right]\\\\\n",
    "\\mathcal{A}_{2m}^{-}=\\dfrac{1}{2}\\sqrt{\\mathcal{C}_{m}}\\left[\\mathcal{A}_{1m}^{+}e^{i\\kappa_{1m}d_{1}}\\left(1-\\dfrac{\\eta_{2}}{\\eta_{1}}\\dfrac{\\kappa_{1m}}{\\kappa_{2m}}\\right)+\\mathcal{A}_{1m}^{-}e^{-i\\kappa_{1m}d_{1}}\\left(1+\\dfrac{\\eta_{2}}{\\eta_{1}}\\dfrac{\\kappa_{1m}}{\\kappa_{2m}}\\right)\\right]\n",
    "\\end{array}\n",
    "\\end{equation}\n",
    "Эту константу можно найти из условия ортогональности:\n",
    "\\begin{align}\n",
    "    1 &= \\dfrac{1}{\\Lambda}\\int_{0}^{\\Lambda} \\dfrac{v_{m}\\left(z\\right)v_{m}^{*}\\left(z\\right)}{\\omega\\eta\\left(z\\right)}dz= \\\\\n",
    "    &=\\left\\{ \\dfrac{1}{\\omega\\eta_{1}}\\dfrac{d_{1}}{\\Lambda}\\left[\\left(\\left|\\mathcal{A}_{1m}^{+}\\right|^{2}e^{-\\Im\\kappa_{1m}d_{1}}+\\left|\\mathcal{A}_{1m}^{-}\\right|^{2}e^{\\Im\\kappa_{1m}d_{1}}\\right) \\dfrac{\\sinh\\left(\\Im\\kappa_{1m}d_{1}\\right)}{\\Im\\kappa_{1m}d_{1}} + 2\\Re\\left(\\mathcal{A}_{1m}^{+}\\mathcal{A}_{1m}^{-*}e^{i\\Re\\kappa_{1m}d_{1}}\\right)\\dfrac{\\sin\\left(\\Re\\kappa_{1m}d_{1}\\right)}{\\Re\\kappa_{1m}d_{1}}\\right]+\\right. \\\\\n",
    "    &\\left. + \\dfrac{1}{\\omega\\eta_{2}}\\dfrac{d_{2}}{\\Lambda}\\left[\\left(\\left|\\mathcal{A}_{2m}^{+}\\right|^{2}e^{-\\Im\\kappa_{2m}d_{2}}+\\left|\\mathcal{A}_{2m}^{-}\\right|^{2}e^{\\Im\\kappa_{2m}d_{2}}\\right) \\dfrac{\\sinh\\left(\\Im\\kappa_{2m}d_{2}\\right)}{\\Im\\kappa_{2m}d_{2}}+2\\Re\\left(\\mathcal{A}_{2m}^{+}\\mathcal{A}_{2m}^{-*}e^{i\\Re\\kappa_{2m}d_{2}}\\right)\\dfrac{\\sin\\left(\\Re\\kappa_{2m}d_{2}\\right)}{\\Re\\kappa_{2m}d_{2}}\\right] \\right\\} ^{-1}\n",
    "\\end{align}\n",
    "В явном виде модальное будет иметь вид:\n",
    "\\begin{align}\n",
    "    F &= \\sum_{m=1}^{\\infty}v_{m}\\left(z\\right)\\left(a_{m}^{+}e^{i\\beta_{m}x}+a_{m}^{-}e^{-i\\beta_{m}x}\\right) \\\\\n",
    "    G=\\left(\\mp_{e,h}\\right)\\dfrac{1}{i\\omega\\eta}\\dfrac{\\partial F}{\\partial x} &= \\left(\\mp_{e,h}\\right) \\sum_{m=1}^{\\infty} v_{m}\\left(z\\right) \\dfrac{\\beta_{m}}{\\omega\\eta} \\left(a_{m}^{+}e^{i\\beta_{m}x}-a_{m}^{-}e^{-i\\beta_{m}x}\\right)\n",
    "\\end{align}"
   ]
  },
  {
   "cell_type": "markdown",
   "id": "74fe4a47",
   "metadata": {},
   "source": [
    "## Предел эффективной среды\n",
    "\n",
    "Вернёмся к полученному дисперсионному уравнению и рассмотрим распространение в $\\Gamma$-точке, где $k_B=0$. Применяя формулы для тригонометрических функций двойного угла уравнение можно факторизовать:\n",
    "\\begin{align}\n",
    "    \\dfrac{\\eta_{1}}{\\kappa_{1}}\\dfrac{\\kappa_{2}}{\\eta_{2}}\\left[\\sin\\left(\\dfrac{\\kappa_{1}d_{1}}{2}\\right)\\cos\\left(\\dfrac{\\kappa_{2}d_{2}}{2}\\right)+\\dfrac{\\kappa_{1}}{\\eta_{1}}\\dfrac{\\eta_{2}}{\\kappa_{2}}\\sin\\left(\\dfrac{\\kappa_{2}d_{2}}{2}\\right)\\cos\\left(\\dfrac{\\kappa_{1}d_{1}}{2}\\right)\\right]\\times \\\\\n",
    "    \\times\\left[\\cos\\left(\\dfrac{\\kappa_{1}d_{1}}{2}\\right)\\sin\\left(\\dfrac{\\kappa_{2}d_{2}}{2}\\right)+\\dfrac{\\kappa_{1}}{\\eta_{1}}\\dfrac{\\eta_{2}}{\\kappa_{2}}\\sin\\left(\\dfrac{\\kappa_{1}d_{1}}{2}\\right)\\cos\\left(\\dfrac{\\kappa_{2}d_{2}}{2}\\right)\\right]=0\n",
    "\\end{align}\n",
    "откуда\n",
    "\\begin{equatio}\n",
    "    \\left[\\begin{array}{c}\n",
    "\\tan\\left(\\dfrac{\\kappa_{1}d_{1}}{2}\\right)=-\\dfrac{\\kappa_{1}}{\\eta_{1}}\\dfrac{\\eta_{2}}{\\kappa_{2}}\\tan\\left(\\dfrac{\\kappa_{2}d_{2}}{2}\\right)\\\\\n",
    "\\tan\\left(\\dfrac{\\kappa_{2}d_{2}}{2}\\right)=-\\dfrac{\\kappa_{1}}{\\eta_{1}}\\dfrac{\\eta_{2}}{\\kappa_{2}}\\tan\\left(\\dfrac{\\kappa_{1}d_{1}}{2}\\right)\n",
    "\\end{array}\\right.\n",
    "\\end{equation}\n",
    "Можно показать, что эти два типа решений соответствуют симметричным и антисимметричным модам. Переходя к пределу $k\\Lambda\\rightarrow$ подставим $\\tan\\alpha\\approx\\alpha$, что даёт:\n",
    "\\begin{equation}\n",
    "    \\left[\\begin{array}{c}\n",
    "\\kappa_{1}d_{1}=-\\dfrac{\\kappa_{1}}{\\eta_{1}}\\dfrac{\\eta_{2}}{\\kappa_{2}}\\kappa_{2}d_{2}\\\\\n",
    "\\kappa_{2}d_{2}=-\\dfrac{\\kappa_{1}}{\\eta_{1}}\\dfrac{\\eta_{2}}{\\kappa_{2}}\\tan\\kappa_{1}d_{1}\n",
    "\\end{array}\\right.\\Rightarrow\\left[\\begin{array}{c}\n",
    "\\dfrac{d_{1}}{d_{2}}=-\\dfrac{\\eta_{2}}{\\eta_{1}}\\\\\n",
    "\\kappa_{2}^{2}d_{2}\\eta_{1}=-\\kappa_{1}^{2}d_{1}\\eta_{2}\n",
    "\\end{array}\\right.\n",
    "\\end{equation}\n",
    "Первое уравнение решений не имеет. Подставляя во второе явный вид $\\kappa_{1,2}$ приходим к соотношению\n",
    "\\begin{equation}\n",
    "    \\left(\\omega^{2}\\varepsilon_{2}\\mu_{2}-\\beta^{2}\\right)\\eta_{1}d_{2}=-\\left(\\omega^{2}\\varepsilon_{1}\\mu_{1}-\\beta^{2}\\right)\\eta_{2}d_{1}\n",
    "\\end{equation}\n",
    "В случае ТЕ поляризации для немагнитной среды получаем\n",
    "\\begin{equation}\n",
    "    \\beta^{2}=\\omega^{2}\\mu_{0}\\dfrac{\\varepsilon_{1}d_{1}+\\varepsilon_{2}d_{2}}{d_{1}+d_{2}}\n",
    "\\end{equation}\n",
    "то есть, эффективная диэлектрическая проницаемость вычисляется как средняя проницаемость на ячейке. Для ТМ поляризации\n",
    "\\begin{equation}\n",
    "    \\beta^{2}  = \\omega^{2}\\mu_{0} \\left( \\dfrac{\\left(1/\\varepsilon_{1}\\right)d_{1} + \\left(1/\\varepsilon_{2}\\right) d_{2}}{d_{2}+d_{1}} \\right)^{-1}\n",
    "\\end{equation}\n",
    "и вычислять нужно обратную среднюю проницаемость.\n",
    "\n",
    "В случае $\\beta=0$, когда мы хотим рассмотреть распространение волн перпендикулярно слоям кристалла, раскладываем дисперсионное уравнение по малому параметру $k_B\\Lambda$, что дает не зависящее от поляризации решение\n",
    "\\begin{equation}\n",
    "    k_{B}^{2}=\\omega^{2}\\mu_{0}\\dfrac{\\varepsilon_{1}d_{1}+\\varepsilon_{2}d_{2}}{d_{1}+d_{2}}\n",
    "\\end{equation}\n",
    "Таким образом, фотонный кристалл в приближении эффективной среды будет описывать тензором\n",
    "\\begin{equation}\n",
    "    \\hat{\\varepsilon}=\\mathrm{diag}\\left\\{ \\dfrac{\\varepsilon_{1}d_{1}+\\varepsilon_{2}d_{2}}{d_{1}+d_{2}};\\thinspace\\dfrac{\\varepsilon_{1}d_{1}+\\varepsilon_{2}d_{2}}{d_{1}+d_{2}};\\thinspace\\left(\\dfrac{\\left(1/\\varepsilon_{1}\\right)d_{1}+\\left(1/\\varepsilon_{2}\\right)d_{2}}{d_{2}+d_{1}}\\right)^{-1}\\right\\} \n",
    "\\end{equation}"
   ]
  }
 ],
 "metadata": {
  "kernelspec": {
   "display_name": "Python 3",
   "language": "python",
   "name": "python3"
  },
  "language_info": {
   "codemirror_mode": {
    "name": "ipython",
    "version": 3
   },
   "file_extension": ".py",
   "mimetype": "text/x-python",
   "name": "python",
   "nbconvert_exporter": "python",
   "pygments_lexer": "ipython3",
   "version": "3.8.8"
  }
 },
 "nbformat": 4,
 "nbformat_minor": 5
}
