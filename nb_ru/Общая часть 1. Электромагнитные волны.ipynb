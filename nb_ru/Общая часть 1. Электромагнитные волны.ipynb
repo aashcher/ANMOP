{
 "cells": [
  {
   "cell_type": "markdown",
   "id": "a3417ada",
   "metadata": {},
   "source": [
    "Лицензия ..."
   ]
  },
  {
   "cell_type": "markdown",
   "id": "3b1dc446",
   "metadata": {},
   "source": [
    "# Лекция 1. Вводная."
   ]
  },
  {
   "cell_type": "markdown",
   "id": "dcfdd28e",
   "metadata": {},
   "source": [
    "## Введение\n",
    "\n",
    "При анализе электродинамических процессов в задачах со сложными границами и неоднородным и/или анизотропным пространственным распределением вещества, приходится прибегать к использованию численных методов. С одной стороны для решения таких задач можно использовать общие подходы к решению дифференциальных уравнений, такие как методов конечных элементов (МКЭ) или конечно-разностный метод (КРМ), однако достаточно большой спектр задач, как научных, так и инженерных, оказывается возможным решить с помощью более специализированных подходов, которые в области своей применимости оказываются существенной более эффективными, чем упомянутые МКЭ и КРМ. Данный курс посвящен знакомству с такими подходами и примерами их применения для решения инженерных и физических задач в области оптики и фотоники.\n",
    "\n",
    "Курс разделен на блоки, которые в можно изучать относительно независимо друг от друга. Основные факты, общие для всех блоков излагаются в общей части. В этом смысле курс является адаптивным и даёт возможность модифицировать его под запросы аудитории. Сейчас курс состоит из пяти разделов: общего, и разделов, посвященных фотонным кристаллам, дифракционным решеткам и метаповерхностям, рассеивающим структурам и решению обратных и оптимизационных задач. Каждый раздел содержит теоретическую часть, сопутствующие демонстрационные коды на Python, и упражнения. В рамках упражнений предусмотрены три трека: инженерный, вычислительный и теоретический. Упражнения инженерного трека ориентированы на практику применения готовых кодов для решения прикладных задач. В упражнениях вычислительного трека больший упор делается на разработку программ для проведения расчетов. В теоретическом треке преобладают задания на проработку теоретического материала.\n",
    "\n",
    "В данной лекции обзорно представлен материал, который предполагается известным студентам, прошедшим курсы общей физики и электродинамики сплошных сред."
   ]
  },
  {
   "cell_type": "markdown",
   "id": "eacd03f8",
   "metadata": {},
   "source": [
    "## Уравнения Максвелла\n",
    "\n",
    "В данном курсе будем пользоваться системой СИ, поскольку она традиционно применяется в задачах и приложениях, которые будут рассматриваться ниже. Система уравнений Максвелла в дифференциальной форме включает закон Гаусса для вектора индукции электрического поля и напряженности магнитного поля, закон электромагнитной индукции Фарадея, и теорему о циркуляции магнитного поля соответственно:\n",
    "\\begin{align*}\n",
    "    \\nabla\\boldsymbol{B} &= \\rho_{m} \\\\\n",
    "    \\nabla\\boldsymbol{D} &= \\rho_{e} \\\\\n",
    "    \\nabla\\times\\boldsymbol{E} &= -\\dfrac{\\partial}{\\partial t}\\boldsymbol{B}-\\boldsymbol{J}_{m} \\\\\n",
    "    \\nabla\\times\\boldsymbol{H} &= \\dfrac{\\partial}{\\partial t}\\boldsymbol{D}+\\boldsymbol{J}_e \\\\\n",
    "\\end{align*}\n",
    "Сюда помимо электрических зарядов и токов включены магнитные заряды и токи, которые физически не существуют, но их введение в систему уравнений иногда оказывается полезным для построения решений (также $\\rho_{m}$ $\\boldsymbol{J}_{m}$ иногда берутся с другим знаком) и численного решения задач электродинамики. Иногда токи разделяют на две компоненты, одна из которых, называемая сторонними токами, обозначает известные источники электромагнитного поля, а вторая является решением некоторой самосогласованной задачи. Вместо сторонних источников может быть задано возбуждаемое ими поле, если, например, они бесконечно удалены.\n",
    "\n",
    "Векторы напряженности и индукции электрического и магнитного полей связаны материальными уравнениями, описывающими среды, в которых изучаются поля. Уравнения в дифференциальной форме обычно дополняются граничными условиями на границе различных сред (условия сопряжения):\n",
    "\\begin{align*}\n",
    "    \\hat{\\boldsymbol{n}}\\times\\boldsymbol{H}_{1} - \\hat{\\boldsymbol{n}}\\times\\boldsymbol{H}_{2} &= \\boldsymbol{J}_{e,s} \\\\\n",
    "    \\hat{\\boldsymbol{n}}\\times\\boldsymbol{E}_{1} - \\hat{\\boldsymbol{n}}\\times\\boldsymbol{E}_{2} &= -\\boldsymbol{J}_{m,s} \\\\\n",
    "    \\hat{\\boldsymbol{n}}\\cdot\\boldsymbol{B}_{1} - \\hat{\\boldsymbol{n}}\\cdot\\boldsymbol{B}_{2} &= \\rho_{m,s} \\\\\n",
    "    \\hat{\\boldsymbol{n}}\\cdot\\boldsymbol{D}_{1}-\\hat{\\boldsymbol{n}}\\cdot\\boldsymbol{D}_{2} &= \\rho_{e,s} \\\\\n",
    "\\end{align*}\n",
    "где в правых частях стоят поверхностные токи и заряды. В задачах рассеяния требуется условие на бесконечности (условие излучения Зоммерфельда в скалярном случае и условия Сильвера-Мюллера в векторном). Для скалярного уравнения Гельмгольца на некоторую волновую функцию $\\psi(\\boldsymbol{r})$ (см. ниже) оно имеет вид\n",
    "\\begin{equation}\n",
    "    \\lim_{r\\rightarrow\\infty} r^{(n-1)/2} \\left( \\frac{\\partial}{\\partial r} - ik \\right) \\psi(\\boldsymbol{r})\n",
    "\\end{equation}\n",
    "где $n$ - размерность пространства, $k$ - волновое число, и временная зависимость полей предполагается предполагается гармонической с множителем $\\exp(-i\\omega t)$ (Фурье-компоненты поля). Для векторного электромагнитного поля в трехмерном пространстве\n",
    "\\begin{align*}\n",
    "    \\lim_{r\\rightarrow\\infty} r\\left( \\boldsymbol{E} - \\eta \\boldsymbol{H} \\times \\hat{\\boldsymbol{r}} \\right) = 0\\\\\n",
    "    \\lim_{r\\rightarrow\\infty} r\\left( \\boldsymbol{H} - \\dfrac{1}{\\eta} \\boldsymbol{E} \\times \\hat{\\boldsymbol{r}} \\right) = 0\\\\\n",
    "\\end{align*}\n",
    "\n",
    "В интегральной форме соответствующие уравнения записываются как\n",
    "\\begin{align*}\n",
    "    \\oint_{S}\\boldsymbol{D}d\\boldsymbol{S} &= Q_{e} \\\\\n",
    "    \\oint_{S}\\boldsymbol{B}d\\boldsymbol{S} &= Q_{m} \\\\\n",
    "    \\oint_{L}\\boldsymbol{E}d\\boldsymbol{l} &= -\\dfrac{\\partial}{\\partial t}\\intop_{S}\\boldsymbol{B}d\\boldsymbol{S}-\\intop_{S} \\boldsymbol{J}_{m} d\\boldsymbol{S} \\\\\n",
    "    \\oint_{L}\\boldsymbol{H}d\\boldsymbol{l} &= \\intop_{S}\\dfrac{\\partial}{\\partial t}\\boldsymbol{D}d\\boldsymbol{S}+\\intop_{S}\\boldsymbol{J}_{e} d\\boldsymbol{S} \\\\\n",
    "\\end{align*}\n",
    "\n",
    "В данном курсе основной фокус будет направлен на решение уравнений для гармонических волн с временной зависимостью в форме $\\exp(-i\\omega t)$. В этом случае система дифференциальных уравнений переписывается как\n",
    "\\begin{align*}\n",
    "    \\nabla\\boldsymbol{B} &= \\rho_{m} \\\\\n",
    "    \\nabla\\boldsymbol{D} &= \\rho_{e} \\\\\n",
    "    \\nabla\\times\\boldsymbol{E} &= i\\omega\\boldsymbol{B} - \\boldsymbol{J}_{m} \\\\\n",
    "    \\nabla\\times\\boldsymbol{H} &= -i\\omega\\boldsymbol{D} + \\boldsymbol{J}_{e} \\\\\n",
    "\\end{align*}"
   ]
  },
  {
   "cell_type": "markdown",
   "id": "b3773356",
   "metadata": {},
   "source": [
    "## Электромагнитные среды\n",
    "\n",
    "Материальные уравнения задают связь между векторами напряженности и индукции электрического и магнитного полей. В общем виде для гармонических во времени полей и так называемых локальных сред эту связь можно записать в матрично-вектрной форме через тензоры диэлектрической проницаемости, магнитной восприимчивости и тензоры перекрестной связи электического и магнитного полей (обобщение представления Теллегена)\n",
    "\\begin{align}\n",
    "    \\boldsymbol{D} &= \\hat{\\varepsilon}\\boldsymbol{E}+\\hat{\\xi}\\boldsymbol{H} \\\\\n",
    "    \\boldsymbol{B} &= \\hat{\\mu}\\boldsymbol{H}+\\hat{\\zeta}\\boldsymbol{E}\n",
    "\\end{align}\n",
    "В силу свойств преобразования Фурье все компоненты полей и тензоров должны удовлетворять соотношению\n",
    "$$F^*(\\boldsymbol r, \\omega) = F(\\boldsymbol r, -\\omega)$$\n",
    "\n",
    "Если все множители в соотношении Теллегена ненулевые, среда называется бианизотропной. Если $\\hat{\\xi}$ и $\\hat{\\zeta}$ нулевые и $\\hat{\\varepsilon}$ или $\\hat{\\mu}$ не сводящимся к скалярам, среда будет анизотропной. В случае скалярных материальных парамеров и $\\xi,\\zeta\\neq 0$ среда называется биизотропной, иначе - просто изотропной.\n",
    "\n",
    "В искуственных оптических и фотонных структурах может иметь место существенная пространственная дисперсия, так что в материальных уравнениях необходимо учитывать зависимость от волнового вектора. В нелинейных средах правая часть материальных уравнений является нелинейной функцией, которая, зачастую представляется в виде ряда по стеменям нелинейного отклика."
   ]
  },
  {
   "cell_type": "markdown",
   "id": "5eb5321c",
   "metadata": {},
   "source": [
    "## Теорема Пойнтинга, лемма Лоренца и взаимность\n",
    "\n",
    "Перенос энергии электромагнитного поля описывается с помощью Вектор Умова-Пойнтинга\n",
    "$$\\boldsymbol{S}(\\boldsymbol{r}, t) = \\boldsymbol{E} \\left(\\boldsymbol{r}, t\\right) \\times \\boldsymbol{H} \\left(\\boldsymbol{r},t\\right)$$\n",
    "Усреднение по времени приводит к выражению\n",
    "$$\\left\\langle \\boldsymbol{S}\\right\\rangle =\\dfrac{1}{2}\\Re e\\left\\{ \\boldsymbol{E}\\left(\\boldsymbol{r}\\right)\\times\\boldsymbol{H}^{*}\\left(\\boldsymbol{r}\\right)\\right\\} $$\n",
    "Полная плотность электромагнитной энергии записывается как\n",
    "$$ w(\\boldsymbol{r}, t) = \\frac{1}{2} \\left( \\boldsymbol{D}\\cdot\\boldsymbol{E} + \\boldsymbol{B}\\cdot\\boldsymbol{H} \\right) $$\n",
    "Перенос энергии в пространстве и времени с учетом потерь описывается теоремой Пойнтинга\n",
    "$$\\frac{\\partial w}{\\partial t} + \\nabla\\boldsymbol{S} = -\\boldsymbol{J}_e\\boldsymbol{E}$$\n",
    "\n",
    "\n",
    "Максвелловский тензор напряжений\n",
    "$$\\mathcal{T} = -\\frac{1}{2} \\left( \\boldsymbol{D}\\cdot\\boldsymbol{E} + \\boldsymbol{B}\\cdot\\boldsymbol{H} \\right) \\mathbb{I} + \\boldsymbol{D}^T\\boldsymbol{E} + \\boldsymbol{B}^T\\boldsymbol{H} $$\n",
    "\n",
    "\n",
    "Закон сохранения импульса для анизотропной среды с электрическими источниками и зарядами\n",
    "$$\\rho\\boldsymbol{E} + \\boldsymbol{J}_e\\times\\boldsymbol{B} + \\frac{\\partial}{\\partial t}\\boldsymbol{D}\\times\\boldsymbol{B} = \\nabla\\cdot\\mathcal{T}$$\n",
    "\n",
    "Взаимность формулируется для двух наборов источников и возбуждаемых ими полей. Пусть источники $\\boldsymbol{J}^{I,II}_{e,m}$ возбуждают соответствующие им поля $\\boldsymbol{E}^{I,II}$, $\\boldsymbol{H}^{I,II}$. Введем величину, называемую реакцией,\n",
    "$$\\langle\\langle I, II \\rangle\\rangle = \\int_{V_I} \\left( \\boldsymbol{J}^{I}_{e}(\\boldsymbol{r},\\omega) {E}^{II}(\\boldsymbol{r},\\omega) - \\boldsymbol{J}^{I}_{m}(\\boldsymbol{r},\\omega) {H}^{II}(\\boldsymbol{r},\\omega)\\right) dV$$\n",
    "\n",
    "<figure>\n",
    "    <center>\n",
    "    <img src=\"https://studfile.net/html/2706/71/html_yotzBF6MPx.xSzs/htmlconvd-RPNkKg_html_6a66ac68533fe935.jpg\" width=\"200\" align=\"center\"/>\n",
    "        <figcaption>К соотношению взаимности</figcaption>\n",
    "    </center>\n",
    "</figure>\n",
    "\n",
    "Среда, в которой выполняется равенство\n",
    "$$\\langle\\langle I, II \\rangle\\rangle = \\langle\\langle II, I \\rangle\\rangle$$\n",
    "назвается Лоренц-взаимной. Лемма Лоренца относится к случаю наличия только электрических токов, и утверждает, что для любой достаточно хорошей поверхности $S$, ограничивающей некоторый объём $V$ в Лоренц-взаимной среде, выполняется\n",
    "$$\\oint_{S}\\left(\\boldsymbol{E}_{1}\\times\\boldsymbol{H}_{2} - \\boldsymbol{E}_{2}\\times\\boldsymbol{H}_{1}\\right) \\cdot d\\boldsymbol{S} = \\int_{V} \\left(\\boldsymbol{E}_{2}\\cdot\\boldsymbol{J}_{1}- \\boldsymbol{E}_{1}\\cdot\\boldsymbol{J}_{2}\\right)dV$$"
   ]
  },
  {
   "cell_type": "markdown",
   "id": "3439a75c",
   "metadata": {},
   "source": [
    "## Волновое уравнение\n",
    "\n",
    "Взаимная подстановка закона Фарадея и теоремы о циркуляции для магнитного поля в случае анизотропных среды приводит к векторным уравнениям Гельмгольца для электрического и магнитного поля. Для электрического это уравнение будет записываться как\n",
    "$$\\nabla\\times\\hat{\\mu}^{-1}\\nabla\\times\\boldsymbol{E} - \\omega^{2}\\hat{\\varepsilon}\\boldsymbol{E} = i\\omega\\boldsymbol{J}_e - \\nabla\\times\\hat{\\mu}^{-1}\\boldsymbol{J}_m$$\n",
    "\n",
    "В однородной изотропной среде с постоянной диэлектрической проницацемостью $\\varepsilon_m$ и магнитной восприимчивостью $\\mu_m$ уравнение упрощается\n",
    "$$\\nabla\\times\\nabla\\times\\boldsymbol{E} - k_{m}^{2}\\boldsymbol{E} = i\\omega\\boldsymbol{J}_e - \\nabla\\times\\boldsymbol{J}_m$$\n",
    "где $k_m=\\omega\\sqrt{\\varepsilon_m\\mu_m}$ - волновое число. При отсутствии свободных зарядов и их токов уравнение сводится к скалярному уравнению Гельмгольца\n",
    "$$\\nabla\\boldsymbol{E} = 0 \\Rightarrow \\Delta\\boldsymbol{E} + k_m^2\\boldsymbol{E} = 0 \\Rightarrow (\\Delta + k_m^2)\\psi(\\boldsymbol{r}) = 0$$\n",
    "где $\\Delta$ - оператор Лапласа."
   ]
  },
  {
   "cell_type": "markdown",
   "id": "3be50adf",
   "metadata": {},
   "source": [
    "## Задачи электродинамики\n",
    "\n",
    "Задачи электродинамики можно разделить на прямые и обратные. В прямой задаче для заданных в пространстве материальных тензоров и заданных токов рассчитываются поля, решается краевая задача или задача рассеяния. Для обратных задач по заданным целевым параметрам полей подбирается среда/структура, позволяющая наилучшим образом приблизить эти целевые параметры. Как правило, обратные задачи являются некорректными, то есть, в них нарушается одно или несколько из свойств корректности: условие существования, единственности и устойчивости решения по отношению к малым возмущениям."
   ]
  },
  {
   "cell_type": "markdown",
   "id": "d955126e",
   "metadata": {},
   "source": [
    "## Собственные решения в однородной изотропной среде\n",
    "\n",
    "Для численных решений важными оказываются аналитические решения задачи на собственные значения для уравнения Гельмгольца в различных система координат. Запишем эти решения для однородной изотропной среды с материальными константами $\\varepsilon_m$ и $\\mu_m$. В такой среде собственные решения векторного уравнения Гельмгольца являются поперечными волнами, допускающими разложение поле на две линейно независимые поляризации. В общем виде рассмотрим векторное и скалярное уравнения:\n",
    "$$\\nabla\\times\\nabla\\times\\boldsymbol{F} - k_{m}^{2}\\boldsymbol{F} = 0, \\;\\; \\left(\\nabla^{2}+k^{2}\\right)\\psi\\left(\\boldsymbol{r}\\right) = 0$$\n",
    "Если известны решения скалярного уравнения $\\psi$, то два сеймейства решений векторного уравнения получаются из соотношений\n",
    "\\begin{align}\n",
    "    \\boldsymbol{M} &= \\nabla\\times\\boldsymbol{c}\\psi(\\boldsymbol{r}) \\\\\n",
    "    \\boldsymbol{N} &= \\frac{1}{k} \\nabla\\times\\boldsymbol{M}\\left(\\boldsymbol{r}\\right)\n",
    "\\end{align}\n",
    "где $\\boldsymbol{c}$ - некоторый вектор. Эти векторные функции являются соленоидальными с нулевой дивергенцией. Базис в трехмерном пространстве может быть построен добавлением безвихревого поля\n",
    "$$\\boldsymbol{L} = \\nabla\\psi(\\boldsymbol{r})$$"
   ]
  },
  {
   "cell_type": "markdown",
   "id": "d2b25476",
   "metadata": {},
   "source": [
    "### Декартовы координаты и плоские волны\n",
    "\n",
    "В декартовых координатах решением скалярного уравнения является экспоненциальная функция\n",
    "$$\\psi(\\boldsymbol{r}) = a \\exp(i\\boldsymbol{k}\\cdot\\boldsymbol{r})$$\n",
    "с волновым вектором $\\boldsymbol{k}$, компоненты которого удовлетворяют дисперсионному уравнению\n",
    "$$k_{x}^{2}+k_{y}^{2}+k_{z}^{2} = k_{m}^{2}$$\n",
    "Часто распространение плоских волн рассматривают относительно некоторой выделенной оси, например $Z$, и дисперсионное соотношение записывают в форме\n",
    "$$k_z = \\sqrt{k_{m}^{2} - k_{x}^{2} - k_{y}^{2}}$$\n",
    "где ветвь квадратного корня в случае комплексных материальных констант выбирают из физического требования экспоненциального затухания волн, $\\Im m (k_z) \\geq 0$. При этом каждой проекции волнового вектора на плоскость $XY$ будет соответствовать два волновых вектора, описывающих распространение волн в положительном и отрицательном направлении относительно оси $Z$:\n",
    "$$\\boldsymbol{k}^{\\pm} = (k_x,\\;k_y\\;,\\pm k_z)^T$$\n",
    "\n",
    "Для векторных решений выберем выделенную ось $Z$: $\\boldsymbol{c} \\equiv \\hat{\\boldsymbol{z}}$. Тогда\n",
    "\\begin{align}\n",
    "    \\boldsymbol{M}\\left(\\boldsymbol{k},\\boldsymbol{r}\\right) &= i\\boldsymbol{k}\\times\\hat{\\boldsymbol{z}}e^{i\\boldsymbol{k}\\cdot\\boldsymbol{r}} = i\\kappa \\hat{\\boldsymbol{e}}^{s\\pm}_{\\boldsymbol{k}} e^{i\\boldsymbol{k}\\cdot\\boldsymbol{r}} \\\\\n",
    "    \\boldsymbol{N}\\left(\\boldsymbol{k},\\boldsymbol{r}\\right) &= -\\dfrac{\\kappa}{k_{b}}\\boldsymbol{k}\\times\\boldsymbol{k}\\times\\hat{\\boldsymbol{z}}e^{i\\boldsymbol{k}\\cdot\\boldsymbol{r}} = -\\kappa \\hat{\\boldsymbol{e}}^{h\\pm}_{\\boldsymbol{k}} e^{i\\boldsymbol{k}\\cdot\\boldsymbol{r}} \\\\\n",
    "    \\boldsymbol{L}\\left(\\boldsymbol{k},\\boldsymbol{r}\\right) &= i\\boldsymbol{k}e^{i\\boldsymbol{k}\\cdot\\boldsymbol{r}}\n",
    "\\end{align}\n",
    "Здесь введены единичные векторы ТЕ ('s') и ТМ ('p') поляризации:\n",
    "\\begin{align}\n",
    "    \\hat{\\boldsymbol{e}}^{s\\pm}_{\\boldsymbol{k}} = \\dfrac{\\boldsymbol{k}^{\\pm}\\times\\hat{\\boldsymbol{e}}_{z}}{\\left|\\boldsymbol{k}^{\\pm}\\times\\hat{\\boldsymbol{e}}_{z}\\right|} &= \\dfrac{k_{y}}{\\kappa}\\hat{\\boldsymbol{e}}_{x}-\\dfrac{k_{x}}{\\kappa}\\hat{\\boldsymbol{e}}_{y} \\\\\n",
    "    \\hat{\\boldsymbol{e}}^{p\\pm}_{\\boldsymbol{k}} = \\dfrac{\\boldsymbol{k}^{\\pm}\\times\\left(\\boldsymbol{k}^{\\pm}\\times\\hat{\\boldsymbol{e}}_{z}\\right)}{\\left|\\boldsymbol{k}^{\\pm}\\times\\left(\\boldsymbol{k}^{\\pm}\\times\\hat{\\boldsymbol{e}}_{z}\\right)\\right|} &= \\pm\\dfrac{k_{x}k_{z}}{\\kappa k_{b}}\\hat{\\boldsymbol{e}}_{x}\\pm\\dfrac{k_{y}k_{z}}{\\kappa k_{b}}\\hat{\\boldsymbol{e}}_{y}-\\dfrac{\\kappa}{k_{b}}\\hat{\\boldsymbol{e}}_{z}\n",
    "\\end{align}\n",
    "и $\\varkappa = \\sqrt{k_x^2 + k_y^2}$.\n",
    "\n",
    "Ортогональность запишется как\n",
    "\\begin{equation}\n",
    "    \\iiint_{-\\infty}^{\\infty}d^{3}\\boldsymbol{r}\\psi\\left(\\boldsymbol{k},\\boldsymbol{r}\\right)\\psi\\left(-\\boldsymbol{k}',\\boldsymbol{r}\\right)=\\left(2\\pi\\right)^{3}\\delta\\left(\\boldsymbol{k}-\\boldsymbol{k}'\\right)\n",
    "\\end{equation}\n",
    "\\begin{equation}\n",
    "    \\iiint_{-\\infty}^{\\infty}d^{3}\\boldsymbol{r}\\boldsymbol{M}\\left(\\boldsymbol{k},\\boldsymbol{r}\\right)\\cdot\\boldsymbol{M}\\left(-\\boldsymbol{k}',\\boldsymbol{r}\\right) = \\iiint_{-\\infty}^{\\infty}d^{3}\\boldsymbol{k}\\boldsymbol{N}\\left(\\boldsymbol{k},\\boldsymbol{r}\\right)\\cdot\\boldsymbol{N}\\left(-\\boldsymbol{k}',\\boldsymbol{r}\\right)=\\left(2\\pi\\right)^{3}\\varkappa^{2}\\delta\\left(\\boldsymbol{k}-\\boldsymbol{k}'\\right)\n",
    "\\end{equation}\n",
    "\\begin{equation}\n",
    "    \\iiint_{-\\infty}^{\\infty}d^{3}\\boldsymbol{r}\\boldsymbol{L}\\left(\\boldsymbol{k},\\boldsymbol{r}\\right)\\cdot\\boldsymbol{L}\\left(-\\boldsymbol{k}',\\boldsymbol{r}\\right)=\\left(2\\pi\\right)^{3}k^{2}\\delta\\left(\\boldsymbol{k}-\\boldsymbol{k}'\\right)\n",
    "\\end{equation}\n"
   ]
  },
  {
   "cell_type": "markdown",
   "id": "ca14e29b",
   "metadata": {},
   "source": [
    "### Цилиндрические координаты и цилиндрические волны\n",
    "\n",
    "В цилиндрических координатах $(\\rho,\\phi,z)$ скалярное уравнение Гельмгольца имеет вид\n",
    "$$ \\left(\\dfrac{1}{\\rho}\\dfrac{\\partial}{\\partial\\rho}\\rho\\dfrac{\\partial}{\\partial\\rho}+\\dfrac{1}{\\rho^{2}}\\dfrac{\\partial^{2}}{\\partial\\phi^{2}}+\\dfrac{\\partial^{2}}{\\partial z^{2}}+k_{b}^{2}\\right)\\psi=0 $$\n",
    "Его решения записываются через цилиндрические функции Бесселя $Z_n$\n",
    "$$ \\psi_n(k_{\\rho}, \\rho, z) = Z_{n}\\left(k_{\\rho}\\rho\\right)e^{in\\phi+ik_{z}z} $$\n",
    "а компоненты волнового вектора связаны дисперсионным соотношением\n",
    "$$ k_{z}^{2} = k_{b}^{2} - k_{\\rho}^{2} $$\n",
    "По аналогии с плоскими волнами здесь также разделяются волны, распространяющиеся в положительном и отрицательном направлениях относительно оси $Z$. Все решения являются суперпозицией двух типов решений, которые можно выбрать из четырех функций - функций Бесселя первого рода $J_n(x)$, функций Неймана $Y_n(x)$, и функций Ганкеля $H^{(1,2)}_n(x) = J_n(x) \\pm iY_n(x)$."
   ]
  },
  {
   "cell_type": "markdown",
   "id": "8d514812",
   "metadata": {},
   "source": [
    "### Сферические координаты и сферические волны\n",
    "\n",
    "В сферических координатах $(r,\\theta,\\phi)$ скалярное уравнение Гельмгольца имеет вид\n",
    "\\begin{equation}\n",
    "    \\left(\\dfrac{1}{r^{2}}\\dfrac{\\partial}{\\partial r}r^{2}\\dfrac{\\partial}{\\partial r}+\\dfrac{1}{r^{2}\\sin\\theta}\\dfrac{\\partial}{\\partial\\theta}\\sin\\theta\\dfrac{\\partial}{\\partial\\theta}+\\dfrac{1}{r^{2}\\sin^{2}\\theta}\\dfrac{\\partial^{2}}{\\partial\\phi^{2}}+k_{m}^{2}\\right)\\psi=0\n",
    "\\end{equation}\n",
    "Его решения записываются через сферически функции Бесселя $z_n(x)$ и присоединенные полиномы Лежандра $P_n^m(\\cos\\theta)$:\n",
    "\\begin{equation}\n",
    "    \\psi_{mn} = \\gamma_{mn} z_{n}\\left(k_{m}r\\right) P_{n}^{m}\\left(\\theta\\right) e^{im\\phi} = z_{n}\\left(k_{m}r\\right) Y_{mn} (\\theta, \\phi)\n",
    "\\end{equation}\n",
    "Индексы $0\\leq n\\leq\\infty$, $-n\\leq m\\leq n$. Все решения являются суперпозицией двух типов решений, которые можно выбрать из четырех типов сферических функций - функций Бесселя первого рода $j_n(x)$, функций Неймана $y_n(x)$, и функций Ганкеля первого и второго рода $h_n^{(1,2)}(x)=j_n(x)\\pm iy_n(x)$ (аналог двух типов плоских волн, распространяющихся в положительном и отрицательном направлении относительно оси $Z$). Как правило, выбирается пара регулярной в нуле $j_n(x)$ и $h_n^{(1)}(x)$, которая при больших аргументах представляет собой расходящуюся сферическую волну. Для функции $z_n^{\\sigma}$ введем верхний индекс $\\sigma=1,3$ и будем обозначать $z^1_n\\equiv j_n$, $z^3_n\\equiv h^{(1)}_n$. Решения, как правило, нормируются с помощью множителя\n",
    "\\begin{equation}\n",
    "    \\gamma_{mn} = \\sqrt{ \\dfrac{\\left(2n+1\\right)}{4\\pi} \\dfrac{\\left(n-m\\right)!}{\\left(n+m\\right)!} }\n",
    "\\end{equation}\n",
    "\n",
    "\n",
    "\n",
    "Для построения векторных сферических волн выберем $\\boldsymbol{c}\\equiv\\boldsymbol{r}$, тогда\n",
    "\\begin{align}\n",
    "    \\boldsymbol{M}_{nm}(k\\boldsymbol{r}) = \\nabla\\times\\boldsymbol{r} z_{n}(k_mr) Y_{nm}(\\theta,\\phi) =& \\frac{1}{\\sqrt{2\\pi n\\left(n+1\\right)}} z_{n}(k_mr) \\left[ im\\pi_{nm}(\\theta)\\hat{\\boldsymbol{e}}_{\\theta} - \\tau_{nm}(\\theta) \\hat{\\boldsymbol{e}}_{\\phi} \\right] e^{im\\phi} \\\\\n",
    "    \\boldsymbol{N}_{nm}(k\\boldsymbol{r}) = \\dfrac{1}{k_m} \\nabla\\times\\nabla\\times\\boldsymbol{r} z_{n}(k_mr) Y_{nm}(\\theta,\\phi) =& \\dfrac{\\sqrt{n\\left(n+1\\right)}}{\\sqrt{2\\pi}} \\frac{z_{n}(k_mr)}{k_mr} P_{n}^{m}(\\theta) e^{im\\phi} \\hat{\\boldsymbol{e}}_{r} + \\\\\n",
    "    &+ \\frac{1}{\\sqrt{2\\pi n\\left(n+1\\right)}} \\frac{\\tilde{z}_{n}(k_mr)}{k_mr} \\left[ \\tau_{nm}(\\theta) \\hat{\\boldsymbol{e}}_{\\theta} + im\\pi_{nm}(\\theta) \\hat{\\boldsymbol{e}}_{\\varphi} \\right] e^{im\\phi} \\\\\n",
    "    \\boldsymbol{L}_{nm}(k_m\\boldsymbol{r}) = \\dfrac{1}{k_m} \\nabla j_{n}(k_mr) Y_{nm}(\\theta,\\phi) =& z_{n}'(k_mr) P_{n}^{m}(\\theta) e^{im\\phi} \\hat{\\boldsymbol{e}}_{r} + \\\\ \n",
    "    &+ \\frac{z_{n}(k_mr)}{k_mr} \\left[ \\tau_{nm}(\\theta) \\hat{\\boldsymbol{e}}_{\\theta} + im\\pi_{nm}(\\theta)\\hat{\\boldsymbol{e}}_{\\phi} \\right] e^{im\\phi}\n",
    "\\end{align}\n",
    "где $\\tilde{z}_{n}\\left(x\\right)=d\\left(xz_{n}\\left(x\\right)\\right)/dx$, $\\pi_{nm}(\\theta) = P_{n}^{m}(\\theta)/\\sin\\theta$, и $\\tau_{nm}(\\theta) = dP_{n}^{m}(\\theta)/d\\theta$.\n",
    "\n",
    "Соотношения ортогональности будут выглядеть как\n",
    "\\begin{equation}\n",
    "    \\int_V d^3\\boldsymbol{r} \\psi^{\\sigma}_{nm}(k\\boldsymbol{r}) \\psi^{\\sigma}_{n',-m'}(k'\\boldsymbol{r}) = \\int_{V} d^3\\boldsymbol{r} \\boldsymbol{L}^{\\sigma}_{nm}(k\\boldsymbol{r}) \\cdot \\boldsymbol{L}^{\\sigma}_{n',-m'}(k'\\boldsymbol{r}) = \\pi\\delta_{mm'}\\delta_{nn'}\\dfrac{\\delta\\left(k-k'\\right)}{2k^{2}}\n",
    "\\end{equation}\n",
    "\\begin{equation}\n",
    "    \\int_{V} d^3\\boldsymbol{r} \\boldsymbol{M}^{\\sigma}_{nm}(k\\boldsymbol{r}) \\cdot \\boldsymbol{M}^{\\sigma}_{n',-m'}(k'\\boldsymbol{r}) = \\int_{V} d^3\\boldsymbol{r} \\boldsymbol{N}_{nm}(k\\boldsymbol{r}) \\cdot \\boldsymbol{N}^{\\sigma}_{n',-m'}(k'\\boldsymbol{r}) = n(n+1)\\pi\\delta_{mm'}\\delta_{nn'}\\dfrac{\\delta(k-k')}{2k^{2}}\n",
    "\\end{equation}"
   ]
  },
  {
   "cell_type": "markdown",
   "id": "4dbd1384",
   "metadata": {},
   "source": [
    "Литература:\n",
    "1. <a href=\"https://ieeexplore.ieee.org/document/8716268\">An introduction to the revised international system of units (SI)</a>\n",
    "2. Orfanidis, J. <a href=\"https://eceweb1.rutgers.edu/~orfanidi/ewa/\">Electromagnetic waves and antennas</a>, Rutgers University (2016)\n",
    "3. Colton, D.; Kress, R. Integral Equation Methods in Scattering Theory; SIAM: Philadelphia, PA, USA (2013)\n",
    "4. Lindell, I., Sihvola, A., Tretyakov, S. and Viitanen, A. Electromagnetic Waves in Chiral and Bi-Isotropic Media (Artech House, 1994).\n",
    "5. ..."
   ]
  }
 ],
 "metadata": {
  "kernelspec": {
   "display_name": "Python 3",
   "language": "python",
   "name": "python3"
  },
  "language_info": {
   "codemirror_mode": {
    "name": "ipython",
    "version": 3
   },
   "file_extension": ".py",
   "mimetype": "text/x-python",
   "name": "python",
   "nbconvert_exporter": "python",
   "pygments_lexer": "ipython3",
   "version": "3.8.8"
  }
 },
 "nbformat": 4,
 "nbformat_minor": 5
}
