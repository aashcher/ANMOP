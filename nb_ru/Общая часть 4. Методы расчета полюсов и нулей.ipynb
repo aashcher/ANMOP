{
 "cells": [
  {
   "cell_type": "markdown",
   "id": "9a53e7f1",
   "metadata": {},
   "source": [
    "Лицензия MIT\n",
    "\n",
    "© Алексей Александрович Щербаков, 2024"
   ]
  },
  {
   "cell_type": "markdown",
   "id": "d702e462",
   "metadata": {},
   "source": [
    "# Лекция 1.4. Численный анализ резонансных свойств оптических и фотонных структур. Расчет полюсов мероморфных функций."
   ]
  },
  {
   "cell_type": "markdown",
   "id": "598d7ec3",
   "metadata": {},
   "source": [
    "## Резонансные свойства и комплексные полюса\n",
    "\n",
    "Обозначим измеряемую физическую величину, являющуюся некоторой функцией электромагнитного поля, как $O(\\boldsymbol{E}(\\boldsymbol{r},\\omega))\\in \\mathbb{C}$. В измерениях частота всегда является положительной действительной величиной $\\omega\\in\\mathbb{R}_{+}$. Для анализа резонансных свойств физических физических систем применяют аналитическое продолжение функции $O$ на комплексную плоскость, которое обозначим как $o(\\boldsymbol{E}(\\boldsymbol{r},\\omega))$. Тогда резонансные свойства будут описывать комплекснозначными полюсами этой функции. Амплитуды этих полюсов соответствуют некоторым значениям электромагнитного поля, которые описывают квазинормальные моды системы. Поведение физической системы в заданном конечном диапазоне изменения частоты описывается конечным и, как правило, небольшим числом мод, поэтому надежный численный расчет резонансных состояний представляет большую важность для моделирования анализа физических свойств оптических и фотонных систем."
   ]
  },
  {
   "cell_type": "markdown",
   "id": "da2edc54",
   "metadata": {},
   "source": [
    "## Методы, основанные на теореме Коши\n",
    "\n"
   ]
  },
  {
   "cell_type": "markdown",
   "id": "dcb72616",
   "metadata": {},
   "source": [
    "#### Литература\n",
    "\n",
    "1. P. Kowalczyk, <a href=\"https://ieeexplore.ieee.org/abstract/document/8457320\">Global Complex Roots and Poles Finding Algorithm Based on Phase Analysis for Propagation and Radiation Problems</a>, IEEE Transactions on Antennas and Propagation, vol. 66, no. 12, pp. 7198-7205 (2018), <a href=\"https://github.com/PioKow/GRPF\">Source code</a>\n",
    "2. D. A. Bykov and L. L. Doskolovich, <a href=\"https://ieeexplore.ieee.org/abstract/document/6384630\">Numerical Methods for Calculating Poles of the Scattering Matrix With Applications in Grating Theory</a>, in Journal of Lightwave Technology, vol. 31, no. 5, pp. 793-801, (2013)"
   ]
  }
 ],
 "metadata": {
  "kernelspec": {
   "display_name": "Python 3",
   "language": "python",
   "name": "python3"
  },
  "language_info": {
   "codemirror_mode": {
    "name": "ipython",
    "version": 3
   },
   "file_extension": ".py",
   "mimetype": "text/x-python",
   "name": "python",
   "nbconvert_exporter": "python",
   "pygments_lexer": "ipython3",
   "version": "3.8.8"
  }
 },
 "nbformat": 4,
 "nbformat_minor": 5
}
