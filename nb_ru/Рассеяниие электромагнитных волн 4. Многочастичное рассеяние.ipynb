{
 "cells": [
  {
   "cell_type": "markdown",
   "id": "5a3ba2b9",
   "metadata": {},
   "source": [
    "Лицензия MIT\n",
    "\n",
    "© Алексей Александрович Щербаков, 2024"
   ]
  },
  {
   "cell_type": "markdown",
   "id": "00ffec2d",
   "metadata": {},
   "source": [
    "# Лекция 4.4. Рассеяние электромагнитных волн. Многочастичное рассеяние."
   ]
  },
  {
   "cell_type": "markdown",
   "id": "ab869914",
   "metadata": {},
   "source": [
    "Рассмотрение систем многих частиц часто требует отдельных методов и алгоритмов расчета, которые могут включать в себя методы моделирования одночастичного рассеяния, рассмотренные ранее. Прямое применение ..."
   ]
  },
  {
   "cell_type": "markdown",
   "id": "b9dcf27b",
   "metadata": {},
   "source": [
    "## Уравнение Фолди-Лакса\n",
    "\n",
    "Рассмотрим рассеяние электромагнитной волны на системе из $N$ рассеивателей. Представим рассеивающий объем как объединение $N$ непересекающихся объёмов, соответствующих отдельным рассеивателям:\n",
    "$$ V = \\bigcup_{i=1}^N V_i $$\n",
    "Будем отталкиваться от решения уравнений Максвелла в форме объёмного интегрального уравнения с тензорной функцией Грина свободного пространства, в котором изменение диэлектрической проницаемости в области рассеивателя $\\varepsilon_i(\\boldsymbol{r})$ по сравнению с диэлектрической проницаемостью окружающего однородного изотропного пространства $\\varepsilon_m$ приводит к возникновению токов поляризации:\n",
    "\\begin{equation}\\tag{1}\n",
    "    \\boldsymbol{E}(\\boldsymbol{r}) = \\boldsymbol{E}^{inc}(\\boldsymbol{r}) + \\intop_V d^{3}\\boldsymbol{r}' \\mathcal{G}_0(\\boldsymbol{r},\\boldsymbol{r}') \\boldsymbol{E}(\\boldsymbol{r}')U(\\boldsymbol{r}')\n",
    "\\end{equation}\n",
    "Эффективный потенциал определяется суперпозицией эффективных потенциалов, возникающих за счет присутствия каждого рассеивателя и в явном виде зависит от контраста диэлектрической проницаемости:\n",
    "\\begin{equation}\\tag{2}\n",
    "    U(\\boldsymbol{r}) = \\sum_{i=1}^N U_i(\\boldsymbol{r}),\\; U_i(\\boldsymbol{r}) = \\begin{cases} k_m^2[\\varepsilon_i(\\boldsymbol{r})/\\varepsilon_m-1], & \\boldsymbol{r}\\in V_i \\\\ 0, & \\boldsymbol{r} \\notin V_i \\end{cases}\n",
    "\\end{equation}\n",
    "где $k_m=\\omega\\sqrt{\\varepsilon_m\\mu_0}$ - волновое число в окружающем пространстве. По аналогии с оператором Грина введем матричные операторы, соответствующие умножению на потенциал,\n",
    "\\begin{equation}\\tag{3}\n",
    "    \\mathcal{U}(\\boldsymbol{r},\\boldsymbol{r}') = \\mathbb{I} \\delta(\\boldsymbol{r}-\\boldsymbol{r}') U_i (\\boldsymbol{r})\n",
    "\\end{equation}\n",
    "так что уравнение (1) запишется как\n",
    "\\begin{equation}\\tag{4}\n",
    "    \\boldsymbol{E}(\\boldsymbol{r}) = \\boldsymbol{E}^{inc}(\\boldsymbol{r}) + \\intop_V d^{3}\\boldsymbol{r}' \\mathcal{G}_0(\\boldsymbol{r},\\boldsymbol{r}') \\intop_V d^{3}\\boldsymbol{r}'' \\mathcal{U}(\\boldsymbol{r}',\\boldsymbol{r}'') \\boldsymbol{E}(\\boldsymbol{r}'')\n",
    "\\end{equation}\n",
    "\n",
    "Покажем, что решение (1) (или (4)) может быть записано в форме\n",
    "\\begin{equation}\\tag{5}\n",
    "    \\boldsymbol{E}(\\boldsymbol{r}) = \\boldsymbol{E}^{inc}(\\boldsymbol{r}) + \\sum_{i=1}^N \\intop_{V_i} d^{3}\\boldsymbol{r}' \\mathcal{G}_0(\\boldsymbol{r},\\boldsymbol{r}') \\intop_{V_i} d^{3}\\boldsymbol{r}'' \\mathcal{T}_i(\\boldsymbol{r}',\\boldsymbol{r}'') \\boldsymbol{E}_i(\\boldsymbol{r}'')\n",
    "\\end{equation}\n",
    "Здесь $\\boldsymbol{E}_i$ может быть проинтерпретировано как поле, возбуждающее $i-$й рассеиватель:\n",
    "\\begin{equation}\\tag{6}\n",
    "    \\boldsymbol{E}_i(\\boldsymbol{r}) = \\boldsymbol{E}^{inc}(\\boldsymbol{r}) + \\sum_{j\\neq i} \\boldsymbol{E}_{ij}(\\boldsymbol{r})\n",
    "\\end{equation}\n",
    "в котором \n",
    "\\begin{equation}\\tag{7}\n",
    "    \\boldsymbol{E}_{ij}(\\boldsymbol{r}) = \\intop_{V_j} d^{3}\\boldsymbol{r}' \\mathcal{G}_0(\\boldsymbol{r},\\boldsymbol{r}') \\intop_{V_j} d^{3}\\boldsymbol{r}'' \\mathcal{T}_j(\\boldsymbol{r}',\\boldsymbol{r}'') \\boldsymbol{E}_j(\\boldsymbol{r}'')\n",
    "\\end{equation}\n",
    "Введенный оператор $\\mathcal{T}_i$ "
   ]
  }
 ],
 "metadata": {
  "kernelspec": {
   "display_name": "Python 3",
   "language": "python",
   "name": "python3"
  },
  "language_info": {
   "codemirror_mode": {
    "name": "ipython",
    "version": 3
   },
   "file_extension": ".py",
   "mimetype": "text/x-python",
   "name": "python",
   "nbconvert_exporter": "python",
   "pygments_lexer": "ipython3",
   "version": "3.8.8"
  }
 },
 "nbformat": 4,
 "nbformat_minor": 5
}
