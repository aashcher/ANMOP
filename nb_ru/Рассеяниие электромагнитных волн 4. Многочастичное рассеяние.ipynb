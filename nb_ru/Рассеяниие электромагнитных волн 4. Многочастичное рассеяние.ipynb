{
 "cells": [
  {
   "cell_type": "markdown",
   "id": "5a3ba2b9",
   "metadata": {},
   "source": [
    "Лицензия MIT\n",
    "\n",
    "© Алексей Александрович Щербаков, 2024"
   ]
  },
  {
   "cell_type": "markdown",
   "id": "00ffec2d",
   "metadata": {},
   "source": [
    "# Лекция 4.4. Рассеяние электромагнитных волн. Многочастичное рассеяние."
   ]
  },
  {
   "cell_type": "markdown",
   "id": "ab869914",
   "metadata": {},
   "source": [
    "Рассмотрение систем многих частиц часто требует отдельных методов и алгоритмов расчета, которые могут включать в себя методы моделирования одночастичного рассеяния, рассмотренные ранее. Прямое применение ..."
   ]
  },
  {
   "cell_type": "markdown",
   "id": "b9dcf27b",
   "metadata": {},
   "source": [
    "## Уравнение Фолди-Лакса\n",
    "\n",
    "Рассмотрим рассеяние электромагнитной волны на системе из $N$ рассеивателей. Представим рассеивающий объем как объединение $N$ непересекающихся объёмов, соответствующих отдельным рассеивателям:\n",
    "$$ V = \\bigcup_{i=1}^N V_i $$\n",
    "Будем отталкиваться от решения уравнений Максвелла в форме объёмного интегрального уравнения с тензорной функцией Грина свободного пространства, в котором изменение диэлектрической проницаемости в области рассеивателя $\\varepsilon_i(\\boldsymbol{r})$ по сравнению с диэлектрической проницаемостью окружающего однородного изотропного пространства $\\varepsilon_m$ приводит к возникновению токов поляризации:\n",
    "\\begin{equation}\\tag{1}\n",
    "    \\boldsymbol{E}(\\boldsymbol{r}) = \\boldsymbol{E}^{inc}(\\boldsymbol{r}) + \\intop_V d^{3}\\boldsymbol{r}' \\mathcal{G}_0(\\boldsymbol{r},\\boldsymbol{r}') \\boldsymbol{E}(\\boldsymbol{r}')U(\\boldsymbol{r}')\n",
    "\\end{equation}\n",
    "Эффективный потенциал определяется суперпозицией эффективных потенциалов, возникающих за счет присутствия каждого рассеивателя и в явном виде зависит от контраста диэлектрической проницаемости:\n",
    "\\begin{equation}\\tag{2}\n",
    "    U(\\boldsymbol{r}) = \\sum_{i=1}^N U_i(\\boldsymbol{r}),\\; U_i(\\boldsymbol{r}) = \\begin{cases} k_m^2[\\varepsilon_i(\\boldsymbol{r})/\\varepsilon_m-1], & \\boldsymbol{r}\\in V_i \\\\ 0, & \\boldsymbol{r} \\notin V_i \\end{cases}\n",
    "\\end{equation}\n",
    "где $k_m=\\omega\\sqrt{\\varepsilon_m\\mu_0}$ - волновое число в окружающем пространстве. По аналогии с оператором Грина введем матричные операторы, соответствующие умножению на потенциал,\n",
    "\\begin{equation}\\tag{3}\n",
    "    \\mathcal{U}(\\boldsymbol{r},\\boldsymbol{r}') = \\mathbb{I} \\delta(\\boldsymbol{r}-\\boldsymbol{r}') U_i (\\boldsymbol{r})\n",
    "\\end{equation}\n",
    "так что уравнение (1) запишется как\n",
    "\\begin{equation}\\tag{4}\n",
    "    \\boldsymbol{E}(\\boldsymbol{r}) = \\boldsymbol{E}^{inc}(\\boldsymbol{r}) + \\intop_V d^{3}\\boldsymbol{r}' \\mathcal{G}_0(\\boldsymbol{r},\\boldsymbol{r}') \\intop_V d^{3}\\boldsymbol{r}'' \\mathcal{U}(\\boldsymbol{r}',\\boldsymbol{r}'') \\boldsymbol{E}(\\boldsymbol{r}'')\n",
    "\\end{equation}\n",
    "\n",
    "Покажем, что решение (1) (или (4)) может быть записано в форме\n",
    "\\begin{equation}\\tag{5}\n",
    "    \\boldsymbol{E}(\\boldsymbol{r}) = \\boldsymbol{E}^{inc}(\\boldsymbol{r}) + \\sum_{i=1}^N \\intop_{V_i} d^{3}\\boldsymbol{r}' \\mathcal{G}_0(\\boldsymbol{r},\\boldsymbol{r}') \\intop_{V_i} d^{3}\\boldsymbol{r}'' \\mathcal{T}_i(\\boldsymbol{r}',\\boldsymbol{r}'') \\boldsymbol{E}_i(\\boldsymbol{r}'')\n",
    "\\end{equation}\n",
    "Здесь $\\boldsymbol{E}_i$ может быть проинтерпретировано как поле, возбуждающее $i-$й рассеиватель:\n",
    "\\begin{equation}\\tag{6}\n",
    "    \\boldsymbol{E}_i(\\boldsymbol{r}) = \\boldsymbol{E}^{inc}(\\boldsymbol{r}) + \\sum_{j\\neq i} \\boldsymbol{E}_{ij}(\\boldsymbol{r})\n",
    "\\end{equation}\n",
    "в котором \n",
    "\\begin{equation}\\tag{7}\n",
    "    \\boldsymbol{E}_{ij}(\\boldsymbol{r}) = \\intop_{V_j} d^{3}\\boldsymbol{r}' \\mathcal{G}_0(\\boldsymbol{r},\\boldsymbol{r}') \\intop_{V_j} d^{3}\\boldsymbol{r}'' \\mathcal{T}_j(\\boldsymbol{r}',\\boldsymbol{r}'') \\boldsymbol{E}_j(\\boldsymbol{r}'')\n",
    "\\end{equation}\n",
    "Введенный оператор $\\mathcal{T}_i$ определяется уравнением Липпмана-Швингера\n",
    "\\begin{equation}\\tag{8}\n",
    "    \\mathcal{T}_i(\\boldsymbol{r},\\boldsymbol{r}') = \\mathcal{Г}_i(\\boldsymbol{r},\\boldsymbol{r}') + U_i(\\boldsymbol{r}) \\intop_{V_i} d^{3}\\boldsymbol{r}'' \\mathcal{G}_j(\\boldsymbol{r},\\boldsymbol{r}'') \\mathcal{T}_i(\\boldsymbol{r}'',\\boldsymbol{r}')\n",
    "\\end{equation}\n",
    "\n",
    "Для доказательства запишем последние уравнения в сокращенном операторном виде. Уравнения (4) и (5) перепишутсят как\n",
    "\\begin{equation}\\tag{9}\n",
    "    \\boldsymbol{E} = \\boldsymbol{E}^{inc} + \\hat{\\text{G}} \\hat{\\text{U}} \\boldsymbol{E} = \\boldsymbol{E}^{inc} + \\sum_{i=1}^N \\hat{\\text{G}} \\hat{\\text{T}}_i \\boldsymbol{E}_i\n",
    "\\end{equation}\n",
    "а уравнения (6)-(8) - как\n",
    "\\begin{equation}\\tag{10}\n",
    "    \\boldsymbol{E}_i = \\boldsymbol{E}^{inc} + \\sum_{i=1,i\\neq j}^N \\hat{\\text{G}} \\hat{\\text{T}}_j \\boldsymbol{E}_j, \\; \\hat{\\text{T}}_i = \\hat{\\text{U}}_i + \\hat{\\text{G}} \\hat{\\text{T}}_i\n",
    "\\end{equation}\n",
    "Сделаем подстановку и проверим справедливость второго равенства в (9):\n",
    "$$ \\boldsymbol{E} = \\boldsymbol{E}^{inc} + \\hat{\\text{G}} \\hat{\\text{U}} \\boldsymbol{E} = \\boldsymbol{E} = \\boldsymbol{E}^{inc} + \\hat{\\text{G}} \\hat{\\text{U}} \\left( \\boldsymbol{E}^{inc} + \\sum_{i=1}^N \\hat{\\text{G}} \\hat{\\text{T}}_i \\boldsymbol{E}_i \\right) = $$\n",
    "$$ = \\boldsymbol{E}^{inc} + \\hat{\\text{G}} \\hat{\\text{U}} \\boldsymbol{E}^{inc} + \\hat{\\text{G}} \\sum_{i=1}^N \\left(  \\hat{\\text{U}}_i + \\sum_{j=1,j\\neq i}^N \\hat{\\text{U}}_j \\right) \\hat{\\text{G}} \\hat{\\text{T}}_i \\boldsymbol{E}_i = $$\n",
    "$$ = \\boldsymbol{E}^{inc} + \\hat{\\text{G}} \\hat{\\text{U}} \\boldsymbol{E}^{inc} + \\hat{\\text{G}} \\sum_{i=1}^N \\left( \\hat{\\text{T}}_i - \\hat{\\text{U}}_i + \\sum_{j=1,j\\neq i}^N \\hat{\\text{U}}_j \\hat{\\text{G}} \\hat{\\text{T}}_i \\right) \\boldsymbol{E}_i = $$\n",
    "$$ = \\boldsymbol{E}^{inc} + \\hat{\\text{G}} \\hat{\\text{U}} \\boldsymbol{E}^{inc} + \\hat{\\text{G}} \\sum_{i=1}^N  \\hat{\\text{T}}_i \\boldsymbol{E}_i - \\hat{\\text{G}} \\sum_{i=1}^N  \\hat{\\text{U}}_i \\boldsymbol{E}_i + \\hat{\\text{G}} \\sum_{i=1}^N \\hat{\\text{U}}_i \\sum_{j=1,j\\neq i}^N \\hat{\\text{G}} \\hat{\\text{T}}_j \\boldsymbol{E}_j = $$\n",
    "$$ = \\boldsymbol{E}^{inc} + \\hat{\\text{G}} \\hat{\\text{U}} \\boldsymbol{E}^{inc} + \\sum_{i=1}^N \\hat{\\text{G}} \\hat{\\text{T}}_i \\boldsymbol{E}_i + \\hat{\\text{G}} \\sum_{i=1}^N \\hat{\\text{U}}_i \\left( \\sum_{j=1,j\\neq i}^N \\hat{\\text{G}} \\hat{\\text{T}}_j \\boldsymbol{E}_j - \\boldsymbol{E}_i \\right) = $$\n",
    "$$ = \\boldsymbol{E}^{inc} + \\hat{\\text{G}} \\hat{\\text{U}} \\boldsymbol{E}^{inc} + \\sum_{i=1}^N \\hat{\\text{G}} \\hat{\\text{T}}_i \\boldsymbol{E}_i - \\hat{\\text{G}} \\sum_{i=1}^N \\hat{\\text{U}}_i \\boldsymbol{E}^{inc} = \\boldsymbol{E}^{inc}  + \\sum_{i=1}^N \\hat{\\text{G}} \\hat{\\text{T}}_i \\boldsymbol{E}_i $$\n",
    "Смысл приведенных уравнений (см. (9)) заключается в том, что поле в любой точке пространства может быть представлено как суперпозиция падающего поля и парциальных вкладов в рассеянное поле за счет отдельных частиц некоторого ансамбля: $\\boldsymbol{E} = \\boldsymbol{E} + \\sum \\boldsymbol{E}^{part}_i$. При этом поле, которое можно рассматривать как возбуждение заданной частицы раскладывается на падающее и поля, рассеянное всеми другими частицами. При этом $\\hat{\\text{T}}_i$ является оператором перехода (transition operator) $i-$й частицы."
   ]
  },
  {
   "cell_type": "markdown",
   "id": "e5e99fb2",
   "metadata": {},
   "source": [
    "## Расчет рассеяния через T-матрицы Уотермана отдельных рассеивателей\n",
    "\n",
    "На практике рассеяние на каждом отдельном рассеивателе из некоторой группы частиц оказывается удобным рассматривать в локальной системе координат рассеивателя. Поскольку требуется одновременно учитывать как внешнее поле, так и волны, приходящие от одних частиц к другим, применение T-матриц даёт возможность эффективно численно применить уравнения Фолди-Лакса. Т-матрица Уотермана рассеивающей частицы связывает коэффициенты разложения внешнего поля по регулярным векторным сферическим волнам с коэффциентами разложения рассеянного этой частицей поля по расходящимся векторным сферическим волнам\n",
    "\\begin{equation}\\tag{11}\n",
    "    \\boldsymbol{a}_i(\\boldsymbol{r}^{(i)}) = T_i \\boldsymbol{c}_i^{ext}(\\boldsymbol{r}^{(i)})\n",
    "\\end{equation}\n",
    "Здесь индекс $i$ нумерует частицы рассматриваемого ансамбля, как и выше, а $\\boldsymbol{r}^{(i)}$ обозначает координатный вектор в локальной системе координат $i$-й частицы.\n",
    "\n",
    "При переходе из одной системы координат в другую компоненты векторных сферических волн оказываются линейно связаны друг с другом. Обычно эту связь записывают как\n",
    "\\begin{split}\\tag{12}\n",
    "    \\boldsymbol{M}_{mn}^{(3)}(\\boldsymbol{r}^{(j)}) = \\sum_{m'n'} \\left[ A_{mn}^{m'n'}(\\boldsymbol{r}^{(ji)}) \\boldsymbol{M}_{m'n'}^{(1)}(\\boldsymbol{r}^{(i)}) + B_{mn}^{m'n'}(\\boldsymbol{r}^{(ji)}) \\boldsymbol{N}_{m'n'}^{(1)}(\\boldsymbol{r}^{(i)}) \\right] \\\\\n",
    "    \\boldsymbol{N}_{mn}^{(3)}(\\boldsymbol{r}^{(j)}) = \\sum_{m'n'} \\left[ A_{mn}^{m'n'}(\\boldsymbol{r}^{(ji)}) \\boldsymbol{N}_{m'n'}^{(1)}(\\boldsymbol{r}^{(i)}) + B_{mn}^{m'n'}(\\boldsymbol{r}^{(ji)}) \\boldsymbol{M}_{m'n'}^{(1)}(\\boldsymbol{r}^{(i)}) \\right]\n",
    "\\end{split}\n",
    "где $\\boldsymbol{r}^{(i)}$ и $\\boldsymbol{r}^{(j)}$ - координаты одной и той же точки в системах координат $i$-го $j$-го рассеивателей, вектор $\\boldsymbol{r}^{(ji)} = \\boldsymbol{r}^{(j)} - \\boldsymbol{r}^{(i)}$ задаёт относительное расположение рассеивателей, и разложение справледиво при $r^{(ji)} > r^{(i)}$. Формулы (12) выражают теорему сложения векторных сферических волн. Для коэфффициентов $A_{mn}^{m'n'}$ и $B_{mn}^{m'n'}$ хорошо известны как явные формулы, так и алгоритмы их численного расчета (здесь мы на них не останавливаемся).\n",
    "\n",
    "Подставляя теорему (12) в разложение рассеянного поля, можно видеть, что векторы коффициентов поля, рассеянного $i$-й частицей, в системах координат $i$-й $j-й$ частиц связаны линейным преобразованием, которое обозначим с помощью марицы $R^{(ji)}$:\n",
    "$$ \\boldsymbol{a}(\\boldsymbol{r}^{(j)}) = R^{(ji)} \\boldsymbol{a}(\\boldsymbol{r}^{(i)}) $$\n",
    "Используя уравнения Фолди-Лакса, расчет рассеяния на отдельных рассеивателях с помощью Т-матриц Уотермана, и переносы сферических волн между различными системами координат, можно сформулировать численный метод расчета самосогласованного электромагнитного поля на ансамбле рассеивателей. Это может быть сделано различным образом. Приведем ниже пример возможной формулировки подобного метода.\n",
    "\n",
    "Кроме векторов в локальных координатах отдельных рассеивателей, рассмотрим векторы в некоторой глобальной системе координат и обозначим такие векторы индексом 0: $\\boldsymbol{r}^{(0)}$. Тогда в глобальной системе координат вектор амплитуд возбуждающего поля для $i$-й частицы есть сумма вектора амплитуд падающего поля и полей, рассеянных остальными частицами:\n",
    "\\begin{equation}\\tag{13}\n",
    "    \\boldsymbol{a}^{exc}_i(\\boldsymbol{r}^{(0)}) = \\boldsymbol{a}^{inc}(\\boldsymbol{r}^{(0)}) + \\sum_{j\\neq i} \\boldsymbol{a}^{sca}_j(\\boldsymbol{r}^{(0)}) = \\boldsymbol{a}^{inc}(\\boldsymbol{r}^{(0)}) + \\sum_{j\\neq i} R^{(0j)} T_j R^{(j0)} \\boldsymbol{a}^{exc}_j(\\boldsymbol{r}^{(0)})\n",
    "\\end{equation}\n",
    "Последнее равенство приводит к системе линейных уравнений на неизвестные векторы амплитуд возбуждающего поля:\n",
    "\\begin{equation}\\tag{14}\n",
    "    \\sum_{j=1}^N \\left[ (\\mathbb{I} + R^{(0i)} T_i R^{(i0)}) \\delta_{ij} - R^{(0j)} T_j R^{(j0)} \\right] \\boldsymbol{a}^{exc}_j(\\boldsymbol{r}^{(0)}) = \\boldsymbol{a}^{inc}(\\boldsymbol{r}^{(0)}),\\;i=1,\\dots N\n",
    "\\end{equation}\n",
    "Решение этого уравнения позволяет явно выразить полное поле через суперпозиция падающего и самосогласованного рассеянного полей:\n",
    "\\begin{equation}\\tag{15}\n",
    "    \\boldsymbol{a}(\\boldsymbol{r}^{(0)}) = \\boldsymbol{a}^{inc}(\\boldsymbol{r}^{(0)}) + \\sum_{i=1}^N \\boldsymbol{a}^{sca}_i(\\boldsymbol{r}^{(0)}) = \\boldsymbol{a}^{inc}(\\boldsymbol{r}^{(0)}) + \\sum_{i=1}^N R^{(0i)} T_i R^{(i0)} \\boldsymbol{a}^{exc}_i(\\boldsymbol{r}^{(0)}) \n",
    "\\end{equation}\n"
   ]
  },
  {
   "cell_type": "markdown",
   "id": "cfa2a0e9",
   "metadata": {},
   "source": [
    "## Периодические массивы рассеивающих частиц\n",
    "\n",
    "Если система из частиц представляет собой периодический массив, такой случай требует отдельного рассмотрения. Рассмотрим бесконечный массив одинаковых рассеивателей с известной Т-матрицей одного рассеивателя $T$, в котором частицы расположены в узлах регулярной двумерной решетки, параллельной плоскости $XY$ некотрой декартовой системы координат. Решетка Браве задется векторами $\\boldsymbol{R}_s = s_1 \\boldsymbol{p}_{1} + s_2 \\boldsymbol{p}_{2}$, где $\\boldsymbol{p}_{1,2}$ - периоды решетки, $s_{1,2}$ - целые числа.\n",
    "\n",
    "Поскольку все рассеиватели одинаковы, для нахождения рассеянного/дифрагированного поля в пространстве, возникающего при возбуждении ситсемы внешней плоской волной, достаточно рассмотреть один рассиватель, расположенный в начале коодрдинат (здесь мы опустим верхний индекс у координатных векторов, относящийся к локальным системам координат разных частицы). Как и раньше, векторы амплитуд падающего и рассеянного полей для этой частицы связаны Т-марицей\n",
    "$$ \\boldsymbol{a}^{sca,1}(\\boldsymbol{r}) = T \\boldsymbol{a}^{exc}(\\boldsymbol{r})$$\n",
    "Полное рассеянное поле есть суперпозиция полей, рассеянных каждой частицей в отдельности. Если зафиксировать блоховский вектор $\\boldsymbol{k}_0$, эти поля будут отличаться только множителем $\\exp(i\\boldsymbol{k}_0\\boldsymbol{R}_s)$. При этом локальные координаты каждого рассеивателя связаны с глобальной системой координат как $\\boldsymbol{r}_s = \\boldsymbol{r} + \\boldsymbol{R}_s$. Тогда рассеянное поле можно записать с одной стороны через амплитуды $\\boldsymbol{a}^{sca,1}$, а с другой - через некотроры амплитуды в глобальных координатах:\n",
    "\\begin{equation}\\tag{16}\n",
    "    \\boldsymbol{E}^{sca}(\\boldsymbol{r}) = \\sum_s e^{i\\boldsymbol{k}_0\\boldsymbol{R}_s} \\sum_{mn} \\left[ a^{sca,1}_{mn} \\boldsymbol{M}^{(3)}_{mn} \\right]\n",
    "\\end{equation}"
   ]
  },
  {
   "cell_type": "markdown",
   "id": "6c0219f6",
   "metadata": {},
   "source": [
    "#### Литература\n",
    "\n",
    "1. M. I. Mishchenko, L. D. Travis, and A. A. Lacis, [Multiple Scattering of Light by Particles. Radiative Transfer and Coherent Backscattering](https://www.giss.nasa.gov/staff/mmishchenko/books/Book3.pdf), NASA (2006)\n",
    "2. V. P. Tishkovets, E. V. Petrova, and M. I. Mishchenko. [Scattering of electromagnetic waves by ensembles of particles and discrete random media](https://www.sciencedirect.com/science/article/pii/S0022407311001683), Journal of Quantitative Spectroscopy & Radiative Transfer 112, 2095–2127 (2011).\n",
    "3. D. W. Mackowski, [Analysis of Radiative Scattering for Multiple Sphere Configurations](royalsocietypublishing.org/doi/abs/10.1098/rspa.1991.0066), Proc. R. Soc. Lond. A 433, 599-614 (1991)\n",
    "4. Y.-L. Hu. [Calculation of the Addition Coefficients in Electromagnetic Multisphere-Scattering Theory](https://www.sciencedirect.com/science/article/pii/S0021999196901758), J. Comp. Phys. 127, 285–298 (1996)\n",
    "5. N. Stefanou, V. Yannopapas, A. Modinos, [Heterostructures of photonic crystals: frequency bands and transmission coefficients](https://www.sciencedirect.com/science/article/pii/S0010465598000605), Computer Physics Communications 113, 49-77 (1998)."
   ]
  }
 ],
 "metadata": {
  "kernelspec": {
   "display_name": "Python 3",
   "language": "python",
   "name": "python3"
  },
  "language_info": {
   "codemirror_mode": {
    "name": "ipython",
    "version": 3
   },
   "file_extension": ".py",
   "mimetype": "text/x-python",
   "name": "python",
   "nbconvert_exporter": "python",
   "pygments_lexer": "ipython3",
   "version": "3.8.8"
  }
 },
 "nbformat": 4,
 "nbformat_minor": 5
}
