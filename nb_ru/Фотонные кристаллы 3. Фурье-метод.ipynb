{
 "cells": [
  {
   "cell_type": "markdown",
   "id": "2d2c2d55",
   "metadata": {},
   "source": [
    "Лицензия MIT\n",
    "\n",
    "© Алексей Александрович Щербаков, 2024"
   ]
  },
  {
   "cell_type": "markdown",
   "id": "111c4688",
   "metadata": {},
   "source": [
    "# Лекция 2.3. Фотонные кристаллы. Фурье-метод."
   ]
  },
  {
   "cell_type": "markdown",
   "id": "9ee23f32",
   "metadata": {},
   "source": [
    "## Одномерный случай\n",
    "\n",
    "Начнем с простого примера и рассмотрим собственные волны, распространяющиеся перпендикулярно слоям в одномерном фотонном кристалле с периодом $\\Lambda$. Пусть слои кристалла параллельный плоскости $XY$ декартовой системы координат. Тогда достаточно рассмотреть скалярное уравнение Гельмгольца для одной из компонент поля, например,\n",
    "\\begin{equation}\n",
    "    \\left[ \\dfrac{d^{2}}{dz^{2}} + \\omega^{2}\\varepsilon\\left(z\\right)\\mu_0\\right] E_x\\left(z\\right) = 0\n",
    "\\end{equation}\n",
    "Здесь для простоты среда предполагается немагнитной.\n",
    "\n",
    "Запишем теорему Блоха и разложим периодическую часть амплитуды поля в ряд Фурье:\n",
    "\\begin{equation}\n",
    "    E_x\\left(z\\right) = e^{ik_{B}z} \\varphi\\left(z\\right) = \\sum_{n=-\\infty}^{\\infty}\\varphi_{n}e^{i\\left(k_{B}+\\frac{2\\pi n}{\\Lambda}\\right)z}\n",
    "\\end{equation}\n",
    "Прямое и обратное разложение Фурье для диэлектрической проницаемости\n",
    "\\begin{align}\n",
    "    & \\varepsilon\\left(z\\right)=\\sum_{n=-\\infty}^{\\infty}\\epsilon_{n}e^{2\\pi ni\\frac{z}{\\Lambda}} \\\\\n",
    "    & \\epsilon_{n} = \\dfrac{1}{\\Lambda}\\intop_{-\\Lambda/2}^{\\Lambda/2}\\varepsilon\\left(z\\right)e^{-2\\pi ni\\frac{z}{\\Lambda}}dz\n",
    "\\end{align}\n",
    "Как правило, эти коэффициенты Фурье можно легко найти аналитически. Например, в случае двух слоё на периоде\n",
    "\\begin{equation}\n",
    "    \\varepsilon\\left(z\\right)=\\begin{cases}\n",
    "\\varepsilon_{1} & z\\in\\left[-d_{1}/2;d_{1}/2\\right)\\\\\n",
    "\\varepsilon_{2} & z\\in\\left[-\\Lambda/2;-d_{1}/2\\right)\\cup\\left[d_{1}/2;\\Lambda/2\\right)\n",
    "\\end{cases}\\Rightarrow\\epsilon_{n}=\\begin{cases}\n",
    "\\varepsilon_{1}\\dfrac{d_{1}}{\\Lambda}+\\varepsilon_{2}\\dfrac{d_{2}}{\\Lambda} & n=0\\\\\n",
    "\\left(\\varepsilon_{1}-\\varepsilon_{2}\\right)\\dfrac{\\sin\\left(\\pi nd_{1}/\\Lambda\\right)}{\\pi n} & n\\neq0\n",
    "\\end{cases}\n",
    "\\end{equation}\n",
    "Подставим разложение поля и диэлектрической проницаемости в уравнение Гельмгольца:\n",
    "\\begin{align}\n",
    "    -\\sum_{n=-\\infty}^{\\infty}\\left(k_{B}+\\dfrac{2\\pi n}{\\Lambda}\\right)^{2} & \\varphi_{n}\\exp\\left[i\\left(k_{B}+\\dfrac{2\\pi n}{\\Lambda}\\right)z\\right] + \\\\\n",
    "    + \\omega^{2}\\left\\{ \\sum_{m=-\\infty}^{\\infty}\\epsilon_{m}\\exp\\left(2\\pi im\\dfrac{z}{\\Lambda}\\right)\\right\\} & \\left\\{ \\sum_{p=-\\infty}^{\\infty}\\varphi_{p}\\exp\\left[i\\left(k_{B}+\\dfrac{2\\pi p}{\\Lambda}\\right)z\\right]\\right\\} =0\n",
    "\\end{align}\n",
    "Воспользуемся ортогональностью экспоненциальных множителей, умножая обе части уравнения на $\\exp\\left[-i\\left(k_{B}+2\\pi q/\\Lambda\\right)z\\right]$ и интегрируя по периоду:\n",
    "\\begin{equation}\n",
    "    \\left(k_{B}+\\dfrac{2\\pi q}{\\Lambda}\\right)^{2}\\varphi_{q}-\\omega^{2}\\sum_{m=-\\infty}^{\\infty}\\epsilon_{q-m}\\varphi_{m} = 0\n",
    "\\end{equation}\n",
    "Ограничивая суммирование максимальным индексом $\\max\\left|n\\right| = N$ для проведения вычислений, приходим к обобщенному уравнению на собственные значения. В нормированном виде его можно записать как\n",
    "\\begin{equation}\n",
    "    \\left(\\dfrac{k_{B}\\Lambda}{2\\pi}+q\\right)^{2}\\varphi_{q}=\\left(\\dfrac{k_{0}\\Lambda}{2\\pi}\\right)^{2}\\sum_{m=-N}^{N}\\epsilon_{q-m}\\varphi_{m}\n",
    "\\end{equation}\n",
    "Вектор $\\{ \\varphi_n \\}$ содержит $2N+1$ элемент, так что в разложении диэлектрической проницаемости необходимо принимать во внимание $4N+1$ членов."
   ]
  },
  {
   "cell_type": "markdown",
   "id": "02e2dc1a",
   "metadata": {},
   "source": [
    "## Задача на собственные значения в трех измерениях\n",
    "\n",
    "Задачу на собственные значения для немагнитных кристаллов записывают для магнитного поля:\n",
    "\\begin{equation}\n",
    "    \\nabla \\times \\frac{1}{\\varepsilon\\left(\\boldsymbol{r}\\right)} \\nabla \\times\\boldsymbol{H}\\left(\\boldsymbol{r}\\right) = \\omega^{2}\\mu_{0} \\boldsymbol{H}\\left(\\boldsymbol{r}\\right)\n",
    "\\end{equation}\n",
    "Запишем теорему Блоха для трехмерного кристалла:\n",
    "\\begin{equation}\n",
    "   \\boldsymbol{H}\\left(\\boldsymbol{r}\\right) = \n",
    "\\exp\\left(i\\boldsymbol{k}_{B}\\boldsymbol{r}\\right) \\boldsymbol{H}_{\\boldsymbol{k}}\\left(\\boldsymbol{r}\\right)\n",
    "\\end{equation}\n",
    "с периодической функцией $\\boldsymbol{H}_{\\boldsymbol{k}}(\\boldsymbol{r}) = \\boldsymbol{H}_{\\boldsymbol{k}}(\\boldsymbol{r}+\\boldsymbol{R}_{m})$ и блоховским волновым вектором $\\boldsymbol{k}_{B}=\\left(k_{Bx},k_{By},k_{Bz}\\right)^{T}$. Фурье разложение периодической части поля и обратной проницаемости\n",
    "\\begin{align}\n",
    "    1/\\varepsilon\\left(\\boldsymbol{r}\\right) &= \\sum_{m}f_{m}\\exp\\left(i\\boldsymbol{G}_{m}\\boldsymbol{r}\\right) \\\\\n",
    "    \\boldsymbol{H}_{\\boldsymbol{k}}\\left(\\boldsymbol{r}\\right) &= \\sum_{m}\\boldsymbol{h}_{m}\\exp\\left(i\\boldsymbol{G}_{m}\\boldsymbol{r}\\right)\n",
    "\\end{align}\n",
    "где $\\boldsymbol{G}_{m}$ - вектор обратной решетки, а суммирование производится по трехмерному индексу. Подстановка разложения Фурье в уравнение Гельмгольца:\n",
    "\\begin{equation}\n",
    "   \\sum_{p} \\sum_{n} f_{p} \\left[ \\left( \\boldsymbol{k}_{n} + \\boldsymbol{G}_{p} \\right) \\times \\boldsymbol{k}_{n} \\times \\boldsymbol{h}_{\\boldsymbol{k}n} \\right] \\exp \\left[ i \\left( \\boldsymbol{k}_{n} + \\boldsymbol{G}_{p} \\right) \\boldsymbol{r} \\right] = -\\omega^{2} \\mu_{0} \\sum_{m} \\boldsymbol{h}_{m} \\exp\\left(i\\boldsymbol{k}_{m}\\boldsymbol{r}\\right)\n",
    "\\end{equation}\n",
    "Как и в одномерном случае, использование ортогональности экспоненциальных факторов даёт уравнение на собственные значения для векторов Фурье-амплитуд собственных полей:\n",
    "\\begin{equation}\n",
    "   \\sum_{n} f_{m-n} \\left(\\boldsymbol{k}_{m} \\times \\boldsymbol{k}_{n}\\times\\boldsymbol{h}_{\\boldsymbol{k}n}\\right)=-\\omega^{2}\\mu_{0}\\boldsymbol{h}_{\\boldsymbol{k}m}\n",
    "\\end{equation}\n",
    "Свёртку и векторные умножения в левой части уравнения можно представить как умножение некоторой матрицы на вектор. Решение задачи на собственные значения для трехмерных структур становится требовательным к вычислительным ресурсам, поэтому применяют алгоритмические способы уменьшения вычислительной сложности $O(N^3)$ этой задачи."
   ]
  },
  {
   "cell_type": "markdown",
   "id": "af54dc67",
   "metadata": {},
   "source": [
    "## Фотонные кристаллы с частотной дисперсией\n",
    "\n",
    "Если диэлектрическая проницаемость одного из материалов кристалла зависит от длины волны, полученная выше задача на собственные значения для фиксированного блоховского вектора оказывается нелинейной. Ее удобно переформулировать как задачу на поиск модуля блоховского вектора $k_B$ для фиксированной частоты излучения $\\omega$ и направления этого вектора $\\hat{\\boldsymbol{k}}_B$. Перепишем уравнение, подставив волновые вектора в виде $\\boldsymbol{k}_{m}=k_{B}\\hat{\\boldsymbol{k}}_{B}+\\boldsymbol{G}_{m}$:\n",
    "\\begin{align}\n",
    "    & k_{B}^{2} \\left[\\sum_{n}f_{m-n}\\left(\\hat{\\boldsymbol{k}}_{B} \\times \\hat{\\boldsymbol{k}}_{B} \\times \\boldsymbol{h}_{n}\\right) \\right] + \\\\\n",
    "    & + k_{B} \\left[\\sum_{n} f_{m-n} \\left( \\boldsymbol{G}_{m} \\times \\hat{\\boldsymbol{k}}_{B} \\times \\boldsymbol{h}_{n} + \\hat{\\boldsymbol{e}}_{B} \\times \\boldsymbol{G}_{n} \\times \\boldsymbol{h}_{n} \\right) \\right] + \\\\\n",
    "    & + \\sum_{n} f_{m-n} \\left(\\boldsymbol{G}_{m} \\times\\boldsymbol{G}_{n} \\times \\boldsymbol{h}_{n} \\right) + \\omega^{2} \\mu_{0} \\boldsymbol{h}_{m} = 0\n",
    "\\end{align}\n",
    "Это уравнение можно переписать в форме квадратичной задачи на собственноые значения\n",
    "\\begin{equation}\n",
    "    k_{B}^{2}M_{2}\\boldsymbol{h} + k_{B}M_{1}\\boldsymbol{h} + M_{0}\\boldsymbol{h}=0\n",
    "\\end{equation}\n",
    "которая может быть сведена к обобщенной задаче на собственные значение вдвое большего размера:\n",
    "\\begin{equation}\n",
    "    \\left(\\begin{array}{cc} M_{0} & M_{1}\\\\ 0 & I \\end{array}\\right)\\left(\\begin{array}{c} \\boldsymbol{h}_1\\\\ \\boldsymbol{h}_2 \\end{array}\\right)=k_{B}\\left(\\begin{array}{cc} 0 & -M_{2}\\\\ I & 0 \\end{array}\\right)\\left(\\begin{array}{c} \\boldsymbol{h}_1\\\\ \\boldsymbol{h}_2 \\end{array}\\right)\n",
    "\\end{equation}\n",
    "Последнее уравнение может быть решено стандартными функциями, присутствующими во всех математических пакетах."
   ]
  },
  {
   "cell_type": "markdown",
   "id": "b7152230",
   "metadata": {},
   "source": [
    "## Двумерные фотонные кристаллы\n",
    "\n",
    "В случае двух измерений рассмотренные выше общие соотношения упрощаются, разложение Фурье нужно производить только плоскости переменной $\\boldsymbol{\\rho}=(x,y)^T$, поля являются инвариантными относительно трансляций вдоль оси $Z$, перпендикулярной плоскости кристалла. Периодическую функцию поля можно разложить по двум ортогональным векторам поляризации\n",
    "\\begin{equation}\n",
    "    \\boldsymbol{H}_{\\boldsymbol{k}} \\left(\\boldsymbol{\\rho}\\right) = \\hat{\\boldsymbol{e}}_{\\boldsymbol{k}}^{s} H_{\\boldsymbol{k}}^{s} \\left(\\boldsymbol{\\rho}\\right) + \\hat{\\boldsymbol{e}}_{\\boldsymbol{k}}^{p} H_{\\boldsymbol{k}}^{p} \\left(\\boldsymbol{r}\\right)\n",
    "\\end{equation}\n",
    "где $\\hat{\\boldsymbol{e}}_{\\boldsymbol{k}}^{p} = \\hat{\\boldsymbol{e}}_{z}$, $\\hat{\\boldsymbol{e}}_{\\boldsymbol{k}}^{s} = (1/k) \\boldsymbol{k} \\times \\hat{\\boldsymbol{e}}_{z}$, причем $\\boldsymbol{k} \\cdot \\hat{\\boldsymbol{e}}_{z} = 0$. Уравнение Гельмгольца сводится к виду\n",
    "\\begin{equation}\n",
    "    \\sum_{n}f_{m-n} \\left[ \\boldsymbol{k}_{m} \\times \\boldsymbol{k}_{n} \\times \\left( \\hat{\\boldsymbol{e}}_{n}^{s} H_{\\boldsymbol{k},n}^{s} + \\hat{\\boldsymbol{e}}_{n}^{p} H_{\\boldsymbol{k},n}^{p} \\right) \\right] = - \\omega^{2} \\mu_{0} \\left( \\hat{\\boldsymbol{e}}_{m}^{s} H_{\\boldsymbol{k}m}^{s} + \\hat{\\boldsymbol{e}}_{m}^{p} H_{\\boldsymbol{k}m}^{p}\\right)\n",
    "\\end{equation}\n",
    "которое, в свою очередь, расщепляется на два независимых уравнения для двух поляризаций:\n",
    "\\begin{align}\n",
    "    \\sum_{n} f_{m-n} \\left|\\boldsymbol{k}_{m}\\right| \\left|\\boldsymbol{k}_{n}\\right| H_{\\boldsymbol{k}n}^{s} = \\omega^{2} \\mu_{0} H_{\\boldsymbol{k}m}^{s} \\\\\n",
    "    \\sum_{n} f_{m-n} \\left(\\boldsymbol{k}_{m} \\cdot \\boldsymbol{k}_{n}\\right) H_{\\boldsymbol{k}n}^{p} = \\omega^{2} \\mu_{0} H_{\\boldsymbol{k}m}^{p}\n",
    "\\end{align}\n",
    "Их можно решать как оносительно частоты, так и относительно модуля волнового вектора."
   ]
  }
 ],
 "metadata": {
  "kernelspec": {
   "display_name": "Python 3",
   "language": "python",
   "name": "python3"
  },
  "language_info": {
   "codemirror_mode": {
    "name": "ipython",
    "version": 3
   },
   "file_extension": ".py",
   "mimetype": "text/x-python",
   "name": "python",
   "nbconvert_exporter": "python",
   "pygments_lexer": "ipython3",
   "version": "3.8.8"
  }
 },
 "nbformat": 4,
 "nbformat_minor": 5
}
