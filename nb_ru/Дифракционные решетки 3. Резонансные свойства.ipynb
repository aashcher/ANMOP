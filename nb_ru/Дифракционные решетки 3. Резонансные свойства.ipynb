{
 "cells": [
  {
   "cell_type": "markdown",
   "id": "5a3ba2b9",
   "metadata": {},
   "source": [
    "Лицензия MIT\n",
    "\n",
    "© Алексей Александрович Щербаков, 2024"
   ]
  },
  {
   "cell_type": "markdown",
   "id": "00ffec2d",
   "metadata": {},
   "source": [
    "# Лекция 3.3. Дифракционные решетки. Резонансные свойства"
   ]
  },
  {
   "cell_type": "markdown",
   "id": "ab869914",
   "metadata": {},
   "source": [
    "## Резонансы и полюса матрицы рассеяния\n",
    "\n",
    "Во вводной части было показано, что моды фотонных структур можно изучать не только путем решения задачи на собственные значения для волнового уравнения, но и путем расчета полюсов матрицы рассеяния. Матрица рассеяния дает единый способ описания слоя, позволяя получить и дискретный и непрерывный спектр. Пусть на некоторую оптическую структуру падают волны, задаваемые вектором амплитуд $\\boldsymbol{a}_{inc}$, а рассеянное поле задается вектором амплитуд $\\boldsymbol{a}_{sca}$. Запишем связь между ними через обратную матрицу рассеяния как $S^{-1}\\boldsymbol{a}_{sca} = \\boldsymbol{a}_{inc}$. При нулевой правой части решениями этого уравнения будут являться собственные решения $\\boldsymbol{a}_{eig}$ уравнения Гельмгольца без источников, то есть, собственные числа будут определяться полюсами матрицы рассеяния, а собственные вектора - вычетами в этих полюсах.\n",
    "\n",
    "Полюса могут быть найдены одним из численных методов, рассмотренных в общем блоке. Если изучать резонансы в дифракционных решетках, можно использвать промежутоные результаты Фурье-модального метода, или же приближенно описать резонансы через интерференцию Блоховских мод. Рассмотрим ниже эти подходы."
   ]
  },
  {
   "cell_type": "markdown",
   "id": "3e4ad999",
   "metadata": {},
   "source": [
    "## Моды решетки\n",
    "\n",
    "###  Расчет мод решетки в рамках ФММ\n",
    "\n",
    "В рамках Фурье-модального метода в явном виде были получены Т-матрицы границ раздела слоя фотонного кристалла с однородными средами:\n",
    "\\begin{equation}\n",
    "    \\left(\\begin{array}{c} \\boldsymbol{b}^{-}\\\\ \\boldsymbol{b}^{+} \\end{array}\\right) = \\left(\\begin{array}{cc} T_{11}^{(1)} & T_{12}^{(1)} \\\\ T_{21}^{(1)} & T_{22}^{(1)} \\end{array}\\right) \\left(\\begin{array}{c} \\mathcal{E}\\boldsymbol{c}^{-} \\\\ \\boldsymbol{c}^{+} \\end{array}\\right)\n",
    "\\end{equation}\n",
    "\n",
    "\\begin{equation}\n",
    "    \\left(\\begin{array}{c} \\boldsymbol{a}^{+} \\\\ \\boldsymbol{a}^{-} \\end{array}\\right)=\\left(\\begin{array}{cc} T_{11}^{(2)} & T_{12}^{(2)} \\\\ T_{21}^{(2)} & T_{22}^{(2)} \\end{array}\\right)\\left(\\begin{array}{c} \\mathcal{E}\\boldsymbol{c}^{+}\\\\ \\boldsymbol{c}^{-} \\end{array}\\right)\n",
    "\\end{equation}\n",
    "Из этих уравнений можно получить матрицы отражения для модальных коэффициентов на границах слоя:\n",
    "\\begin{equation}\n",
    "    \\boldsymbol{b}^{+} = T_{21}^{(1)} \\mathcal{E}\\boldsymbol{c}^{-} + T_{22}^{(1)} \\boldsymbol{c}^{+}\n",
    "    \\Rightarrow \\boldsymbol{c}^{+} = \\left(T_{22}^{(1)}\\right)^{-1} \\boldsymbol{b}^{+} - \\left(T_{22}^{(1)}\\right)^{-1} T_{21}^{(1)} \\mathcal{E}\\boldsymbol{c}^{-} \\Rightarrow R_c^{(1)} = - \\left(T_{22}^{(1)}\\right)^{-1} T_{21}^{(1)}\n",
    "\\end{equation}\n",
    "\n",
    "\\begin{equation}\n",
    "    \\boldsymbol{a}^{-} = T_{21}^{(2)} \\mathcal{E}\\boldsymbol{c}^{+} + T_{22}^{(2)} \\boldsymbol{c}^{-} \n",
    "    \\Rightarrow \\boldsymbol{c}^{-} = \\left(T_{22}^{(2)}\\right)^{-1} \\boldsymbol{a}^{-} - \\left(T_{22}^{(2)}\\right)^{-1} T_{21}^{(2)} \\mathcal{E}\\boldsymbol{c}^{+} \\Rightarrow R_c^{(2)} = - \\left(T_{22}^{(2)}\\right)^{-1} T_{21}^{(2)}\n",
    "\\end{equation}\n",
    "При осутствии падающего поля получаем условие на существование собственного решения:\n",
    "\\begin{equation}\n",
    "    \\left\\{ \\begin{array}{c} \\boldsymbol{c}^{+} = R_c^{(1)} \\mathcal{E}\\boldsymbol{c}^{-} \\\\ \\boldsymbol{c}^{-} = R_c^{(2)} \\mathcal{E}\\boldsymbol{c}^{+} \\end{array} \\right. \\Rightarrow \\det \\left( \\mathbb{I} - R_c^{(1)} \\mathcal{E} R_c^{(2)} \\mathcal{E} \\right) = 0\n",
    "\\end{equation}\n",
    "Решение этого уравнения даёт частоты собственных мод решетки.\n",
    "\n",
    "### Резонансы как интерференция блоховских мод\n",
    "\n",
    "Модальное представление также позволяет получить простое приближение и физически проинтерпретировать высокодобротные резонансы в диэлектрических решетках. Рассмотрим симметричную структуру, для которой $R_c^{(1)} = R_c^{(2)}$. Пусть период и контраст решетки таковы, что в ней существует небольшое число распространяющихся блоховских мод, для которых $\\beta_m^2 > 0$, $1\\leq m\\leq N_m$. Пренебрежем всеми затухающими модами и рассмотрим более подробно отражение мод на границах решетки.\n",
    "\n",
    "В одномодовом приближении, когда $N_m=1$, равенство нулю детерминанта приводит к условию\n",
    "\\begin{equation}\n",
    "    1-r_{11}^{2}\\exp\\left(2i\\beta_{1}h\\right)=0\\Rightarrow\\beta_{1}h+\\arg r_{11}=\\pi l\n",
    "\\end{equation}\n",
    "что показывает, что в данном приближении решетка ведет себя точно также, как и плоский однородный диэлектрический слой. Амплитуда уходящей нулевой гармоники\n",
    "\\begin{equation}\n",
    "    a_1^+ = t_{1} c_1^+ \\exp(i\\beta_1 h)\n",
    "\\end{equation}\n",
    "и $|t_{1}|\\neq 0$ для любого блоховского вектора.\n",
    "\n",
    "В двумодовом приближении, когда $N_m=2$ возникают ситуации, не наблюдающиеся для однородного слоя. Во-первых, в Г-точке первая мода является симметричной, а вторая - антисимметричной. Это значит, что интеграл перекрытия внешней плоской волны, распространяющейся нормально к решетке, равен нулю, а, следовательно, $r_{12}=r_{21}=0$ а также $r_{22}=1$ и $t_2 = 0$. Состояние с возбужденной второй модой, обладающее бесконечной добротностью в Г-точке, называется связанным состоянием в континууме, защищенным симметрией. Во-вторых, для $k_B\\neq0$ двумодовое приближение даёт четыре уравнения на амплитуды мод, которые можно переписать в той же форме, что и уравнения для резонатора Фабри-Перо:\n",
    "\\begin{equation}\n",
    "    1-\\left(r^{(12)}\\right)^{2}\\exp\\left(2i\\beta_{2}h\\right)=0\n",
    "\\end{equation}\n",
    "где\n",
    "\\begin{equation}\n",
    "    r^{(12)}=\\dfrac{r_{22}+\\alpha r_{11}r_{21}r_{12}\\exp\\left(2i\\beta_{1}h\\right)}{1-\\alpha r_{21}r_{12}\\exp\\left[i\\left(\\beta_{1}+\\beta_{2}\\right)h\\right]}, \\; \\;  \\alpha=\\dfrac{1}{1-r_{11}^{2}\\exp\\left(2i\\beta_{1}h\\right)}\n",
    "\\end{equation}\n",
    "Аналогично, амплитуду уходящей плоской волны можно выразить через эффективный коэффициент пропускания:\n",
    "\\begin{equation}\n",
    "    b^{t} = t_{1}a_{1}^{+} \\exp\\left(i\\beta_{1}h\\right) + t_{2}a_{2}^{+}\\exp\\left(i\\beta_{2}h\\right) = t^{(12)}a_{2}^{+}\\exp\\left(i\\beta_{2}h\\right)\n",
    "\\end{equation}\n",
    "\n",
    "\\begin{equation}\n",
    "    t^{(12)}=t_{2}+\\alpha t_{1}r_{21}\\exp\\left(i\\beta_{1}h\\right)\\left[r^{(12)}\\exp\\left(i\\beta_{2}h\\right)+r_{11}\\exp\\left(i\\beta_{1}h\\right)\\right]\n",
    "\\end{equation}\n",
    "который уже может полностью обнулится для некоторого значения блоховского вектора. Данную ситуацию можно интерпретировать как деструктивную интерференцию полей мод в пространстве, окружающем решетку. В точке, где обнуляется эффекивный коэффициент пропускания, добротность этого состояния также равна бесконечности, а состояние называется случайныи или интерференционным связанным состоянием в континууме, или ССК Фридриха-Винтгена."
   ]
  },
  {
   "cell_type": "markdown",
   "id": "f5ba84dc",
   "metadata": {},
   "source": [
    "#### Литература\n",
    "\n",
    "1. A. V. Tishchenko, [Phenomenological representation of deep and high contrast lamellar gratings by means of the modal method](https://doi.org/10.1007/s11082-005-1188-2), Opt Quant Electron 37, 309–330 (2005)\n",
    "2. P. Lalanne, J. P. Hugonin, and P. Chavel, [Optical Properties of Deep Lamellar Gratings: A Coupled Bloch-Mode Insight](https://opg.optica.org/jlt/abstract.cfm?uri=JLT-24-6-2442), J. Lightwave Technol. 24, 2442- (2006)\n",
    "3. A. Ovcharenko, C. Blanchard, J. P. Hugonin, and C. Sauvar, [Bound states in the continuum in symmetric and asymmetric photonic crystal slabs](https://doi.org/10.1103/PhysRevB.101.155303), Phys. Rev. B 101, 155303 (2020)\n",
    "4. G. Quaranta, G. Basset, O. J. F. Martin, B. Gallinet, [Recent Advances in Resonant Waveguide Gratings](https://doi.org/10.1002/lpor.201800017) Laser & Photonics Reviews 12, 1800017 (2018)"
   ]
  }
 ],
 "metadata": {
  "kernelspec": {
   "display_name": "Python 3",
   "language": "python",
   "name": "python3"
  },
  "language_info": {
   "codemirror_mode": {
    "name": "ipython",
    "version": 3
   },
   "file_extension": ".py",
   "mimetype": "text/x-python",
   "name": "python",
   "nbconvert_exporter": "python",
   "pygments_lexer": "ipython3",
   "version": "3.8.8"
  }
 },
 "nbformat": 4,
 "nbformat_minor": 5
}
