{
 "cells": [
  {
   "cell_type": "code",
   "execution_count": null,
   "metadata": {},
   "outputs": [],
   "source": []
  },
  {
   "cell_type": "markdown",
   "metadata": {},
   "source": [
    "## Codes\n",
    "\n",
    "### Part 1. General\n",
    "\n",
    "1. Plane wave S- and T-matrices: definitions, multiplication function, emission, anusotropic layers\n",
    "2. Spherical wave S- and T-matrices\n",
    "3. Calculation of poles with divided differences\n",
    "4. Resonant state expansion 1D waveguide?\n",
    "\n",
    "### Part 2. Photonic crystals\n",
    "\n",
    "1. 1D photonic crystal band structure (add calculation of mode fields, density of states, )\n",
    "2. 2D photonic crystal nad strucutre\n",
    "3. 3D PhC with FFT\n",
    "\n",
    "### Part 3. Diffraction gratings\n",
    "\n",
    "1. 1D TMM\n",
    "2. 1D FMM\n",
    "3. Eigen states - FMM det and approach with second derivative\n",
    "\n",
    "### Part 4. Scattering\n",
    "\n",
    "1. 2D Mie scattering + multilayer Mie\n",
    "2. MoM 2D?\n",
    "3. 2D multicylinder?\n",
    "\n",
    "### Part 5. Inverse problems and optimization\n",
    "\n",
    "1. 1D multilevel grating optimization\n",
    "2. Traing a NN and compare with simulations?\n",
    "3. 2D PhC with arbitrary epsilon function?"
   ]
  },
  {
   "cell_type": "markdown",
   "metadata": {},
   "source": [
    "## Images\n",
    "\n",
    "### Part 1. General\n",
    "\n",
    "1. EM waves\n",
    "    - Lorentz lemma and reciprocity\n",
    "2. ST-matrices\n",
    "3. Calculation of poles with divided differences\n",
    "4. Resonant state expansion 1D waveguide?\n",
    "\n",
    "### Part 2. Photonic crystals\n",
    "\n",
    "1. 1D photonic crystal band structure (add calculation of mode fields, density of states, )\n",
    "2. 2D photonic crystal nad strucutre\n",
    "3. 3D PhC with FFT\n",
    "\n",
    "### Part 3. Diffraction gratings\n",
    "\n",
    "1. 1D TMM\n",
    "2. 1D FMM\n",
    "3. Eigen states - FMM det and approach with second derivative\n",
    "\n",
    "### Part 4. Scattering\n",
    "\n",
    "1. 2D Mie scattering + multilayer Mie\n",
    "2. MoM 2D?\n",
    "3. 2D multicylinder?\n",
    "\n",
    "### Part 5. Inverse problems and optimization\n",
    "\n",
    "1. 1D multilevel grating optimization\n",
    "2. Traing a NN and compare with simulations?\n",
    "3. 2D PhC with arbitrary epsilon function?"
   ]
  }
 ],
 "metadata": {
  "language_info": {
   "name": "python"
  }
 },
 "nbformat": 4,
 "nbformat_minor": 2
}
