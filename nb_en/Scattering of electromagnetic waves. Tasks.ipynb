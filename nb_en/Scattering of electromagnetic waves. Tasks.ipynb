{
 "cells": [
  {
   "cell_type": "markdown",
   "id": "5a3ba2b9",
   "metadata": {},
   "source": [
    "MIT Licence\n",
    "\n",
    "© Alexey A. Shcherbakov, 2024"
   ]
  },
  {
   "cell_type": "markdown",
   "id": "00ffec2d",
   "metadata": {},
   "source": [
    "# Scattering of electromagnetic waves. Tasks"
   ]
  },
  {
   "cell_type": "markdown",
   "id": "ab869914",
   "metadata": {},
   "source": [
    "## Common problems\n",
    "\n",
    "1. Download and run the code [ADDA](https://github.com/adda-team/adda). Calculate the scattering diagram on a dielectric particle with size parameter $ka=3$ and refractive index 1.5 and compare it with the diagram obtained using Mie theory (for example with code [STRATIFY](https://opg.optica.org/osac/fulltext.cfm?uri=osac-3-8-2290&id=434452) or any pther). How does the accuracy of the solution depend on the mesh size? Calculate the dependence of the extinction cross section on the dimensional parameter for sphere and cube. Observe and explain the asymptotics of the extinction cross section at $ka\\rightarrow\\infty$.\n",
    "2. Download and run the code [SMARTIES](https://www.wgtn.ac.nz/scps/research/research-groups/raman-lab/numerical-tools/smarties). Compare the speed of calculation of scattering on an ellipsoidal particle with the parameters from the first task by EBCM and DDA methods."
   ]
  },
  {
   "cell_type": "markdown",
   "id": "159c4846",
   "metadata": {},
   "source": [
    "## Enagineering track\n",
    "\n",
    "3. Gold metallic nanoparticles with size dispersion given by a lognormal distribution of 20 nm width are used to color water solutions. In what range should the radii of the particles be taken to color their aqueous solution violet in transmitted light? Quantify the effect of particle concentration on the observed color.\n",
    "4. One way to increase the external quantum efficiency of LEDs is to use scattering layers containing microparticles deposited on the surface of the LED. The increase in output can be evaluated by considering the incident plane waves at different angles, including evanescent waves, from a highly refractive medium onto a thin dielectric layer containing micron-sized spherical particles. Download and install the package [SMUTHI](https://smuthi.readthedocs.io/en/latest/_source/01%20about/about_smuthi.html). Perform test calculations of plane wave scattering on a layer with scattering particles. Propose a strategy to solve the original problem of increasing the efficiency of LEDs.\n",
    "5. Download and install the [Optical Tweezer Toolbox](https://github.com/ilent2/ott). Investigate the capture force of polystyrene particles with diameters from 100 nm to 1 µm in water by Gaussian beams with different parameters. Provide a reasonable estimation of a maximum speed with which it is possible to move the particles in the considered examples."
   ]
  },
  {
   "cell_type": "markdown",
   "id": "593903e7",
   "metadata": {},
   "source": [
    "## Numerical track\n",
    "\n",
    "3. Derive the relation between Cartesian and spherical multipoles and write a program to calculate the corresponding coefficients.\n",
    "4. Numerically investigate the convergence of Mie coefficients calculated via spherical Bessel functions and via Riccatti-Bessel functions. Explain the observed curves?\n",
    "5. Compare the accuracy and time necessary to calculate zone diagrams of photonic crystals consisting of dielectric or metal cylindrical inclusions in the air by plane wave and multiparticle scattering methods with cylindrical harmonic decomposition."
   ]
  },
  {
   "cell_type": "markdown",
   "id": "7d410b3c",
   "metadata": {},
   "source": [
    "## Theoretical track\n",
    "\n",
    "3. Derive a rule for averaging the dielectric constant of a fine mixture with small deviations of the dielectric constant from the mean value in the quasi-static approximation.\n",
    "4. Derive the relation for the Waterman T-matrx: $$\\mathcal{T}^{\\dagger}\\mathcal{T} = -\\frac{1}{2}(\\mathcal{T}^{\\dagger}+\\mathcal{T})$$.\n",
    "5. From the properties of the symmetry of the scattering amplitudes and the symmetry of the vector spherical harmonics at reflecting angles, derive the reciprocity relations for the elements of the Waterman T-matrix."
   ]
  }
 ],
 "metadata": {
  "kernelspec": {
   "display_name": "Python 3",
   "language": "python",
   "name": "python3"
  },
  "language_info": {
   "codemirror_mode": {
    "name": "ipython",
    "version": 3
   },
   "file_extension": ".py",
   "mimetype": "text/x-python",
   "name": "python",
   "nbconvert_exporter": "python",
   "pygments_lexer": "ipython3",
   "version": "3.8.8"
  }
 },
 "nbformat": 4,
 "nbformat_minor": 5
}
