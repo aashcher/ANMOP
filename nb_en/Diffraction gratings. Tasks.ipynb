{
 "cells": [
  {
   "cell_type": "markdown",
   "id": "5a3ba2b9",
   "metadata": {},
   "source": [
    "MIT Licence\n",
    "\n",
    "© Alexey A. Shcherbakov, 2024"
   ]
  },
  {
   "cell_type": "markdown",
   "id": "00ffec2d",
   "metadata": {},
   "source": [
    "# Diffraction gratings. Tasks"
   ]
  },
  {
   "cell_type": "markdown",
   "id": "9b22319c",
   "metadata": {},
   "source": [
    "## Problems for all tracks\n",
    "\n",
    "1. For the Fourier-modal method, plot the dependence of the required number of Fourier-harmonics on the depth, thickness, and contrast of a one-dimensional diffraction grating, which would provide calculations with an accuracy of 0.1% for the efficiencies of all propagating diffraction orders. Consider a planar slab of a one-dimensional photonic crystal consisting of alternating layers of air and dielectric as the grating. Consider a refractive index contrast variation range of 0.1-2, a period range of 0.1-10 wavelengths, and a depth range of 0.1-10 wavelengths.\n",
    "2. Consider a simple grating being a slab of a one-dimensional crystal consisting of alternating layers of air and dielectric with a refractive index of 3.5 and a filling factor of 0.5. Calculate the reflection map in coordinates $(k_B\\Lambda/2\\pi,\\;\\Lambda/\\lambda)$ for a grating depth to period ratio of 0.7. Demonstrate the manifestations of Fabry-Perot modes and high-quality resonances on this map. Indicate the positions of the bound states in the continuum. Calculate and plot a refrlection coefficient map in the coordinates $(h/\\lambda,\\;\\Lambda/\\lambda)$ for the Gamma-point and for the small nonzero Bloch vector modulo. Explain the difference in the resulting patterns. How can this graph be used to design lattices with high-frequency resonances?"
   ]
  },
  {
   "cell_type": "markdown",
   "id": "ab869914",
   "metadata": {},
   "source": [
    "## Engineering track\n",
    "\n",
    "3. For redirecting laser beams, so-called blazed gratings are used, which are a periodically modulated surfaces, often with a profile that is a right-angled triangle, one side of which is much smaller than the other, and the period of the grating is much larger than the wavelength. The operation of such a grating is to redirect the radiation energy in the direction given by the law of reflection for the long side of the triangle. Derive the condition under which this direction coincides with the $n$-th diffraction order. Consider such a grating made of a material with refractive index 1.5 and an angle at the long side of the triangle of 15 degrees. What can be the periods of such a grating? Calculate the optimum depth of the grating for 2-3 various values of the obtained periods, at which the maximum fraction of the incident beam energy is reflected in a given direction (any suitable software can be used).\n",
    "4. Diffraction gratings are used to compress laser pulses by redirecting the radiation energy to -1 order of diffraction. One example is a simple binary grating which can be placed on top of either a metallic reflector or a Bragg mirror made of alternating quarter-wave plates (a multilayer substrate). Let it be required to redirect the energy of a plane wave with a length of 800 nm incident on the structure at an angle of 60 degrees. The structure is a metal mirror with a 41 nm thick layer of aluminum oxide deposited on top of it. Rectangular tantalum oxide grating pitches with a width of 214 nm are deposited on top. Select the optimal period and depth of the grating so that only the zero and minus first orders of diffraction propagate in the air, which would provide a theoretically 100% conversion of the incident beam energy to the -1 order of diffraction."
   ]
  },
  {
   "cell_type": "markdown",
   "id": "e06bbe73",
   "metadata": {},
   "source": [
    "## Numerical track\n",
    "\n",
    "3. Study the properties of the solutions of the dispersion equation for a one-dimensional photonic crystal consisting of alternating absorbing and dielectric layers by adding the imaginary part to the dielectric permittivity and constructing the trajectories of the solutions of the dispersion equation on the complex plane. Propose an algorithm for calculating the mode propagation constants in such a crystal and compare the results with the propagation constants obtained with the Fourier-modal method.\n",
    "4. For the gratings from the second problem, select the mode for which both symmetry-protected BIC and the occasional BIC are observed. Write a program to calculate the position and quality factor of this mode as a function of a point in the first Brillouin zone. According to what law does the quality factor grows in the vicnity of BICs?"
   ]
  },
  {
   "cell_type": "markdown",
   "id": "5607e6a6",
   "metadata": {},
   "source": [
    "## Theoretical track\n",
    "\n",
    "1. In the case of complex dielectric permittivity, the differential operator of the Helmholtz equation for a one-dimensional photonic crystal is not self-adjoint, hence, its eigenfunctions are not orthogonal. To implement the modal method, it is necessary to have a basis orthogonal to the eigenvalue basis of the above operator. Given the explicit form of the inner scalar product $$ \\langle f,g \\rangle = \\intop_0^{\\Lambda} \\frac{1}{\\eta(x)} f^*(x) g(x) dx $$ write explicitly the adjoint operator. Show that the eigenfunctions of the initial and adjoint operators are mutually orthogonal. What changes should be made in the modal method for calculating the scattering matrix of a simple binary lattice with absorbing materials?\n",
    "2. Derive an iterative algorithm for the second-order method of calculating the poles of the scattering matrix:\n",
    "$$ \\omega_{n+1}=\\omega_{n}+2\\dfrac{\\max\\mathrm{eig}\\left(S'\\left(\\omega_{n}\\right)\\right)}{\\max\\mathrm{eig}\\left(S''\\left(\\omega_{n}\\right)\\right)} $$\n",
    "3. Obtain the relation between the truncated Fourier images of the electric induction and electric field for the TM polarization for the case of a slanted grating (binary photonic crystal is inclined at angle $\\varphi$ to the grating priodicity direction), taking into account the boundary conditions on the normal and tangential components of the electric field and the following factorization rules: the truncated Fourier image of the product of a continuous function $f$ and a function $g$ having discontinuities of the first kind is calculated as the product of the corresponding Teplitz matrix and the Fourier vector of the amplitudes $T(f)\\boldsymbol{g}$; the truncated Fourier image of the product of functions $f$ and $g$ having coincident discontinuities of the first kind is calculated as the product of the corresponding inverse Teplitz matrix and the Fourier vector of amplitudes $T^{-1}(1/f)\\boldsymbol{g}$."
   ]
  }
 ],
 "metadata": {
  "kernelspec": {
   "display_name": "Python 3",
   "language": "python",
   "name": "python3"
  },
  "language_info": {
   "codemirror_mode": {
    "name": "ipython",
    "version": 3
   },
   "file_extension": ".py",
   "mimetype": "text/x-python",
   "name": "python",
   "nbconvert_exporter": "python",
   "pygments_lexer": "ipython3",
   "version": "3.8.8"
  }
 },
 "nbformat": 4,
 "nbformat_minor": 5
}
