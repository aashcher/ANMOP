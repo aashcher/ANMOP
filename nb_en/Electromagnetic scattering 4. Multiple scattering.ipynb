{
 "cells": [
  {
   "cell_type": "markdown",
   "id": "5a3ba2b9",
   "metadata": {},
   "source": [
    "MIT Licence\n",
    "\n",
    "© Alexey A. Shcherbakov, 2024"
   ]
  },
  {
   "cell_type": "markdown",
   "id": "00ffec2d",
   "metadata": {},
   "source": [
    "# Lecture 4.4. Electromagnetic scattering. Multiple scattering."
   ]
  },
  {
   "cell_type": "markdown",
   "id": "ab869914",
   "metadata": {},
   "source": [
    "The consideration of many-particle systems often requires separate calculation methods and algorithms, which may include the single-particle scattering modeling methods discussed earlier."
   ]
  },
  {
   "cell_type": "markdown",
   "id": "b9dcf27b",
   "metadata": {},
   "source": [
    "## Foldy-Lax equation\n",
    "\n",
    "Let us consider the scattering of an electromagnetic wave by a system of $N$ scatterers. We represent the scattering volume as a union of $N$ non-intersecting volumes corresponding to individual scatterers:\n",
    "$$ V = \\bigcup_{i=1}^N V_i $$\n",
    "We will start from the solution of Maxwell's equations in the form of a volume integral equation with the tensor Green's function of free space, in which the change in the permittivity in the scatterer region $\\varepsilon_i(\\boldsymbol{r})$ compared to the permittivity of the surrounding homogeneous isotropic space $\\varepsilon_m$ leads to the emergence of polarization currents:\n",
    "\\begin{equation}\\tag{1}\n",
    "    \\boldsymbol{E}(\\boldsymbol{r}) = \\boldsymbol{E}^{inc}(\\boldsymbol{r}) + \\intop_V d^{3}\\boldsymbol{r}' \\mathcal{G}_0(\\boldsymbol{r},\\boldsymbol{r}') \\boldsymbol{E}(\\boldsymbol{r}')U(\\boldsymbol{r}')\n",
    "\\end{equation}\n",
    "The effective potential is determined by the superposition of the effective potentials arising due to the presence of each scatterer and explicitly depends on the contrast of the permittivity:\n",
    "\\begin{equation}\\tag{2}\n",
    "    U(\\boldsymbol{r}) = \\sum_{i=1}^N U_i(\\boldsymbol{r}),\\; U_i(\\boldsymbol{r}) = \\begin{cases} k_m^2[\\varepsilon_i(\\boldsymbol{r})/\\varepsilon_m-1], & \\boldsymbol{r}\\in V_i \\\\ 0, & \\boldsymbol{r} \\notin V_i \\end{cases}\n",
    "\\end{equation}\n",
    "where $k_m=\\omega\\sqrt{\\varepsilon_m\\mu_0}$ is the wave number in the surrounding space. By analogy with the Green operator, we introduce matrix operators corresponding to multiplication by the potential,\n",
    "\\begin{equation}\\tag{3}\n",
    "    \\mathcal{U}(\\boldsymbol{r},\\boldsymbol{r}') = \\mathbb{I} \\delta(\\boldsymbol{r}-\\boldsymbol{r}') U_i (\\boldsymbol{r})\n",
    "\\end{equation}\n",
    "so that equation (1) can be written as\n",
    "\\begin{equation}\\tag{4}\n",
    "    \\boldsymbol{E}(\\boldsymbol{r}) = \\boldsymbol{E}^{inc}(\\boldsymbol{r}) + \\intop_V d^{3}\\boldsymbol{r}' \\mathcal{G}_0(\\boldsymbol{r},\\boldsymbol{r}') \\intop_V d^{3}\\boldsymbol{r}'' \\mathcal{U}(\\boldsymbol{r}',\\boldsymbol{r}'') \\boldsymbol{E}(\\boldsymbol{r}'')\n",
    "\\end{equation}\n",
    "\n",
    "Let us show that the solution (1) (or (4)) can be written in the form\n",
    "\\begin{equation}\\tag{5}\n",
    "    \\boldsymbol{E}(\\boldsymbol{r}) = \\boldsymbol{E}^{inc}(\\boldsymbol{r}) + \\sum_{i=1}^N \\intop_{V_i} d^{3}\\boldsymbol{r}' \\mathcal{G}_0(\\boldsymbol{r},\\boldsymbol{r}') \\intop_{V_i} d^{3}\\boldsymbol{r}'' \\mathcal{T}_i(\\boldsymbol{r}',\\boldsymbol{r}'') \\boldsymbol{E}_i(\\boldsymbol{r}'')\n",
    "\\end{equation}\n",
    "Here $\\boldsymbol{E}_i$ can be interpreted as the field exciting the $i-$th scatterer:\n",
    "\\begin{equation}\\tag{6}\n",
    "    \\boldsymbol{E}_i(\\boldsymbol{r}) = \\boldsymbol{E}^{inc}(\\boldsymbol{r}) + \\sum_{j\\neq i} \\boldsymbol{E}_{ij}(\\boldsymbol{r})\n",
    "\\end{equation}\n",
    "where\n",
    "\\begin{equation}\\tag{7}\n",
    "    \\boldsymbol{E}_{ij}(\\boldsymbol{r}) = \\intop_{V_j} d^{3}\\boldsymbol{r}' \\mathcal{G}_0(\\boldsymbol{r},\\boldsymbol{r}') \\intop_{V_j} d^{3}\\boldsymbol{r}'' \\mathcal{T}_j(\\boldsymbol{r}',\\boldsymbol{r}'') \\boldsymbol{E}_j(\\boldsymbol{r}'')\n",
    "\\end{equation}\n",
    "The introduced operator $\\mathcal{T}_i$ is determined by the Lippmann-Schwinger equation\n",
    "\\begin{equation}\\tag{8}\n",
    "    \\mathcal{T}_i(\\boldsymbol{r},\\boldsymbol{r}') = \\mathcal{Г}_i(\\boldsymbol{r},\\boldsymbol{r}') + U_i(\\boldsymbol{r}) \\intop_{V_i} d^{3}\\boldsymbol{r}'' \\mathcal{G}_j(\\boldsymbol{r},\\boldsymbol{r}'') \\mathcal{T}_i(\\boldsymbol{r}'',\\boldsymbol{r}')\n",
    "\\end{equation}\n",
    "\n",
    "To prove this, we write the last equations in abbreviated operator form. Equations (4) and (5) can be rewritten as\n",
    "\\begin{equation}\\tag{9}\n",
    "    \\boldsymbol{E} = \\boldsymbol{E}^{inc} + \\hat{\\text{G}} \\hat{\\text{U}} \\boldsymbol{E} = \\boldsymbol{E}^{inc} + \\sum_{i=1}^N \\hat{\\text{G}} \\hat{\\text{T}}_i \\boldsymbol{E}_i\n",
    "\\end{equation}\n",
    "and equations (6)-(8) - as\n",
    "\\begin{equation}\\tag{10}\n",
    "    \\boldsymbol{E}_i = \\boldsymbol{E}^{inc} + \\sum_{i=1,i\\neq j}^N \\hat{\\text{G}} \\hat{\\text{T}}_j \\boldsymbol{E}_j, \\; \\hat{\\text{T}}_i = \\hat{\\text{U}}_i + \\hat{\\text{G}} \\hat{\\text{T}}_i\n",
    "\\end{equation}\n",
    "Let's make a substitution and check the validity of the second equality in (9):\n",
    "$$ \\boldsymbol{E} = \\boldsymbol{E}^{inc} + \\hat{\\text{G}} \\hat{\\text{U}} \\boldsymbol{E} = \\boldsymbol{E} = \\boldsymbol{E}^{inc} + \\hat{\\text{G}} \\hat{\\text{U}} \\left( \\boldsymbol{E}^{inc} + \\sum_{i=1}^N \\hat{\\text{G}} \\hat{\\text{T}}_i \\boldsymbol{E}_i \\right) = $$\n",
    "$$ = \\boldsymbol{E}^{inc} + \\hat{\\text{G}} \\hat{\\text{U}} \\boldsymbol{E}^{inc} + \\hat{\\text{G}} \\sum_{i=1}^N \\left(  \\hat{\\text{U}}_i + \\sum_{j=1,j\\neq i}^N \\hat{\\text{U}}_j \\right) \\hat{\\text{G}} \\hat{\\text{T}}_i \\boldsymbol{E}_i = $$\n",
    "$$ = \\boldsymbol{E}^{inc} + \\hat{\\text{G}} \\hat{\\text{U}} \\boldsymbol{E}^{inc} + \\hat{\\text{G}} \\sum_{i=1}^N \\left( \\hat{\\text{T}}_i - \\hat{\\text{U}}_i + \\sum_{j=1,j\\neq i}^N \\hat{\\text{U}}_j \\hat{\\text{G}} \\hat{\\text{T}}_i \\right) \\boldsymbol{E}_i = $$\n",
    "$$ = \\boldsymbol{E}^{inc} + \\hat{\\text{G}} \\hat{\\text{U}} \\boldsymbol{E}^{inc} + \\hat{\\text{G}} \\sum_{i=1}^N  \\hat{\\text{T}}_i \\boldsymbol{E}_i - \\hat{\\text{G}} \\sum_{i=1}^N  \\hat{\\text{U}}_i \\boldsymbol{E}_i + \\hat{\\text{G}} \\sum_{i=1}^N \\hat{\\text{U}}_i \\sum_{j=1,j\\neq i}^N \\hat{\\text{G}} \\hat{\\text{T}}_j \\boldsymbol{E}_j = $$\n",
    "$$ = \\boldsymbol{E}^{inc} + \\hat{\\text{G}} \\hat{\\text{U}} \\boldsymbol{E}^{inc} + \\sum_{i=1}^N \\hat{\\text{G}} \\hat{\\text{T}}_i \\boldsymbol{E}_i + \\hat{\\text{G}} \\sum_{i=1}^N \\hat{\\text{U}}_i \\left( \\sum_{j=1,j\\neq i}^N \\hat{\\text{G}} \\hat{\\text{T}}_j \\boldsymbol{E}_j - \\boldsymbol{E}_i \\right) = $$\n",
    "$$ = \\boldsymbol{E}^{inc} + \\hat{\\text{G}} \\hat{\\text{U}} \\boldsymbol{E}^{inc} + \\sum_{i=1}^N \\hat{\\text{G}} \\hat{\\text{T}}_i \\boldsymbol{E}_i - \\hat{\\text{G}} \\sum_{i=1}^N \\hat{\\text{U}}_i \\boldsymbol{E}^{inc} = \\boldsymbol{E}^{inc}  + \\sum_{i=1}^N \\hat{\\text{G}} \\hat{\\text{T}}_i \\boldsymbol{E}_i $$\n",
    "The meaning of the given equations (see (9)) is that the field at any point in space can be represented as a superposition of the incident field and partial contributions to the scattered field due to individual particles of some ensemble: $\\boldsymbol{E} = \\boldsymbol{E} + \\sum \\boldsymbol{E}^{part}_i$. In this case, the field, which can be considered as the excitation of a given particle, is decomposed into the incident field and the field scattered by all other particles. In this case, $\\hat{\\text{T}}_i$ is the transition operator of the $i-$th particle."
   ]
  },
  {
   "cell_type": "markdown",
   "id": "e5e99fb2",
   "metadata": {},
   "source": [
    "## Multiple scattering calculation based on Waterman T-matrices of individual scatterers\n",
    "\n",
    "In practice, scattering by each individual scatterer from a certain group of particles is conveniently considered in the local coordinate system of the scatterer. Since it is necessary to simultaneously take into account both the external field and the waves coming from some particles to others, the use of T-matrices makes it possible to effectively apply the Foldy-Lax equations numerically. The Waterman T-matrix of a scattering particle relates the coefficients of the expansion of the external field in regular vector spherical waves with the coefficients of the expansion of the field scattered by this particle in diverging vector spherical waves\n",
    "\\begin{equation}\\tag{11}\n",
    "    \\boldsymbol{a}_i(\\boldsymbol{r}^{(i)}) = T_i \\boldsymbol{c}_i^{ext}(\\boldsymbol{r}^{(i)})\n",
    "\\end{equation}\n",
    "Here the index $i$ numbers the particles of the ensemble under consideration, as above, and $\\boldsymbol{r}^{(i)}$ denotes the coordinate vector in the local coordinate system of the $i$-th particle.\n",
    "\n",
    "When moving from one coordinate system to another, the components of vector spherical waves are linearly related to each other. This relationship is usually written as\n",
    "\\begin{split}\n",
    "    \\boldsymbol{M}_{mn}^{(3)}(\\boldsymbol{r}^{(j)}) = \\sum_{m'n'} \\left[ A_{mn}^{m'n'}(\\boldsymbol{r}^{(ji)}) \\boldsymbol{M}_{m'n'}^{(1)}(\\boldsymbol{r}^{(i)}) + B_{mn}^{m'n'}(\\boldsymbol{r}^{(ji)}) \\boldsymbol{N}_{m'n'}^{(1)}(\\boldsymbol{r}^{(i)}) \\right] \\\\\n",
    "    \\boldsymbol{N}_{mn}^{(3)}(\\boldsymbol{r}^{(j)}) = \\sum_{m'n'} \\left[ A_{mn}^{m'n'}(\\boldsymbol{r}^{(ji)}) \\boldsymbol{N}_{m'n'}^{(1)}(\\boldsymbol{r}^{(i)}) + B_{mn}^{m'n'}(\\boldsymbol{r}^{(ji)}) \\boldsymbol{M}_{m'n'}^{(1)}(\\boldsymbol{r}^{(i)}) \\right]\n",
    "\\end{split}\n",
    "where $\\boldsymbol{r}^{(i)}$ and $\\boldsymbol{r}^{(j)}$ are the coordinates of the same point in the coordinate systems of the $i$-th $j$-th scatterers, the vector $\\boldsymbol{r}^{(ji)} = \\boldsymbol{r}^{(j)} - \\boldsymbol{r}^{(i)}$ specifies the relative position of the scatterers, and the expansion is valid for $r^{(ji)} > r^{(i)}$. Formulas (12) express the theorem of addition of vector spherical waves. For the coefficients $A_{mn}^{m'n'}$ and $B_{mn}^{m'n'}$, both explicit formulas and algorithms for their numerical calculation are well known (we will not dwell on them here).\n",
    "\n",
    "Substituting theorem (12) into the expansion of the scattered field, we can see that the vectors of the coefficients of the field scattered by the $i$-th particle in the coordinate systems of the $i$-th $j-th$ particles are related by a linear transformation, which we denote using the matrix $R^{(ji)}$:\n",
    "$$ \\boldsymbol{a}(\\boldsymbol{r}^{(j)}) = R^{(ji)} \\boldsymbol{a}(\\boldsymbol{r}^{(i)}) $$\n",
    "Using the Foldy-Lax equations, the calculation of scattering on individual scatterers using the Waterman T-matrices, and the transfers of spherical waves between different coordinate systems, we can formulate a numerical method for calculating a self-consistent electromagnetic field on an ensemble of scatterers. This can be done in various ways. Below we give an example of a possible formulation of such a method.\n",
    "\n",
    "In addition to the vectors in the local coordinates of individual scatterers, we consider the vectors in some global coordinate system and denote such vectors by the index 0: $\\boldsymbol{r}^{(0)}$. Then in the global coordinate system the vector of the amplitudes of the exciting field for the $i$-th particle is the sum of the vector of the amplitudes of the incident field and the fields scattered by the remaining particles:\n",
    "\\begin{equation}\\tag{13}\n",
    "    \\boldsymbol{a}^{exc}_i(\\boldsymbol{r}^{(0)}) = \\boldsymbol{a}^{inc}(\\boldsymbol{r}^{(0)}) + \\sum_{j\\neq i} \\boldsymbol{a}^{sca}_j(\\boldsymbol{r}^{(0)}) = \\boldsymbol{a}^{inc}(\\boldsymbol{r}^{(0)}) + \\sum_{j\\neq i} R^{(0j)} T_j R^{(j0)} \\boldsymbol{a}^{exc}_j(\\boldsymbol{r}^{(0)})\n",
    "\\end{equation}\n",
    "The last equality leads to a system of linear equations for the unknown vectors of the amplitudes of the exciting field:\n",
    "\\begin{equation}\\tag{14}\n",
    "    \\sum_{j=1}^N \\left[ (\\mathbb{I} + R^{(0i)} T_i R^{(i0)}) \\delta_{ij} - R^{(0j)} T_j R^{(j0)} \\right] \\boldsymbol{a}^{exc}_j(\\boldsymbol{r}^{(0)}) = \\boldsymbol{a}^{inc}(\\boldsymbol{r}^{(0)}),\\;i=1,\\dots N\n",
    "\\end{equation}\n",
    "The solution of this equation allows us to explicitly express the total field through a superposition of the incident and self-consistent scattered fields:\n",
    "\\begin{equation}\\tag{15}\n",
    "    \\boldsymbol{a}(\\boldsymbol{r}^{(0)}) = \\boldsymbol{a}^{inc}(\\boldsymbol{r}^{(0)}) + \\sum_{i=1}^N \\boldsymbol{a}^{sca}_i(\\boldsymbol{r}^{(0)}) = \\boldsymbol{a}^{inc}(\\boldsymbol{r}^{(0)}) + \\sum_{i=1}^N R^{(0i)} T_i R^{(i0)} \\boldsymbol{a}^{exc}_i(\\boldsymbol{r}^{(0)}) \n",
    "\\end{equation}"
   ]
  },
  {
   "cell_type": "markdown",
   "id": "cfa2a0e9",
   "metadata": {},
   "source": [
    "## Periodic arrays of scattering particles\n",
    "\n",
    "If the system of particles is a periodic array, such a case requires special consideration. Consider an infinite array of identical scatterers with a known T-matrix of one scatterer $T$, in which the particles are located at the nodes of a regular two-dimensional lattice parallel to the $XY$ plane of some Cartesian coordinate system. The Bravais lattice is given by the vectors $\\boldsymbol{R}_s = s_1 \\boldsymbol{p}_{1} + s_2 \\boldsymbol{p}_{2}$, where $\\boldsymbol{p}_{1,2}$ are the lattice periods, $s_{1,2}$ are integers.\n",
    "\n",
    "Since all scatterers are identical, to find the scattered/diffracted field in space that arises when the system is excited by an external plane wave, it is sufficient to consider one scatterer located at the origin of the coordinates (here we omit the superscript on the coordinate vectors that refers to the local coordinate systems of different particles). As before, the amplitude vectors of the incident and scattered fields for this particle are related by the T-maritz\n",
    "$$ \\boldsymbol{a}^{sca,1}(\\boldsymbol{r}) = T \\boldsymbol{a}^{exc}(\\boldsymbol{r})$$\n",
    "The total scattered field is a superposition of the fields scattered by each particle separately. If we fix the Bloch vector $\\boldsymbol{k}_0$, these fields will differ only by the factor $\\exp(i\\boldsymbol{k}_0\\boldsymbol{R}_s)$. In this case, the local coordinates of each scatterer are related to the global coordinate system as $\\boldsymbol{r}_s = \\boldsymbol{r} + \\boldsymbol{R}_s$. Then the scattered field can be written on the one hand through the amplitudes $\\boldsymbol{a}^{sca,1}$, and on the other hand through some amplitudes in global coordinates:\n",
    "\\begin{split}\n",
    "    \\boldsymbol{E}^{sca}(\\boldsymbol{r}) = \\sum_s e^{i\\boldsymbol{k}_0\\boldsymbol{R}_s} \\sum_{mn} \\left[ a^{sca,1,h}_{mn} \\boldsymbol{M}^{(3)}_{mn} (\\boldsymbol{r}_s) + a^{sca,1,e}_{mn} \\boldsymbol{N}^{(3)}_{mn} (\\boldsymbol{r}_s) \\right] = \\\\\n",
    "    = \\sum_{mn} \\left[ a^{sca,h}_{mn} \\boldsymbol{M}^{(3)}_{mn} (\\boldsymbol{r}) + a^{sca,e}_{mn} \\boldsymbol{N}^{(3)}_{mn} (\\boldsymbol{r}) \\right]\n",
    "\\end{split}\n",
    "The application of the addition theorem (12) allows us to write down the relationship between the expansion coefficients of the total scattered field and the expansion coefficients of the field scattered by one particle:\n",
    "\\begin{split}\n",
    "    a^{sca,h}_{mn} = \\sum_{m'n'} \\left[ a^{sca,1,h}_{m'n'} \\sum_{s\\neq0} e^{i\\boldsymbol{k}_0\\boldsymbol{R}_s} A_{mn}^{m'n'}(\\boldsymbol{R}_s) + a^{sca,1,e}_{m'n'} \\sum_{s\\neq0} e^{i\\boldsymbol{k}_0\\boldsymbol{R}_s} B_{mn}^{m'n'}(\\boldsymbol{R}_s) \\right] \\\\\n",
    "    a^{sca,e}_{mn} = \\sum_{m'n'} \\left[ a^{sca,1,e}_{m'n'} \\sum_{s\\neq0} e^{i\\boldsymbol{k}_0\\boldsymbol{R}_s} A_{mn}^{m'n'}(\\boldsymbol{R}_s) + a^{sca,1,h}_{m'n'} \\sum_{s\\neq0} e^{i\\boldsymbol{k}_0\\boldsymbol{R}_s} B_{mn}^{m'n'}(\\boldsymbol{R}_s) \\right]\n",
    "\\end{split}\n",
    "Let us denote the matrix elements in the last equation in a compact form as\n",
    "\\begin{equation}\\tag{18}\n",
    "\t\\left(\\!\\! \\begin{array}{c} a^{sca,h}_{mn} \\\\ a^{sca,e}_{mn} \\end{array} \\!\\!\\right) = \\sum_{m'n'} \\left(\\!\\! \\begin{array}{cc} \\Omega^{hh}_{mn,m'n'} & \\Omega^{he}_{mn,m'n'} \\\\ \\Omega^{eh}_{mn,m'n'} & \\Omega^{ee}_{mn,m'n'} \\end{array} \\!\\!\\right) \\left(\\!\\! \\begin{array}{c} a^{sca,1,h}_{mn} \\\\ a^{sca,1,e}_{mn} \\end{array} \\!\\!\\right)\n",
    "\\end{equation}\n",
    "Then, for the amplitudes of the field scattered by a particle located at the origin of coordinates, we obtain a system of linear equations\n",
    "\\begin{equation*}\n",
    "\t\\left(\\!\\! \\begin{array}{c} a^{sca,1,h}_{mn} \\\\ a^{sca,1,e}_{mn} \\end{array} \\!\\!\\right) = \\sum_{m'n'} T_{mn,m'n'} \\left(\\!\\! \\begin{array}{c} a^{inc,h}_{m'n'} + a^{sca,h}_{m'n'} \\\\ a^{inc,e}_{mn} + a^{sca,e}_{mn} \\end{array} \\!\\!\\right) \\Rightarrow\n",
    "\\end{equation*}\n",
    "\n",
    "\\begin{equation}\\tag{19}\n",
    "\t\\Rightarrow \\sum_{m'n'} \\left( \\mathbb{I} - T\\Omega \\right)_{mn,m'n'} \\left(\\!\\! \\begin{array}{c} a^{sca,1,h}_{m'n'} \\\\ a^{sca,1,e}_{m'n'} \\end{array} \\!\\!\\right) = \\sum_{m'n'} T_{mn,m'n'} \\left(\\!\\! \\begin{array}{c} a^{inc,h}_{m'n'} \\\\ a^{inc,e}_{m'n'} \\end{array} \\!\\!\\right)\n",
    "\\end{equation}\n",
    "The elements of the matrix $\\Omega$ are expressed through the so-called lattice sums - the sums of the components of the Green tensor on an infinite lattice. For these elements, special calculation algorithms have been developed for lattices of various dimensions, immersed in spaces of various dimensions."
   ]
  },
  {
   "cell_type": "markdown",
   "id": "6c0219f6",
   "metadata": {},
   "source": [
    "#### References\n",
    "\n",
    "1. M. I. Mishchenko, L. D. Travis, and A. A. Lacis, [Multiple Scattering of Light by Particles. Radiative Transfer and Coherent Backscattering](https://www.giss.nasa.gov/staff/mmishchenko/books/Book3.pdf), NASA (2006)\n",
    "2. V. P. Tishkovets, E. V. Petrova, and M. I. Mishchenko. [Scattering of electromagnetic waves by ensembles of particles and discrete random media](https://www.sciencedirect.com/science/article/pii/S0022407311001683), Journal of Quantitative Spectroscopy & Radiative Transfer 112, 2095–2127 (2011).\n",
    "3. D. W. Mackowski, [Analysis of Radiative Scattering for Multiple Sphere Configurations](royalsocietypublishing.org/doi/abs/10.1098/rspa.1991.0066), Proc. R. Soc. Lond. A 433, 599-614 (1991)\n",
    "4. Y.-L. Hu. [Calculation of the Addition Coefficients in Electromagnetic Multisphere-Scattering Theory](https://www.sciencedirect.com/science/article/pii/S0021999196901758), J. Comp. Phys. 127, 285–298 (1996)\n",
    "5. N. Stefanou, V. Yannopapas, A. Modinos, [Heterostructures of photonic crystals: frequency bands and transmission coefficients](https://www.sciencedirect.com/science/article/pii/S0010465598000605), Computer Physics Communications 113, 49-77 (1998)."
   ]
  }
 ],
 "metadata": {
  "kernelspec": {
   "display_name": "Python 3",
   "language": "python",
   "name": "python3"
  },
  "language_info": {
   "codemirror_mode": {
    "name": "ipython",
    "version": 3
   },
   "file_extension": ".py",
   "mimetype": "text/x-python",
   "name": "python",
   "nbconvert_exporter": "python",
   "pygments_lexer": "ipython3",
   "version": "3.8.8"
  }
 },
 "nbformat": 4,
 "nbformat_minor": 5
}
