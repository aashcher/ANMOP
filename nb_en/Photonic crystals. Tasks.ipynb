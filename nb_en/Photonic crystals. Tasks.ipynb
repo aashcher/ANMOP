{
 "cells": [
  {
   "cell_type": "markdown",
   "id": "9a53e7f1",
   "metadata": {},
   "source": [
    "MIT Licence\n",
    "\n",
    "© Alexey A. Shcherbakov, 2024"
   ]
  },
  {
   "cell_type": "markdown",
   "id": "d702e462",
   "metadata": {},
   "source": [
    "# Photonic crystals. Tasks"
   ]
  },
  {
   "cell_type": "markdown",
   "id": "da24fd52",
   "metadata": {},
   "source": [
    "## Common problems\n",
    "\n",
    "1. Consider a two-dimensional photonic crystal with a square lattice and one cylinder per period, and calculation of its zone diagram using the plane wave method. Characterize the convergence of the method as the number of plane waves used increases. Plot the dependence of the number of plane waves required to obtain an accuracy not worse than 1% on the refractive index contrast and zone number.\n",
    "2. Consider a Bragg mirror consisting of $N$ pairs of quarter-wave dielectric plates with refractive indices $n_{1,2}$ and thicknesses $l_{1,2}$. Derive a recurrence formula to calculate the wave impedance of the mirror for increasing number of plate pairs. Using this formula express the amplitude reflection coefficient of the mirror for a given $N$."
   ]
  },
  {
   "cell_type": "markdown",
   "id": "aa9182f9",
   "metadata": {},
   "source": [
    "## Engineering track\n",
    "\n",
    "3. Consider a Bragg mirror consisting of a finite number of quarter-wave plates of gallium nitride and aluminum nitride. Plot the dependence of the power reflection coefficient on the frequency of the incident wave. What will change if one of the plates in each pair is replaced by a half-wave plate?\n",
    "4. Design a minimum-thickness Bragg mirror consisting of pairs of plates with refractive indices $n_{1} = 1.6$, $n_{2} = 3.6$, placed between media with refractive indices $n_{b} = 1. 46$, $n_{a} = 1$ for the central wavelength $\\lambda_0 = 1.15\\;μm$, so that within the band $\\Delta\\lambda = 0.2\\;μm$ around the central wavelength the reflection coefficient is not less than $0.98$."
   ]
  },
  {
   "cell_type": "markdown",
   "id": "23fd303a",
   "metadata": {},
   "source": [
    "## Numerical track\n",
    "\n",
    "3. Consider two-dimensional photonic crystals with square and hexagonal lattice consisting of either highly refractive cylinders in air or air cylindrical channels in a highly refractive dielectric. Calculate and plot \"maps\" of photonic band gaps - two-dimensional regions corresponding to an existence of full band gaps in coordinates $(\\omega\\Lambda/2\\pi c,\\;r/\\Lambda)$, - and find the parameters for which full band gap excist for both polarizations.\n",
    "4. Write a code to calculate zone diagrams for two-dimensional crystals with material dispersion and investigate how weak dispersion in dielectrics affects the width of the found band gaps."
   ]
  },
  {
   "cell_type": "markdown",
   "id": "9d122178",
   "metadata": {},
   "source": [
    "## Theoretical track\n",
    "\n",
    "3. Using the Gelman-Feynman theorem, derive equations for calculating the group velocities of modes for a two-dimensional photonic crystal within the Fourier method.\n",
    "4. Consider a two-dimensional photonic crystal with a square lattice for the case of TM polarization. What is the degree of degeneracy of the state at the $M$ point of the first Brillouin zone, what combinations of reciprocal lattice vectors correspond to this state? Find an approximate analytic solution to the eigenvalue problem at the $M$ point for a weak dielectric permittivity contrast. Draw qualitatively the splitting of states on the dispersion diagram corresponding to the case considered. How will the asymmetry of the inclusion affect the dispersion diagram in the neighborhood of this point?"
   ]
  }
 ],
 "metadata": {
  "kernelspec": {
   "display_name": "Python 3",
   "language": "python",
   "name": "python3"
  },
  "language_info": {
   "codemirror_mode": {
    "name": "ipython",
    "version": 3
   },
   "file_extension": ".py",
   "mimetype": "text/x-python",
   "name": "python",
   "nbconvert_exporter": "python",
   "pygments_lexer": "ipython3",
   "version": "3.8.8"
  }
 },
 "nbformat": 4,
 "nbformat_minor": 5
}
