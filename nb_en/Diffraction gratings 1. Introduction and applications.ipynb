{
 "cells": [
  {
   "cell_type": "markdown",
   "id": "5a3ba2b9",
   "metadata": {},
   "source": [
    "MIT Licence\n",
    "\n",
    "© Alexey A. Shcherbakov, 2024"
   ]
  },
  {
   "cell_type": "markdown",
   "id": "00ffec2d",
   "metadata": {},
   "source": [
    "# Lecture 3.1. Diffraction gratings"
   ]
  },
  {
   "cell_type": "markdown",
   "id": "ab869914",
   "metadata": {},
   "source": [
    "## Grating equation\n",
    "\n",
    "Diffraction gratings are optical components whose material and/or geometric parameters periodically change in one or two dimensions, with the period scale varying from values ​​smaller than the wavelengths of radiation interacting with the grating to dozens of wavelengths. The periodicity of diffraction gratings results in the emergence of so-called diffraction orders - light rays in the far-field radiation zone, propagating in certain discrete directions relative to the beam/light beam incident on the grating.\n",
    "\n",
    "If a plane monochromatic electromagnetic wave is incident on a one-dimensional diffraction grating at some angle $\\theta_{inc}$, then the grating period $\\Lambda$, the radiation wavelength $\\lambda$, the angle of incidence, and the diffraction angles of the diffraction orders $\\theta_m$ - a set of plane waves propagating from the grating, - are related by the grating equation:\n",
    "\\begin{equation}\\tag{1}\n",
    "    m\\lambda = \\Lambda(\\sin\\theta_{inc} + \\sin\\theta_{m}),\\;m\\in\\mathbb{Z}\n",
    "\\end{equation}\n",
    "The values ​​$m=1,2,\\dots$ correspond to the first, second, and so on diffraction orders, and $m$ is called the diffraction order number. The position of the positive and negative diffraction orders is illustrated below. It is clear from the equation that the smaller the grating period, the more rays of nonzero diffraction orders there appear. It is assumed here that the incident, diffracted rays, and the normal to the grating plane lie in the same plane, perpendicular to the grating lines. Such a configuration is called the collinear diffraction.\n",
    "\n",
    "<figure>\n",
    "    <center>\n",
    "    <img src=\"../pic/3-1_grating_diffraction.png\" width=\"300\" align=\"center\"/>\n",
    "        <figcaption>Illustration of the plane wave diffraction on a grating</figcaption>\n",
    "    </center>\n",
    "</figure>\n",
    "\n",
    "In the case of diffraction on a one-dimensional grating, when the incident beam does not lie in a plane perpendicular to the grating grooves, we speak of conical diffraction (since in this case it can be shown that the diffracted beams lie on a conical surface).\n",
    "\n",
    "If we talk about the diffraction of a plane wave and consider the diffraction orders as secondary plane waves propagating from the grating, then the grating equation in terms of the projections of the wave vectors onto the plane of the grating is written as\n",
    "\\begin{equation}\\tag{2}\n",
    "    m\\boldsymbol{K} = \\boldsymbol{k}_{inc} + \\boldsymbol{k}_{m}\n",
    "\\end{equation}\n",
    "where $\\boldsymbol{K}=(2\\pi/\\Lambda)\\hat{\\boldsymbol{e}}_x$ is the reciprocal lattice vector. This equation holds for both collinear and conical diffraction. The grating equation is easy to obtain if we take into account that the periodicity of the structure determines the periodicity of the entire electromagnetic problem, so in homogeneous half-spaces above and below the grating the field is represented in the form of an expansion in plane waves. Bloch's theorem states that all solutions of the wave equation are representable as the product of the Bloch exponential and a periodic function. In diffraction on a grating, the Bloch wave vector will correspond to the wave vector of a plane wave incident on the grating.\n",
    "\n",
    "A special case, often encountered in applications, is the configuration where the direction of the backpropagating nonzero-order beam coincides with the direction of the incident beam. This case is called the Littrow configuration, and for it, given $\\theta_m=\\theta_{inc}$\n",
    "\\begin{equation}\\tag{3}\n",
    "    m\\lambda = 2\\Lambda\\sin\\theta_{inc}\n",
    "\\end{equation}"
   ]
  },
  {
   "cell_type": "markdown",
   "id": "eedb30ee",
   "metadata": {},
   "source": [
    "## Grating parameters\n",
    "\n",
    "The main task of a grating as a spectral device is the spatial separation of the various spectral components of incident radiation. The dispersion of the grating is a measure of this separation: rays with wavelengths in the range from $\\lambda$ to $\\lambda+\\Delta\\lambda$ have a spread of angles $\\Delta\\theta_m$ in the spectrum of the $m$-th order at a fixed angle of incidence. Angular dispersion is the change in the diffraction angle with a single change in wavelength\n",
    "\\begin{equation*}\n",
    "    D = \\frac{d\\theta_m}{d\\lambda} = \\frac{m}{\\Lambda\\cos\\theta_m} = \\frac{\\sin\\theta_{inc}+\\sin\\theta_m}{\\lambda\\cos\\theta_m}\n",
    "\\end{equation*}\n",
    "\n",
    "In the particular case of the Litrov configuration, we have $D = 2\\tan\\theta_m/\\lambda$. From this formula, we can see that with an increase in the diffraction angle from $10^{\\circ}$ to $63^{\\circ}$, the angular dispersion increases by an order of magnitude. Having obtained the required value of the diffraction angle, the question remains, however, in what diffraction order it is necessary to work, that is, to choose a small or large grating period. Gratings with a small period allow working in a wider spectral range than gratings with a large period under the specified conditions. The working spectral range is determined by the condition of overlapping of adjacent diffraction orders:\n",
    "\\begin{equation*}\n",
    "     m(\\lambda + \\Delta\\lambda) = (m+1)\\lambda \\Rightarrow F_{\\lambda} = \\Delta\\lambda = \\frac{\\lambda}{m}\n",
    "\\end{equation*}\n",
    "This explains why gratings operating at the first diffraction orders are most often encountered in applications.\n",
    "\n",
    "The linear dispersion of a grating is the product of the angular dispersion and the effective focal length of the optical system $f'(\\beta_m)D$. The inverse linear dispersion, measured in nm/mm, is often used, which is a measure of the correspondence of the shift in the spectrum to the shift in the position of the corresponding beam in the optical system.\n",
    "\n",
    "To characterize the fundamental possibility of separating two wavelengths using a grating, the resolving power parameter is introduced\n",
    "\\begin{equation}\\tag{4}\n",
    "    R = \\frac{\\lambda}{\\Delta\\lambda} = mN = \\frac{N\\Lambda(\\sin\\theta_{inc}+\\sin\\theta_m)}{\\lambda} < \\frac{2d}{\\lambda}\n",
    "\\end{equation}\n",
    "where $\\Delta\\lambda$ is the minimum spectral distance between resolvable wavelengths. The second equality is obtained by applying the Rayleigh criterion, and $N$ is the total number of lines in the grating."
   ]
  },
  {
   "cell_type": "markdown",
   "id": "19be5f35",
   "metadata": {},
   "source": [
    "## Diffraction efficiency\n",
    "\n",
    "In addition to the direction of the diffracted beams, it is also important to control what fraction of the incident radiation power is redirected to the working diffraction orders. This fraction is determined by the diffraction efficiency. If we use the approximation in which all beams are represented as plane waves and the definition of the amplitudes of s- and p-polarized waves given in the first part, and consider the plane of the grating to coincide with the $XY$ plane of the Cartesian coordinate system, the diffraction efficiency will be equal to the ratio of the $z$-projections of the moduli of the Poynting vectors of the corresponding waves and for the two polarizations in the case of collinear diffraction will be written as\n",
    "\\begin{equation}\\tag{5}\n",
    "    b = \\frac{|a_m|^2\\Re e\\{k_{mz}^{dif}/\\eta_{dif}\\}}{|a_{0}|^2\\Re e\\{k_{0z}^{inc}/\\eta_{inc}\\}}\n",
    "\\end{equation}\n",
    "\n",
    "In general, the diffraction efficiency depends in a complex way on all the parameters of the grating and the incident radiation, and in a rigorous form it is calculated only by numerically solving Maxwell's equations. However, there are simple rules and cases that allow it to be maximized without laborious calculations. The most common example is the so-called blaze condition: if the grating profile is a sawtooth function, so that the normal to the long edge of the saw is inclined at an angle $\\theta_B$ to the normal to the plane of the grating, the blaze condition has the form\n",
    "\\begin{equation}\\tag{6}\n",
    "    m\\lambda = 2\\Lambda\\sin\\theta_B\n",
    "\\end{equation}\n",
    "\n",
    "<figure>\n",
    "    <center>\n",
    "    <img src=\"../pic/3-1_blazed_grating.png\" width=\"500\" align=\"center\"/>\n",
    "        <figcaption>Blazed grating</figcaption>\n",
    "    </center>\n",
    "</figure>\n",
    "\n",
    "and is nothing more than the condition that the direction of a given diffracted beam of the $m$-order coincides with the direction of Fresnel reflection of the incident beam relative to the long face of the grating profile. The maximum efficiency is obtained when the Littrow condition $\\theta_{inc}=\\theta_m=\\theta_B$ is satisfied, that is, when the grating faces are considered as micromirrors. For a fixed blaze angle, the wavelength at which Littrov's blaze condition is satisfied is called the blaze wavelength: $\\lambda_B = 2\\Lambda\\sin\\theta_B/m$."
   ]
  },
  {
   "cell_type": "markdown",
   "id": "85d9cb4f",
   "metadata": {},
   "source": [
    "## Ewald construction\n",
    "\n",
    "The analysis of a number of diffraction effects on gratings can be conveniently performed using the so-called Ewald construction in the space of wave vectors, where the reciprocal lattice exists. As a simple example, we consider a flat one-dimensional grating in a collinear diffraction configuration, bordering two homogeneous isotropic half-spaces with refractive indices $n_{1,2}$. In this case, the reciprocal lattice is one-dimensional. In k-space, the set of ends of the wave vectors of plane waves propagating in each of the half-spaces lies on a sphere of the corresponding radius. Then the directions of propagation of diffraction orders are found by intersecting the normal, laid off from the end of the projection of the wave vector of the diffraction order, and the sphere in the corresponding half-space.\n",
    "\n",
    "<figure>\n",
    "    <center>\n",
    "    <img src=\"../pic/3-1_ewald.png\" width=\"500\" align=\"center\"/>\n",
    "        <figcaption>Example of the Ewald construction for 1D grating collinear diffraction.</figcaption>\n",
    "    </center>\n",
    "</figure>\n"
   ]
  },
  {
   "cell_type": "markdown",
   "id": "208392a0",
   "metadata": {},
   "source": [
    "#### References\n",
    "\n",
    "1. С. Palmer, [Diffraction grating handbook, 8-th edition](https://www.edmundoptics.jp/ViewDocument/MKS%20Diffraction%20Grating%20Handbook%20(8th%20edition).pdf), Newport (2020)\n",
    "2. [All About Diffraction Gratings](https://www.edmundoptics.co.uk/knowledge-center/application-notes/optics/all-about-diffraction-gratings/), https://www.edmundoptics.co.uk\n",
    "3. О.С. Литвинов, К.Б. Павлов, В.С. Горелик. [Волны и оптика. Гл. 5.5 - Дифракционная решётка](http://fn.bmstu.ru/data-physics/library/physbook/tom4/ch5/texthtml/ch5_5.htm\n",
    "4. [RP Photonics Encyclopedia. Diffraction gratings.](https://www.rp-photonics.com/diffraction_gratings.html)"
   ]
  }
 ],
 "metadata": {
  "kernelspec": {
   "display_name": "Python 3",
   "language": "python",
   "name": "python3"
  },
  "language_info": {
   "codemirror_mode": {
    "name": "ipython",
    "version": 3
   },
   "file_extension": ".py",
   "mimetype": "text/x-python",
   "name": "python",
   "nbconvert_exporter": "python",
   "pygments_lexer": "ipython3",
   "version": "3.8.8"
  }
 },
 "nbformat": 4,
 "nbformat_minor": 5
}
