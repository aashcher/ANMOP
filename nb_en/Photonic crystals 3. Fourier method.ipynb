{
 "cells": [
  {
   "cell_type": "markdown",
   "id": "2d2c2d55",
   "metadata": {},
   "source": [
    "MIT Licence\n",
    "\n",
    "© Alexey A. Shcherbakov, 2024"
   ]
  },
  {
   "cell_type": "markdown",
   "id": "111c4688",
   "metadata": {},
   "source": [
    "# Lecture 2.3. Photonic crystals. Fourier method."
   ]
  },
  {
   "cell_type": "markdown",
   "id": "c9503754",
   "metadata": {},
   "source": [
    "In this lecture we will consider an efficient method for calculating eigen solutions in photonic crystals based on the Fourier decomposition of periodic functions. First, the idea will be illustrated on the simplest example of a one-dimensional crystal, and then general formulas for the two-dimensional and three-dimensional cases will be given."
   ]
  },
  {
   "cell_type": "markdown",
   "id": "9ee23f32",
   "metadata": {},
   "source": [
    "## 1D Photonic Crystals\n",
    "\n",
    "Let us start with a simple example and consider eigenwaves propagating perpendicular to the layers in a one-dimensional photonic crystal with period $\\Lambda$. Let the layers of the crystal be parallel to the $XY$ plane of the Cartesian coordinate system. Then it is sufficient to consider the scalar Helmholtz equation for one of the field components, for example,\n",
    "\\begin{equation}\\tag{1}\n",
    "    \\left[ \\dfrac{d^{2}}{dz^{2}} + \\omega^{2}\\varepsilon\\left(z\\right)\\mu_0\\right] E_x\\left(z\\right) = 0\n",
    "\\end{equation}\n",
    "For simplicity all the media are supposed to be non-magnetic.\n",
    "\n",
    "First we write Bloch's theorem and expand the periodic part of the field amplitude into a Fourier series:\n",
    "\\begin{equation}\\tag{2}\n",
    "    E_x\\left(z\\right) = e^{ik_{B}z} \\varphi\\left(z\\right) = \\sum_{n=-\\infty}^{\\infty}\\varphi_{n}e^{i\\left(k_{B}+\\frac{2\\pi n}{\\Lambda}\\right)z}\n",
    "\\end{equation}\n",
    "Direct and inverse Fourier expansion for dielectric permittivity is\n",
    "\\begin{split}\n",
    "    & \\varepsilon\\left(z\\right)=\\sum_{n=-\\infty}^{\\infty}\\epsilon_{n}e^{2\\pi ni\\frac{z}{\\Lambda}} \\\\\n",
    "    & \\epsilon_{n} = \\dfrac{1}{\\Lambda}\\intop_{-\\Lambda/2}^{\\Lambda/2}\\varepsilon\\left(z\\right)e^{-2\\pi ni\\frac{z}{\\Lambda}}dz\n",
    "\\end{split}\n",
    "As a rule, these Fourier coefficients can be easily found analytically. For example, in the case of two layers on the period\n",
    "\\begin{equation*}\n",
    "    \\varepsilon\\left(z\\right)=\\begin{cases}\n",
    "\\varepsilon_{1} & z\\in\\left[-d_{1}/2;d_{1}/2\\right)\\\\\n",
    "\\varepsilon_{2} & z\\in\\left[-\\Lambda/2;-d_{1}/2\\right)\\cup\\left[d_{1}/2;\\Lambda/2\\right)\n",
    "\\end{cases}\\Rightarrow\\epsilon_{n}=\\begin{cases}\n",
    "\\varepsilon_{1}\\dfrac{d_{1}}{\\Lambda}+\\varepsilon_{2}\\dfrac{d_{2}}{\\Lambda} & n=0\\\\\n",
    "\\left(\\varepsilon_{1}-\\varepsilon_{2}\\right)\\dfrac{\\sin\\left(\\pi nd_{1}/\\Lambda\\right)}{\\pi n} & n\\neq0\n",
    "\\end{cases}\n",
    "\\end{equation*}\n",
    "Now we substitute the field and dielectric constant decomposition into the Helmholtz equation:\n",
    "\\begin{equation}\\tag{3}\n",
    "    \\begin{split}\n",
    "    -\\sum_{n=-\\infty}^{\\infty}\\left(k_{B}+\\dfrac{2\\pi n}{\\Lambda}\\right)^{2} & \\varphi_{n}\\exp\\left[i\\left(k_{B}+\\dfrac{2\\pi n}{\\Lambda}\\right)z\\right] + \\\\\n",
    "    + \\omega^{2}\\left\\{ \\sum_{m=-\\infty}^{\\infty}\\epsilon_{m}\\exp\\left(2\\pi im\\dfrac{z}{\\Lambda}\\right)\\right\\} & \\left\\{ \\sum_{p=-\\infty}^{\\infty}\\varphi_{p}\\exp\\left[i\\left(k_{B}+\\dfrac{2\\pi p}{\\Lambda}\\right)z\\right]\\right\\} =0\n",
    "    \\end{split}\n",
    "\\end{equation}\n",
    "We take advantage of the orthogonality of the exponential factors by multiplying both parts of the equation by $\\exp\\left[-i\\left(k_{B}+2\\pi q/\\Lambda\\right)z\\right]$ and integrating over the period:\n",
    "\\begin{equation}\\tag{4}\n",
    "    \\left(k_{B}+\\dfrac{2\\pi q}{\\Lambda}\\right)^{2}\\varphi_{q}-\\omega^{2}\\sum_{m=-\\infty}^{\\infty}\\epsilon_{q-m}\\varphi_{m} = 0\n",
    "\\end{equation}\n",
    "By restricting the summation to the maximum index $\\max\\left|n\\right| = N$ for the computations, we arrive at the generalized eigenvalue equation. In normalized form, it can be written as\n",
    "\\begin{equation}\\tag{5}\n",
    "    \\left(\\dfrac{k_{B}\\Lambda}{2\\pi}+q\\right)^{2}\\varphi_{q}=\\left(\\dfrac{k_{0}\\Lambda}{2\\pi}\\right)^{2}\\sum_{m=-N}^{N}\\epsilon_{q-m}\\varphi_{m}\n",
    "\\end{equation}\n",
    "The vector $\\{ \\varphi_n \\}$ contains $2N+1$ elements, so that one needs to take into account $4N+1$ terms in the permittivity expansion."
   ]
  },
  {
   "cell_type": "markdown",
   "id": "02e2dc1a",
   "metadata": {},
   "source": [
    "## Eigenvalue problem in 3D\n",
    "\n",
    "The eigenvalue problem for non-magnetic crystals is commonly written for the magnetic field:\n",
    "\\begin{equation}\\tag{6}\n",
    "    \\nabla \\times \\frac{1}{\\varepsilon\\left(\\boldsymbol{r}\\right)} \\nabla \\times\\boldsymbol{H}\\left(\\boldsymbol{r}\\right) = \\omega^{2}\\mu_{0} \\boldsymbol{H}\\left(\\boldsymbol{r}\\right)\n",
    "\\end{equation}\n",
    "The Bloch theorem in 3D:\n",
    "\\begin{equation}\\tag{7}\n",
    "   \\boldsymbol{H}\\left(\\boldsymbol{r}\\right) = \n",
    "\\exp\\left(i\\boldsymbol{k}_{B}\\boldsymbol{r}\\right) \\boldsymbol{H}_{\\boldsymbol{k}}\\left(\\boldsymbol{r}\\right)\n",
    "\\end{equation}\n",
    "with periodic function $\\boldsymbol{H}_{\\boldsymbol{k}}(\\boldsymbol{r}) = \\boldsymbol{H}_{\\boldsymbol{k}}(\\boldsymbol{r}+\\boldsymbol{R}_{m})$ and Bloch wavevector $\\boldsymbol{k}_{B}=\\left(k_{Bx}, k_{By},k_{Bz}\\right)^{T}$. Fourier expansion of the periodic part of the field and the inverse permeability\n",
    "\\begin{equation}\\tag{8}\n",
    "    \\begin{split}\n",
    "    1/\\varepsilon\\left(\\boldsymbol{r}\\right) &= \\sum_{m}f_{m}\\exp\\left(i\\boldsymbol{G}_{m}\\boldsymbol{r}\\right) \\\\\n",
    "    \\boldsymbol{H}_{\\boldsymbol{k}}\\left(\\boldsymbol{r}\\right) &= \\sum_{m}\\boldsymbol{h}_{m}\\exp\\left(i\\boldsymbol{G}_{m}\\boldsymbol{r}\\right)\n",
    "    \\end{split}\n",
    "\\end{equation}\n",
    "where $\\boldsymbol{G}_{m}$ is the reciprocal lattice vector, and the summation is done over the 3D index. Substitution of the Fourier expansion into the Helmholtz equations gives\n",
    "\\begin{equation}\\tag{9}\n",
    "   \\sum_{p} \\sum_{n} f_{p} \\left[ \\left( \\boldsymbol{k}_{n} + \\boldsymbol{G}_{p} \\right) \\times \\boldsymbol{k}_{n} \\times \\boldsymbol{h}_{\\boldsymbol{k}n} \\right] \\exp \\left[ i \\left( \\boldsymbol{k}_{n} + \\boldsymbol{G}_{p} \\right) \\boldsymbol{r} \\right] = -\\omega^{2} \\mu_{0} \\sum_{m} \\boldsymbol{h}_{m} \\exp\\left(i\\boldsymbol{k}_{m}\\boldsymbol{r}\\right)\n",
    "\\end{equation}\n",
    "As in the one-dimensional case, using the orthogonality of the exponential factors yields an equation on the eigenvalues for the Fourier amplitude vectors of the eigenfields:\n",
    "\\begin{equation}\\tag{10}\n",
    "   \\sum_{n} f_{m-n} \\left(\\boldsymbol{k}_{m} \\times \\boldsymbol{k}_{n}\\times\\boldsymbol{h}_{\\boldsymbol{k}n}\\right)=-\\omega^{2}\\mu_{0}\\boldsymbol{h}_{\\boldsymbol{k}m}\n",
    "\\end{equation}\n",
    "The convolution and vector multiplications in the left-hand part of the equation can be represented as multiplication of some matrix by a vector. Solving the eigenvalue problem for three-dimensional structures becomes demanding on computational resources, so algorithmic ways to reduce the computational complexity $O(N^3)$ of this problem are applied."
   ]
  },
  {
   "cell_type": "markdown",
   "id": "af54dc67",
   "metadata": {},
   "source": [
    "## Photonic crystals with material dispersion\n",
    "\n",
    "If the dielectric constant of one of the crystal materials depends on the wavelength, the above eigenvalue problem for a fixed Bloch vector turns out to be essentially nonlinear. It is convenient to reformulate it as a problem to find the modulus of the Bloch vector $k_B$ for a fixed frequency $\\omega$ and the direction of this vector $\\hat{\\boldsymbol{k}}_B$. Let us rewrite the equation by substituting the wavevectors in the form $\\boldsymbol{k}_{m}=k_{B}\\hat{\\boldsymbol{k}}_{B}+\\boldsymbol{G}_{m}$:\n",
    "\\begin{equation}\\tag{11}\n",
    "    \\begin{split}\n",
    "    & k_{B}^{2} \\left[\\sum_{n}f_{m-n}\\left(\\hat{\\boldsymbol{k}}_{B} \\times \\hat{\\boldsymbol{k}}_{B} \\times \\boldsymbol{h}_{n}\\right) \\right] + \\\\\n",
    "    & + k_{B} \\left[\\sum_{n} f_{m-n} \\left( \\boldsymbol{G}_{m} \\times \\hat{\\boldsymbol{k}}_{B} \\times \\boldsymbol{h}_{n} + \\hat{\\boldsymbol{e}}_{B} \\times \\boldsymbol{G}_{n} \\times \\boldsymbol{h}_{n} \\right) \\right] + \\\\\n",
    "    & + \\sum_{n} f_{m-n} \\left(\\boldsymbol{G}_{m} \\times\\boldsymbol{G}_{n} \\times \\boldsymbol{h}_{n} \\right) + \\omega^{2} \\mu_{0} \\boldsymbol{h}_{m} = 0\n",
    "    \\end{split}\n",
    "\\end{equation}\n",
    "This equation can be rewritten in the form of a quadratic eigenvalue problem\n",
    "\\begin{equation}\\tag{12}\n",
    "    k_{B}^{2}M_{2}\\boldsymbol{h} + k_{B}M_{1}\\boldsymbol{h} + M_{0}\\boldsymbol{h}=0\n",
    "\\end{equation}\n",
    "which can be reduced to a generalized eigenvalue problem of twice the size:\n",
    "\\begin{equation}\\tag{13}\n",
    "    \\left(\\begin{array}{cc} M_{0} & M_{1}\\\\ 0 & I \\end{array}\\right)\\left(\\begin{array}{c} \\boldsymbol{h}_1\\\\ \\boldsymbol{h}_2 \\end{array}\\right)=k_{B}\\left(\\begin{array}{cc} 0 & -M_{2}\\\\ I & 0 \\end{array}\\right)\\left(\\begin{array}{c} \\boldsymbol{h}_1\\\\ \\boldsymbol{h}_2 \\end{array}\\right)\n",
    "\\end{equation}\n",
    "The latter equation can be solved by standard functions present in all math packages."
   ]
  },
  {
   "cell_type": "markdown",
   "id": "b7152230",
   "metadata": {},
   "source": [
    "## 2D Photonic crystals\n",
    "\n",
    "In the case of two dimensions, the general relations discussed above are simplified, the Fourier decomposition needs to be performed only in the plane of the variable $\\boldsymbol{\\rho}=(x,y)^T$, the fields are invariant with respect to translations along the $Z$-axis perpendicular to the crystal plane. The periodic field function can be decomposed by two orthogonal polarization vectors\n",
    "\\begin{equation}\\tag{14}\n",
    "    \\boldsymbol{H}_{\\boldsymbol{k}} \\left(\\boldsymbol{\\rho}\\right) = \\hat{\\boldsymbol{e}}_{\\boldsymbol{k}}^{s} H_{\\boldsymbol{k}}^{s} \\left(\\boldsymbol{\\rho}\\right) + \\hat{\\boldsymbol{e}}_{\\boldsymbol{k}}^{p} H_{\\boldsymbol{k}}^{p} \\left(\\boldsymbol{\\rho}\\right)\n",
    "\\end{equation}\n",
    "where $\\hat{\\boldsymbol{e}}_{\\boldsymbol{k}}^{p} = \\hat{\\boldsymbol{e}}_{z}$, $\\hat{\\boldsymbol{e}}_{\\boldsymbol{k}}^{s} = (1/k) \\boldsymbol{k} \\times \\hat{\\boldsymbol{e}}_{z}$, so that $\\boldsymbol{k} \\cdot \\hat{\\boldsymbol{e}}_{z} = 0$. The Helmholtz equation reduces to\n",
    "\\begin{equation}\\tag{15}\n",
    "    \\sum_{n}f_{m-n} \\left[ \\boldsymbol{k}_{m} \\times \\boldsymbol{k}_{n} \\times \\left( \\hat{\\boldsymbol{e}}_{n}^{s} H_{\\boldsymbol{k},n}^{s} + \\hat{\\boldsymbol{e}}_{n}^{p} H_{\\boldsymbol{k},n}^{p} \\right) \\right] = - \\omega^{2} \\mu_{0} \\left( \\hat{\\boldsymbol{e}}_{m}^{s} H_{\\boldsymbol{k}m}^{s} + \\hat{\\boldsymbol{e}}_{m}^{p} H_{\\boldsymbol{k}m}^{p}\\right)\n",
    "\\end{equation}\n",
    "which, in turn, splits into two independent equations for the two polarizations:\n",
    "\\begin{equation}\\tag{16}\n",
    "    \\begin{split}\n",
    "    \\sum_{n} f_{m-n} \\left|\\boldsymbol{k}_{m}\\right| \\left|\\boldsymbol{k}_{n}\\right| H_{\\boldsymbol{k}n}^{s} = \\omega^{2} \\mu_{0} H_{\\boldsymbol{k}m}^{s} \\\\\n",
    "    \\sum_{n} f_{m-n} \\left(\\boldsymbol{k}_{m} \\cdot \\boldsymbol{k}_{n}\\right) H_{\\boldsymbol{k}n}^{p} = \\omega^{2} \\mu_{0} H_{\\boldsymbol{k}m}^{p}\n",
    "    \\end{split}\n",
    "\\end{equation}\n",
    "They can be solved either with respect to frequency or to the modulus of the wave vector."
   ]
  },
  {
   "cell_type": "markdown",
   "id": "8414096b",
   "metadata": {},
   "source": [
    "### References\n",
    "\n",
    "1. K. M. Ho, C. T. Chan, and C. M. Soukoulis, [Existence of a photonic gap in periodic dielectric structures](https://sci-hub.ru/https://journals.aps.org/prl/abstract/10.1103/PhysRevLett.65.3152), Phys. Rev. Lett. 65, 3152-3155 (1990)\n",
    "2. R. D. Meade, A. M. Rappe, K. D. Brommer, and J. D. Joannopoulos, [Accurate theoretical analysis of photonic band gap materials](https://sci-hub.ru/https://journals.aps.org/prb/abstract/10.1103/PhysRevB.48.8434), Phys. Rev. B 48, 8434-8437 (1993)\n",
    "3. S. G. Johnson and J. D. Joannopoulos, [Block iterative frequency-domain methods for Maxwell's equations in a plane wave basis](https://opg.optica.org/oe/abstract.cfm?uri=OE-8-3-173), Opt. Express 8, 173-190 (2001)\n",
    "4. J.D. Joannopoulos, S.G. Johnson, J.N. Winn, and R.D. Meade, [Photonic Crystals. Molding the Flow of Light (Second Edition)](), Princeton University Press (2011)"
   ]
  }
 ],
 "metadata": {
  "kernelspec": {
   "display_name": "Python 3",
   "language": "python",
   "name": "python3"
  },
  "language_info": {
   "codemirror_mode": {
    "name": "ipython",
    "version": 3
   },
   "file_extension": ".py",
   "mimetype": "text/x-python",
   "name": "python",
   "nbconvert_exporter": "python",
   "pygments_lexer": "ipython3",
   "version": "3.8.8"
  }
 },
 "nbformat": 4,
 "nbformat_minor": 5
}
