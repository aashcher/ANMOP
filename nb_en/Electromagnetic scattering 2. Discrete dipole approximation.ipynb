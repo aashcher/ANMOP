{
 "cells": [
  {
   "cell_type": "markdown",
   "id": "5a3ba2b9",
   "metadata": {},
   "source": [
    "MIT Licence\n",
    "\n",
    "© Alexey A. Shcherbakov, 2024"
   ]
  },
  {
   "cell_type": "markdown",
   "id": "00ffec2d",
   "metadata": {},
   "source": [
    "# Lecture 4.2. Electromangetic scattering. Discrete dipole approximation"
   ]
  },
  {
   "cell_type": "markdown",
   "id": "ab869914",
   "metadata": {},
   "source": [
    "Mie theory allows one to effectively calculate the scattering parameters on spherical particles, and its generalizations - on multilayer spherical particles. If the scatterer shape differs from spherical, the calculation is significantly more complicated. For non-spherical scatterers, a number of special methods have been proposed, including the discrete dipole approximation, the method of extended boundary conditions, the discrete source method, the invariant embedding method, and their various modifications.\n",
    "\n",
    "In this lecture, we will consider the Discrete Dipole Approximation method, which is often used to solve scientific and applied problems and has a number of effective implementations in the form of open source. The method is based on volume discretization and in various sources you can find it mentioned as the Method of Moments (for partitioning the volume), the Green's dyadic formalism, or simply the Volume Integral Equation method.\n",
    "\n",
    "We will consider scattering particles occupying a spatial region $V_s$ and located in a homogeneous isotropic medium, so that the permittivity in the entire space is given by the function\n",
    "$$ \\varepsilon(\\boldsymbol{r}) = \\begin{cases} \\varepsilon_m, & \\boldsymbol{r}\\notin V_s \\\\ \\varepsilon(\\boldsymbol{r}), & \\boldsymbol{r}\\in V_s \\end{cases} $$\n",
    "For simplicity, we will assume that the magnetic permeability is equal to the vacuum permeability $\\mu_0$ everywhere. Generalization of the method to the case of anisotropic, magnetic and bianisotropic media does not present any fundamental difficulties."
   ]
  },
  {
   "cell_type": "markdown",
   "id": "c6d62281",
   "metadata": {},
   "source": [
    "## Field calculation\n",
    "\n",
    "The discrete dipole approximation is based on a volume integral equation with the free space tensor Green's function, which is a solution of the Helmholtz vector equation with the wave number in free space surrounding the particle, $k_m = \\omega\\sqrt{\\varepsilon_m\\mu_0}$. We consider the particle as a change in the permittivity of a homogeneous space $\\Delta\\varepsilon=\\varepsilon(\\boldsymbol{r})-\\varepsilon_m$. Then the presence of the particle can be interpreted as an effective polarization current\n",
    "\\begin{equation}\n",
    "    \\boldsymbol{J}=-i\\omega\\Delta\\varepsilon\\boldsymbol{E}.\n",
    "\\end{equation}\n",
    "and use the Green's tensor function of free space. Let us write the equation for the integral with the principal value in mind, as was demonstrated in the introductory [lecture on Green's functions]()\n",
    "\\begin{equation}\\tag{1}\n",
    "    \\boldsymbol{E}\\left(\\boldsymbol{r}\\right) = \\boldsymbol{E}^{inc}\\left(\\boldsymbol{r}\\right) + k_{m}^{2}\\lim_{V_0\\rightarrow 0} \\intop_{V_s\\setminus V_0} \\mathcal{G}_{0} \\left(\\boldsymbol{r}-\\boldsymbol{r}'\\right) \\dfrac{\\Delta\\varepsilon\\left(\\boldsymbol{r}'\\right)}{\\varepsilon_{m}}\\boldsymbol{E}\\left(\\boldsymbol{r}'\\right)d^{3}\\boldsymbol{r}' - \\mathcal{L}(\\boldsymbol{r}, \\partial V_0) \\dfrac{\\Delta\\varepsilon\\left(\\boldsymbol{r}\\right)}{\\varepsilon_{m}}\\boldsymbol{E}\\left(\\boldsymbol{r}\\right)\n",
    "\\end{equation}\n",
    "Here $\\boldsymbol{E}^{inc}$ is the known incident field, and the tensor Green's function is explicitly\n",
    "\\begin{equation}\\tag{2}\n",
    "    \\mathcal{G}_0(\\boldsymbol{R}) = \\dfrac{e^{ikR}}{4\\pi R} \\left[ \\mathbb{I}\\left(1+\\dfrac{i}{kR}-\\dfrac{1}{k^{2}R^{2}}\\right)+\\hat{\\boldsymbol{e}}_r \\hat{\\boldsymbol{e}}_r^T \\left(\\dfrac{3}{k^{2}R^{2}} - \\dfrac{3i}{kR} - 1\\right)\\right]\n",
    "\\end{equation}\n",
    "where $\\boldsymbol{R} = \\boldsymbol{r}-\\boldsymbol{r}'$, $R = |\\boldsymbol{R}|$, $\\hat{\\boldsymbol{e}}_r = \\boldsymbol{R}/R$. The volume $V_0$ surrounds the point $\\boldsymbol{r}$. The tensor $\\mathcal{L}$ is sometimes called the depolarization tensor and has the following explicit form, depending on the shape of the surface of the excluded volume $V_0$:\n",
    "\\begin{equation}\\tag{2}\n",
    "    \\mathcal{L}\\left(\\boldsymbol{r},\\partial V_0\\right) = \\oint_{\\partial V_0}d^{2} \\boldsymbol{r}' \\hat{\\boldsymbol{n}}' \\dfrac{\\left(\\boldsymbol{r}'-\\boldsymbol{r}\\right)^{T}}{4\\pi\\left|\\boldsymbol{r}'-\\boldsymbol{r}\\right|^{3}}\n",
    "\\end{equation}\n",
    "\n",
    "To solve the Lippmann-Schwinger equation numerically, we divide the particle volume into electrically small non-intersecting volume cells $V_m$, usually of cubic shape, with the same volume $\\Delta V = a^3$, so that $V_s=\\bigcup_{k=1}^{N}V_{k}$, and the cell centers are located on a regular grid $\\boldsymbol{r}_k = ak_x\\hat{\\boldsymbol{e}}_x + ak_y\\hat{\\boldsymbol{e}}_y + ak_z\\hat{\\boldsymbol{e}}_z$, $k_{x,y,z}\\in\\mathbb{Z}$, that is, $k$ is a three-dimensional index for numbering along three spatial directions. Then, considering the field to be constant in the volume of each cell (which corresponds to the Galerkin method with delta functions $\\delta(\\boldsymbol{r}-\\boldsymbol{r}_k)$, taken as the base and test ones), we obtain the following equation for the fields in the cells:\n",
    "\\begin{equation}\\tag{3}\n",
    "    \\boldsymbol{E}\\left(\\boldsymbol{r}_k\\right) = \\boldsymbol{E}^{inc}\\left(\\boldsymbol{r}_k\\right) + k_{m}^{2} \\Delta V \\sum_{l=1,l\\neq k}^{N} \\mathcal{G}_{kl} \\dfrac{\\Delta\\varepsilon_l}{\\varepsilon_{m}} \\boldsymbol{E}_l + (\\mathcal{M}_k-\\mathcal{L}_k)  \\dfrac{\\Delta\\varepsilon_k}{\\varepsilon_{m}} \\boldsymbol{E}_k\n",
    "\\end{equation}\n",
    "Here we introduce the notations $\\boldsymbol{E}_k = \\boldsymbol{E}\\left(\\boldsymbol{r}_k\\right)$, $\\Delta\\varepsilon_k = \\Delta\\varepsilon(\\boldsymbol{r}_k)$, and $\\mathcal{G}_{kl} = \\mathcal{G}_{0} \\left(\\boldsymbol{r}_k-\\boldsymbol{r}_l\\right)$. Tensor\n",
    "\\begin{equation}\\tag{4}\n",
    "    \\mathcal{M}_k\\left(\\boldsymbol{r},\\Delta V\\right) = k_m^2 \\int_{\\Delta V}\\left[\\mathcal{G}_{0}\\left(\\boldsymbol{r}_k-\\boldsymbol{r}'\\right)-\\mathcal{G}_{s}\\left(\\boldsymbol{r}_{k}-\\boldsymbol{r}'\\right)\\right] d^{3}\\boldsymbol{r}'\n",
    "\\end{equation}\n",
    "can be found numerically, but in calculations where the size of $a\\ll\\lambda$ is large, it is often neglected altogether. Subtracting the static part of the Green's tensor $\\mathcal{G}_{s} = \\lim_{kR\\rightarrow 0} \\mathcal{G}_{0}$, which is explicitly written as $\\mathcal{G}_{s} = -(4\\pi k^2R^3)^{-1}(\\mathbb{I}-3\\hat{\\boldsymbol{e}}_R\\hat{\\boldsymbol{e}}_R^T)$, makes the integrand weakly singular.\n",
    "\n",
    "Equations (3) define a system of $3N$ self-consistent linear equations for the unknown fields in each cell. The system can be written in matrix-vector form as\n",
    "\\begin{equation}\\tag{5}\n",
    "    \\left(\\mathbb{I} - \\mathrm{A}\\right) \\boldsymbol{u} = \\boldsymbol{u}^{inc}\n",
    "\\end{equation}\n",
    "where the right-hand side $\\boldsymbol{u}^{inc} = \\{ E^{inc}_{\\alpha,k} \\}_{k=1}^N$, $\\alpha=x,y,z$, the unknown vector $\\boldsymbol{u} = \\{ E_{\\alpha,k} \\}_{k=1}^N$, and the elements of the matrix $A$ are given by equation (3):\n",
    "\\begin{equation}\\tag{6}\n",
    "    \\mathrm{A}_{kl} = k_m^2 \\Delta V \\dfrac{\\Delta\\varepsilon_{l}}{\\varepsilon_m}\\mathcal{G}_{kl} + \\delta_{kl}\\dfrac{\\Delta\\varepsilon_k}{\\varepsilon_m} \\left(\\mathcal{M}_k - \\mathcal{L}_k\\right)\n",
    "\\end{equation}\n",
    "\n",
    "In the presented formulation, the method is a method of moments. After solving system (5), the field at an arbitrary point in the near zone of the scattered field can be found using direct summation:\n",
    "\\begin{equation}\\tag{7}\n",
    "    \\boldsymbol{E}\\left(\\boldsymbol{r}\\right) = \\boldsymbol{E}^{inc}\\left(\\boldsymbol{r}\\right) + \\Delta V k_{m}^{2} \\sum_{k=1}^{N} \\mathcal{G}_{0}\\left(\\boldsymbol{r},\\boldsymbol{r}_{k}\\right) \\dfrac{\\Delta\\varepsilon_k}{\\varepsilon_m} \\boldsymbol{E}_k,\\thinspace\\boldsymbol{r}\\notin V_s\n",
    "\\end{equation}\n",
    "To find the amplitude of the field in the far zone in the direction specified by the vector $ \\hat{\\boldsymbol{e}}_r$, one should use the asymptotics of the Green's function\n",
    "\\begin{equation*}\n",
    "    \\mathcal{G}_{0}(\\boldsymbol{r}, \\boldsymbol{r}') \\sim \\left(\\mathbb{I} - \\hat{\\boldsymbol{e}}_r \\hat{\\boldsymbol{e}}_r^T\\right)\\dfrac{e^{ikr}}{4\\pi r}e^{-ik\\hat{\\boldsymbol{e}}_r\\cdot\\boldsymbol{r}'},\\;r\\gg r'\n",
    "\\end{equation*}\n",
    "what yields the scattered field representation\n",
    "\\begin{equation}\\tag{8}\n",
    "    \\boldsymbol{E}^{sca}\\left(\\hat{\\boldsymbol{e}}_r\\right) \\sim \\dfrac{\\exp\\left(ik_{b}r\\right)}{r}\\boldsymbol{F}^{sca}\\left(\\hat{\\boldsymbol{e}}_r\\right)\n",
    "\\end{equation}\n",
    "with the scattering amplitude \n",
    "\\begin{equation}\\tag{9}\n",
    "    \\boldsymbol{F}^{sca}\\left(\\hat{\\boldsymbol{e}}_r\\right) = -k_m^{2} \\dfrac{\\Delta V}{4\\pi} \\sum_{k} \\dfrac{\\Delta\\varepsilon_k}{\\varepsilon_m}\\exp\\left(-ik_m\\hat{\\boldsymbol{e}}_r\\cdot\\boldsymbol{r}_k\\right) \\hat{\\boldsymbol{e}}_r\\times\\hat{\\boldsymbol{e}}_r\\times\\boldsymbol{E}_k\n",
    "\\end{equation}\n",
    "\n",
    "Within the framework of the formulation of the discrete dipole method, instead of solving the equation for unknown fields, one can isolate the so-called exciting field in each cell by subtracting the diagonal term corresponding to the self-action in formula (3):\n",
    "\\begin{equation}\\tag{10}\n",
    "    \\boldsymbol{E}_k^{exc} = \\boldsymbol{E}_k - \\boldsymbol{E}_k^{self} = \\boldsymbol{E}_k-\\dfrac{\\Delta\\varepsilon_k}{\\varepsilon_m}\\left(k_m^{2}\\mathcal{M}_k-\\mathcal{L}_k\\right)\\boldsymbol{E}_k\n",
    "\\end{equation}\n",
    "Then the self-consistent system for this field will be written as\n",
    "\\begin{equation}\\tag{11}\n",
    "    \\boldsymbol{E}_k^{inc} = \\sum_l \\left(\\delta_{kl}+\\mathcal{G}_{kl} \\boldsymbol{\\alpha}_l\\right) \\boldsymbol{E}_l^{exc}\n",
    "\\end{equation}\n",
    "where the polarizability tensor is introduced\n",
    "\\begin{equation}\\tag{12}\n",
    "    \\boldsymbol{\\alpha}_k = \\dfrac{\\Delta\\varepsilon_k}{\\varepsilon_m}\\Delta V\\left[\\mathbb{I}-\\dfrac{\\Delta\\varepsilon_k}{\\varepsilon_m}\\left(k_m^2\\mathcal{M}_k-\\mathcal{L}_k\\right)\\right]^{-1}\n",
    "\\end{equation}\n",
    "relating the polarization vector and the exciting field in each cell:\n",
    "\\begin{equation}\\tag{13}\n",
    "    \\boldsymbol{P}_{k} = \\boldsymbol{\\alpha}_{k} \\boldsymbol{E}_{k}^{exc}\n",
    "\\end{equation}\n",
    "Note that the inversion in (13) refers to a diagonal matrix and therefore does not present computational complexity.\n",
    "The resulting equation can be formulated as an equation for the unknown polarizations:\n",
    "\\begin{equation}\\tag{14}\n",
    "    \\sum_{l}\\left( \\delta_{kl}\\boldsymbol{\\alpha}_{k}^{-1}+\\mathcal{G}_{kl} \\right)\\boldsymbol{P}_{l} = \\boldsymbol{E}_{k}^{inc}\n",
    "\\end{equation}\n",
    "In this formulation, the approach to calculating fields is called the discrete dipole approximation. The name is related to the fact that the simplest formulation of the method can be obtained based on the assumption that the response of each small volume cell is dipole, and it is required to calculate the interaction of all given dipoles with each other and with the external field."
   ]
  },
  {
   "cell_type": "markdown",
   "id": "7dd1df6d",
   "metadata": {},
   "source": [
    "## Cross-sections\n",
    "\n",
    "The cross sections can be found using the scattering amplitude (9). Differential scattering power\n",
    "\\begin{equation}\\tag{15}\n",
    "    \\frac{dP^{sca}}{d\\Omega} = \\frac{1}{2Z_m} |\\boldsymbol{F}^{sca}(\\hat{\\boldsymbol{e}}_r)|^2\n",
    "\\end{equation}\n",
    "Total scattering cross section\n",
    "\\begin{equation}\\tag{16}\n",
    "    C_{sca} = \\frac{1}{k_m^2} \\oint_{4\\pi} |\\boldsymbol{F}^{sca}(\\hat{\\boldsymbol{e}}_r)|^2 d\\Omega = \\frac{k_m^3}{E_{inc}^2} \\sum_{k,l} \\boldsymbol{P}_k^* \\cdot \\Im m \\{ \\mathcal{G}_{kl} \\} \\cdot \\boldsymbol{P}_l\n",
    "\\end{equation}\n",
    "where $E_{inc}$ is the amplitude of the incident plane wave field. The absorption cross section\n",
    "\\begin{equation}\\tag{17}\n",
    "    C_{abs} = -\\frac{k_m}{E_{inc}^2} \\sum_{k} \\Im m \\{ \\boldsymbol{E}_k^* \\cdot \\boldsymbol{P}_k^* \\}\n",
    "\\end{equation}\n",
    "and extinction cross section\n",
    "\\begin{equation}\\tag{18}\n",
    "    C_{ext} = -\\frac{k_m}{E_{inc}^2} \\sum_{k} \\Im m \\{ \\boldsymbol{E}_{inc,k}^* \\cdot \\boldsymbol{P}_k^* \\}\n",
    "\\end{equation}\n",
    "where $ \\boldsymbol{E}_{inc,k}$ is the vector complex amplitude of the incident plane wave field in the $k$-th cell."
   ]
  },
  {
   "cell_type": "markdown",
   "id": "05d2ae2e",
   "metadata": {},
   "source": [
    "### References\n",
    "\n",
    "1. A Lakhtakia, [Strong and weak forms of the method of moments and the coupled dipole method for scattering of time-harmonic electromagnetic fields](https://sites.esm.psu.edu/~axl4/lakhtakia/Documents/No168(IJMPC).pdf), International Journal of Modern Physics C 3 , 583-603 (1992)\n",
    "2. M. A. Yurkin. Chapter 9: [Discrete dipole approximation](https://scattering.ru/books/Yurkin%20-%202023%20-%20Discrete%20dipole%20approximation.pdf). Light, Plasmonics and Particles. Elsevier Science Publishing Company, Inc., 2023. стр. 167-198 (Light, Plasmonics and Particles).\n",
    "3. [ADDA Software](https://github.com/adda-team/adda)"
   ]
  }
 ],
 "metadata": {
  "kernelspec": {
   "display_name": "Python 3",
   "language": "python",
   "name": "python3"
  },
  "language_info": {
   "codemirror_mode": {
    "name": "ipython",
    "version": 3
   },
   "file_extension": ".py",
   "mimetype": "text/x-python",
   "name": "python",
   "nbconvert_exporter": "python",
   "pygments_lexer": "ipython3",
   "version": "3.8.8"
  }
 },
 "nbformat": 4,
 "nbformat_minor": 5
}
