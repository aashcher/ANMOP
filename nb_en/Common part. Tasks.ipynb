{
 "cells": [
  {
   "cell_type": "markdown",
   "id": "9a53e7f1",
   "metadata": {},
   "source": [
    "MIT Licence\n",
    "\n",
    "© Alexey A. Shcherbakov, 2024"
   ]
  },
  {
   "cell_type": "markdown",
   "id": "d702e462",
   "metadata": {},
   "source": [
    "# Common part. Tasks"
   ]
  },
  {
   "cell_type": "markdown",
   "id": "aa9182f9",
   "metadata": {},
   "source": [
    "## Engineering and Numerical Tracks\n",
    "\n",
    "### Common problems\n",
    "\n",
    "1en. Derive the momentum conservation law for an anisotropic medium with electrical sources and charges, expressed through the Maxwell stress tensor and the field momentum density $\\boldsymbol{G} = \\boldsymbol{D}\\times\\boldsymbol{B}$\n",
    "\n",
    "2en. Derive an expression for the Poynting vector $S_z$ projection in a homogeneous flat layer, through the amplitudes of plane waves in this layer.\n",
    "\n",
    "3en. Obtain an expression for the effective plane wave amplitudes of a planar source in the situation when this source is surrounded by planar structures with known scattering matrices $S^{(1,2)}$. Source amplitudes in a homogeneous isotropic medium are known.\n",
    "\n",
    "4en. Show that the vector waves $\\boldsymbol{M}$ and $\\boldsymbol{N}$ satisfy the vector Helmholtz equation provided that the scalar function from which they are formed satisfies the scalar Helmholtz equation.\n",
    "\n",
    "5en. Consider a plane linearly polarized wave propagating in vacuum along the $z$ axis of the Cartesian coordinate system. Let $Z(z) = E(z)/\\eta_0H(z)$ and $Y(z)=1/Z(z)$ be the normalized wave impedance and conductivity. Here $\\eta_0=\\sqrt{\\mu_0/\\varepsilon_0}$. How are these quantities related at some points $z_1$ and $z_2$ such that $z_2-z_1=\\ell$?\n",
    "\n",
    "6en. Plot a map of the reflection coefficient for a plane wave incidenting at plane dielectric layer with a refractive index of $n=1.5$, located in the air, in the coordinates of wavelength - projection of the wave vector of the wave onto the plane of the layer for all possible incidence angles and wavelengths from tenths of the layer thickness to several thicknesses.\n",
    "\n",
    "### Engineering track\n",
    "\n",
    "7e. The simplest antireflective coating is a quarter-wave plate. Show that in the case of normal incidence its refractive index must satisfy the condition $n=\\sqrt{n_an_b}$, $n_{a,b}$ are the refractive indices of the media surrounding the plate. Estimate the proportion of energy losses due to reflection if the plate thickness differs from the calculated one by 1%.\n",
    "\n",
    "8e. Consider the calculation of quasinormal modes and the Green's function for a plane dielectric layer. Download a code from the supplementary material to the paper by Philip Trøst Kristensen, Kathrin Herrmann, Francesco Intravaia, and Kurt Busch, [Modeling electromagnetic resonators using quasinormal modes](https://opg.optica.org/aop/fulltext.cfm?uri=aop-12-3-612&id=434464), Adv. Opt. Photon. 12, 612–708 (2020). Investigate the approximation of the Green's function using quasinormal modes by varying the number of modes in the expansion. Reproduce Figure 9 from the paper. Demonstrate the divergence of the expansion as $x\\rightarrow\\infty$.\n",
    "\n",
    "### Numerical track\n",
    "\n",
    "7n. Consider the application of the scattering and transfer matrix method to the analysis of the excitation of plasmon and waveguide modes in the configuration shown in the figure: a 6.5 μm thick nematic liquid crystal layer is located between two prisms with a 40 nm thick metal layer (to excite surface plasmon polaritons) and a 25 nm thick dielectric layer (to fix the orientation of the liquid crystal director in the absence of voltage) deposited on the surface. Using this setup, the orientation of the liquid crystal director can be measured. To calculate the reflection, generalize the S- and T-matrix methods in the plane wave basis to the case of an anisotropic layer of a uniaxial medium. Take the ordinary and extraordinary refractive indices to be 3.024+0.0004i and 2.3058+0ю0003i. Calculate the angular dependence of the reflection coefficient for different directions of the crystal axis, compare the results obtained by the S- and T-matrix methods. The wavelength of the incident p-polarized radiation is $\\lambda=0.6328$~nm. The refractive index of the prism is $n_p=1.8$, the permittivity of silver is $n_{Ag} = -17.82+0.77i$, the refractive index of the dielectric layer is $2.234+0.0045i$.\n",
    "\n",
    "<figure>\n",
    "    <center>\n",
    "    <img src=\"../pic/tasks_1_1.png\" width=\"300\" align=\"center\"/>\n",
    "    </center>\n",
    "</figure>\n",
    "\n",
    "8n. Consider the Cauchy problem for calculating the amplitude reflection coefficient of a flat inhomogeneous layer. Derive an equation for the corresponding reflection coefficient. Write a program to solve these equations using the Runge-Kutta methods of the second and fourth orders. Consider a layer with a sinusoidally changing refractive index. Plot graphs of the dependence of the calculation time and the number of partitions on the layer thickness and the refractive index contrast in the layer for the specified methods, as well as the scattering matrix and transfer matrix methods. What conclusions can be drawn from the data obtained?"
   ]
  },
  {
   "cell_type": "markdown",
   "id": "9d122178",
   "metadata": {},
   "source": [
    "## Theoretical track\n",
    "\n",
    "1t. Derive conditions on the material tensors in the Tellegen relation for a Lorentz-reciprocal medium.\n",
    "\n",
    "2t. Write down in explicit form in Cartesian coordinates the \"magnetic\" Green's function, that is, the Green's function that allows one to obtain the electric field of magnetic sources, or the magnetic field of electric sources.\n",
    "\n",
    "3t. Show the correspondence between the asymptotic behavior of vector spherical waves at infinity and TE/TM polarized plane waves.\n",
    "\n",
    "4t. Derive reflection coefficients for vector spherical waves at a perfectly conducting spherical boundary.\n",
    "\n",
    "5t. Derive an expression for the radial projection of the Poynting vector in a homogeneous isotropic spherical layer through the amplitudes of the expansion of the field in the layer into spherical waves.\n",
    "\n",
    "6t. Derive an explicit form of the tensor $\\mathcal{L}$ in Cartesian coordinates by subtracting an infinitesimal cubic volume containing a singular point in the volume integral equation for the electric field:\n",
    "$$ \\lim_{V_{\\delta}\\rightarrow0} \\dfrac{1}{4\\pi k_{0}^{2}} \\oint_{S_{\\delta}} \\dfrac{\\hat{n}\\hat{e}_{R'}}{R'^{2}}\\boldsymbol{J}\\left(\\boldsymbol{r}'\\right)dS' = \\dfrac{1}{k_{0}^{2}} \\mathcal{L}\\boldsymbol{J}\\left(\\boldsymbol{r}\\right)$$\n",
    "\n",
    "7t. Integrate over $k_z$ under condition $k_0=const$\n",
    "$$ \\iiint_{-\\infty}^{\\infty} d^{3} \\boldsymbol{k}e^{i\\boldsymbol{k}\\left(\\boldsymbol{r}-\\boldsymbol{r}'\\right)}\\left[\\dfrac{\\mathbb{I}k_{0}^{2}-\\boldsymbol{k}\\boldsymbol{k}}{k_{0}^{2}\\left(k^{2}-k_{0}^{2}\\right)}+\\dfrac{\\hat{z}\\hat{z}}{k_{0}^{2}}\\right] $$\n",
    "\n",
    "8t. Consider a flat inhomogeneous layer in the region $-h/2\\leq z\\leq h/2$. What are the amplitudes of plane waves in the plane $z=z_1$ excited by a source located in the plane $z=z_2$ if $-h/2\\leq z_{1,2}\\leq h/2$? The scattering matrices between the given layers and the layer boundaries are assumed to be known. Using this result, write down the elements of the Green's function expanded in plane waves for s-polarization for an arbitrary planar multilayer structure consisting of a finite number of homogeneous isotropic layers."
   ]
  }
 ],
 "metadata": {
  "kernelspec": {
   "display_name": "Python 3",
   "language": "python",
   "name": "python3"
  },
  "language_info": {
   "codemirror_mode": {
    "name": "ipython",
    "version": 3
   },
   "file_extension": ".py",
   "mimetype": "text/x-python",
   "name": "python",
   "nbconvert_exporter": "python",
   "pygments_lexer": "ipython3",
   "version": "3.8.8"
  }
 },
 "nbformat": 4,
 "nbformat_minor": 5
}
